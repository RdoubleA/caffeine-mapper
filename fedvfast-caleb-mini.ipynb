{
 "cells": [
  {
   "cell_type": "markdown",
   "metadata": {},
   "source": [
    "# Fed vs. fasted: comparing RSNs in giant Mappers"
   ]
  },
  {
   "cell_type": "markdown",
   "metadata": {},
   "source": [
    "Let's recreate Figure 4 in Poldrack et al. 2015, Nature Communications, using Mapper!"
   ]
  },
  {
   "cell_type": "code",
   "execution_count": 1,
   "metadata": {},
   "outputs": [],
   "source": [
    "%load_ext autoreload\n",
    "%autoreload 2"
   ]
  },
  {
   "cell_type": "code",
   "execution_count": 2,
   "metadata": {},
   "outputs": [],
   "source": [
    "from utils import *"
   ]
  },
  {
   "cell_type": "code",
   "execution_count": 3,
   "metadata": {},
   "outputs": [],
   "source": [
    "%matplotlib inline"
   ]
  },
  {
   "cell_type": "markdown",
   "metadata": {},
   "source": [
    "## Load data"
   ]
  },
  {
   "cell_type": "code",
   "execution_count": 4,
   "metadata": {},
   "outputs": [
    {
     "name": "stderr",
     "output_type": "stream",
     "text": [
      "INFO:load_data:load_scrubbed(**{'n_sessions': 10, 'merge': True, 'apply_tmask': True, 'apply_rmask': True, 'rmask_kwds': {'n': 5, 'minor': False}, 'zscore': False})\n",
      "INFO:load_data:Loading data...\n",
      "INFO:root:  [+] session: 0, file: sub014.txt\n",
      "INFO:root:      keeping: 505 (time points)\n",
      "INFO:root:      keeping: 437 (regions)\n",
      "INFO:root:  [+] session: 1, file: sub015.txt\n",
      "INFO:root:      keeping: 508 (time points)\n",
      "INFO:root:      keeping: 437 (regions)\n",
      "INFO:root:  [+] session: 2, file: sub016.txt\n",
      "INFO:root:      keeping: 508 (time points)\n",
      "INFO:root:      keeping: 437 (regions)\n",
      "INFO:root:  [+] session: 3, file: sub017.txt\n",
      "INFO:root:      keeping: 504 (time points)\n",
      "INFO:root:      keeping: 437 (regions)\n",
      "INFO:root:  [+] session: 4, file: sub018.txt\n",
      "INFO:root:      keeping: 508 (time points)\n",
      "INFO:root:      keeping: 437 (regions)\n",
      "INFO:root:  [+] session: 5, file: sub019.txt\n",
      "INFO:root:      keeping: 513 (time points)\n",
      "INFO:root:      keeping: 437 (regions)\n",
      "INFO:root:  [+] session: 6, file: sub020.txt\n",
      "INFO:root:      keeping: 446 (time points)\n",
      "INFO:root:      keeping: 437 (regions)\n",
      "INFO:root:  [+] session: 7, file: sub021.txt\n",
      "INFO:root:      keeping: 501 (time points)\n",
      "INFO:root:      keeping: 437 (regions)\n",
      "INFO:root:  [+] session: 8, file: sub022.txt\n",
      "INFO:root:      keeping: 511 (time points)\n",
      "INFO:root:      keeping: 437 (regions)\n",
      "INFO:root:  [+] session: 9, file: sub023.txt\n",
      "INFO:root:      keeping: 401 (time points)\n",
      "INFO:root:      keeping: 437 (regions)\n"
     ]
    }
   ],
   "source": [
    "sessions = load_scrubbed(n_sessions=10,  merge=True,#False,\n",
    "    apply_tmask=True,\n",
    "    apply_rmask=True, rmask_kwds=dict(n=5, minor=False),\n",
    "    zscore=False\n",
    "    )"
   ]
  },
  {
   "cell_type": "markdown",
   "metadata": {},
   "source": [
    "### Clean data"
   ]
  },
  {
   "cell_type": "markdown",
   "metadata": {},
   "source": [
    "Load temporal masks and remove TRs with excessive motion. Additionally, remove parcels that do not belong to major RSNs."
   ]
  },
  {
   "cell_type": "code",
   "execution_count": 5,
   "metadata": {},
   "outputs": [
    {
     "name": "stdout",
     "output_type": "stream",
     "text": [
      "            1.0 => day_of_week_0    x.shape: (1517, 437)  RSN.shape: (1517, 5)\n",
      "            2.0 => fasted           x.shape: (1532, 437)  RSN.shape: (1532, 5)\n",
      "            4.0 => fed              x.shape: (1856, 437)  RSN.shape: (1856, 5)\n",
      "splits:  dict_keys(['day_of_week_0', 'fasted', 'fed'])\n"
     ]
    }
   ],
   "source": [
    "splits = get_data_splits(sessions, zscore=True, groupby='day_of_week', groups={2:'fasted', 4:'fed'}, density=0.02)\n",
    "\n",
    "print('splits: ', splits.keys())"
   ]
  },
  {
   "cell_type": "markdown",
   "metadata": {},
   "source": [
    "## Generate $MAPPER$ graphs"
   ]
  },
  {
   "cell_type": "markdown",
   "metadata": {},
   "source": [
    "### Start local server for visualization"
   ]
  },
  {
   "cell_type": "code",
   "execution_count": 6,
   "metadata": {},
   "outputs": [
    {
     "name": "stdout",
     "output_type": "stream",
     "text": [
      "Starting job # 0 in a separate thread.\n"
     ]
    }
   ],
   "source": [
    "%%bash --bg\n",
    "\n",
    "python3 -m http.server 8800"
   ]
  },
  {
   "cell_type": "markdown",
   "metadata": {},
   "source": [
    "### Run Mapper in temporal space - create one super graph for both fed and fasted"
   ]
  },
  {
   "cell_type": "markdown",
   "metadata": {},
   "source": [
    "#### (split = fed)"
   ]
  },
  {
   "cell_type": "code",
   "execution_count": 7,
   "metadata": {},
   "outputs": [
    {
     "name": "stdout",
     "output_type": "stream",
     "text": [
      "Running mapper on fed data...\n",
      "KeplerMapper()\n",
      "Mapping on data shaped (1856, 437) using lens shaped (1856, 2)\n",
      "\n",
      "Creating 100 hypercubes.\n",
      "\n",
      "Created 261 edges and 85 nodes in 0:00:00.690450.\n"
     ]
    },
    {
     "data": {
      "text/html": [
       "<table border=\"1\" class=\"dataframe\">\n",
       "  <thead>\n",
       "    <tr style=\"text-align: right;\">\n",
       "      <th>label</th>\n",
       "      <th>group</th>\n",
       "      <th>value</th>\n",
       "      <th>row_count</th>\n",
       "    </tr>\n",
       "  </thead>\n",
       "  <tbody>\n",
       "    <tr>\n",
       "      <td>Cingulo_opercular</td>\n",
       "      <td>0</td>\n",
       "      <td>38</td>\n",
       "      <td>1855</td>\n",
       "    </tr>\n",
       "    <tr>\n",
       "      <td>Frontoparietal_1</td>\n",
       "      <td>1</td>\n",
       "      <td>38</td>\n",
       "      <td>1855</td>\n",
       "    </tr>\n",
       "    <tr>\n",
       "      <td>Somatomotor</td>\n",
       "      <td>2</td>\n",
       "      <td>38</td>\n",
       "      <td>1855</td>\n",
       "    </tr>\n",
       "    <tr>\n",
       "      <td>Visual_2</td>\n",
       "      <td>3</td>\n",
       "      <td>38</td>\n",
       "      <td>1855</td>\n",
       "    </tr>\n",
       "    <tr>\n",
       "      <td>DMN</td>\n",
       "      <td>4</td>\n",
       "      <td>38</td>\n",
       "      <td>1855</td>\n",
       "    </tr>\n",
       "  </tbody>\n",
       "</table>"
      ],
      "text/plain": [
       "<IPython.core.display.HTML object>"
      ]
     },
     "metadata": {},
     "output_type": "display_data"
    }
   ],
   "source": [
    "# Run Mapper/DyNeuSR\n",
    "print('Running mapper on fed data...')\n",
    "results_fed = run_mapper(splits.fed.X, splits.fed.RSN, verbose=1, cover=km.Cover(10,0.67))"
   ]
  },
  {
   "cell_type": "code",
   "execution_count": 8,
   "metadata": {},
   "outputs": [
    {
     "name": "stdout",
     "output_type": "stream",
     "text": [
      "[Force Graph] http://localhost:8800/results/fed_super_n=10.html\n"
     ]
    },
    {
     "data": {
      "text/html": [
       "\n",
       "<style>\n",
       "  .container { width:80% !important; margin:auto }\n",
       "  .output_scroll {height: 80px !important;}\n",
       "</style>\n"
      ],
      "text/plain": [
       "<IPython.core.display.HTML object>"
      ]
     },
     "metadata": {},
     "output_type": "display_data"
    },
    {
     "data": {
      "text/html": [
       "\n",
       "        <iframe\n",
       "            width=\"100%\"\n",
       "            height=\"800\"\n",
       "            src=\"http://localhost:8800/results/fed_super_n=10.html?frameBorder=0\"\n",
       "            frameborder=\"0\"\n",
       "            allowfullscreen\n",
       "        ></iframe>\n",
       "        "
      ],
      "text/plain": [
       "<IPython.lib.display.IFrame at 0x11f0699e8>"
      ]
     },
     "metadata": {},
     "output_type": "display_data"
    },
    {
     "data": {
      "text/plain": [
       "DyNeuGraph()"
      ]
     },
     "execution_count": 8,
     "metadata": {},
     "output_type": "execute_result"
    },
    {
     "data": {
      "text/plain": [
       "<Figure size 432x288 with 0 Axes>"
      ]
     },
     "metadata": {},
     "output_type": "display_data"
    }
   ],
   "source": [
    "# Visualize DyNeuGraph\n",
    "results_fed['dG'].visualize(path_html='results/fed_super_n=10.html', show=True, reset=True, static=False, PORT=8800)"
   ]
  },
  {
   "cell_type": "markdown",
   "metadata": {},
   "source": [
    "#### (split = fasted)"
   ]
  },
  {
   "cell_type": "code",
   "execution_count": 9,
   "metadata": {},
   "outputs": [
    {
     "name": "stdout",
     "output_type": "stream",
     "text": [
      "Running mapper on fasted data...\n",
      "KeplerMapper()\n",
      "Mapping on data shaped (1532, 437) using lens shaped (1532, 2)\n",
      "\n",
      "Creating 100 hypercubes.\n",
      "\n",
      "Created 252 edges and 85 nodes in 0:00:00.417108.\n"
     ]
    },
    {
     "data": {
      "text/html": [
       "<table border=\"1\" class=\"dataframe\">\n",
       "  <thead>\n",
       "    <tr style=\"text-align: right;\">\n",
       "      <th>label</th>\n",
       "      <th>group</th>\n",
       "      <th>value</th>\n",
       "      <th>row_count</th>\n",
       "    </tr>\n",
       "  </thead>\n",
       "  <tbody>\n",
       "    <tr>\n",
       "      <td>Cingulo_opercular</td>\n",
       "      <td>0</td>\n",
       "      <td>31</td>\n",
       "      <td>1531</td>\n",
       "    </tr>\n",
       "    <tr>\n",
       "      <td>Frontoparietal_1</td>\n",
       "      <td>1</td>\n",
       "      <td>31</td>\n",
       "      <td>1531</td>\n",
       "    </tr>\n",
       "    <tr>\n",
       "      <td>Somatomotor</td>\n",
       "      <td>2</td>\n",
       "      <td>31</td>\n",
       "      <td>1531</td>\n",
       "    </tr>\n",
       "    <tr>\n",
       "      <td>Visual_2</td>\n",
       "      <td>3</td>\n",
       "      <td>31</td>\n",
       "      <td>1531</td>\n",
       "    </tr>\n",
       "    <tr>\n",
       "      <td>DMN</td>\n",
       "      <td>4</td>\n",
       "      <td>31</td>\n",
       "      <td>1531</td>\n",
       "    </tr>\n",
       "  </tbody>\n",
       "</table>"
      ],
      "text/plain": [
       "<IPython.core.display.HTML object>"
      ]
     },
     "metadata": {},
     "output_type": "display_data"
    }
   ],
   "source": [
    "# Run Mapper/DyNeuSR\n",
    "print('Running mapper on fasted data...')\n",
    "results_fast = run_mapper(splits.fasted.X, splits.fasted.RSN, verbose=1, cover=km.Cover(10,0.67))"
   ]
  },
  {
   "cell_type": "code",
   "execution_count": 10,
   "metadata": {},
   "outputs": [
    {
     "name": "stdout",
     "output_type": "stream",
     "text": [
      "[Force Graph] http://localhost:8800/results/fast_super_n=10.html\n"
     ]
    },
    {
     "data": {
      "text/html": [
       "\n",
       "<style>\n",
       "  .container { width:80% !important; margin:auto }\n",
       "  .output_scroll {height: 80px !important;}\n",
       "</style>\n"
      ],
      "text/plain": [
       "<IPython.core.display.HTML object>"
      ]
     },
     "metadata": {},
     "output_type": "display_data"
    },
    {
     "data": {
      "text/html": [
       "\n",
       "        <iframe\n",
       "            width=\"100%\"\n",
       "            height=\"800\"\n",
       "            src=\"http://localhost:8800/results/fast_super_n=10.html?frameBorder=0\"\n",
       "            frameborder=\"0\"\n",
       "            allowfullscreen\n",
       "        ></iframe>\n",
       "        "
      ],
      "text/plain": [
       "<IPython.lib.display.IFrame at 0x11ee17278>"
      ]
     },
     "metadata": {},
     "output_type": "display_data"
    },
    {
     "data": {
      "text/plain": [
       "DyNeuGraph()"
      ]
     },
     "execution_count": 10,
     "metadata": {},
     "output_type": "execute_result"
    },
    {
     "data": {
      "text/plain": [
       "<Figure size 432x288 with 0 Axes>"
      ]
     },
     "metadata": {},
     "output_type": "display_data"
    }
   ],
   "source": [
    "# Visualize DyNeuGraph\n",
    "results_fast['dG'].visualize(path_html='results/fast_super_n=10.html', show=True, reset=True, static=False, PORT=8800)"
   ]
  },
  {
   "cell_type": "markdown",
   "metadata": {},
   "source": [
    "### Run Mapper in anatomical space - create one super graph for both fed and fasted"
   ]
  },
  {
   "cell_type": "code",
   "execution_count": null,
   "metadata": {},
   "outputs": [],
   "source": []
  }
 ],
 "metadata": {
  "kernelspec": {
   "display_name": "Python 3",
   "language": "python",
   "name": "python3"
  },
  "language_info": {
   "codemirror_mode": {
    "name": "ipython",
    "version": 3
   },
   "file_extension": ".py",
   "mimetype": "text/x-python",
   "name": "python",
   "nbconvert_exporter": "python",
   "pygments_lexer": "ipython3",
   "version": "3.6.6"
  },
  "toc": {
   "base_numbering": 1,
   "nav_menu": {},
   "number_sections": true,
   "sideBar": true,
   "skip_h1_title": false,
   "title_cell": "Table of Contents",
   "title_sidebar": "Contents",
   "toc_cell": false,
   "toc_position": {},
   "toc_section_display": true,
   "toc_window_display": false
  },
  "varInspector": {
   "cols": {
    "lenName": 16,
    "lenType": 16,
    "lenVar": 40
   },
   "kernels_config": {
    "python": {
     "delete_cmd_postfix": "",
     "delete_cmd_prefix": "del ",
     "library": "var_list.py",
     "varRefreshCmd": "print(var_dic_list())"
    },
    "r": {
     "delete_cmd_postfix": ") ",
     "delete_cmd_prefix": "rm(",
     "library": "var_list.r",
     "varRefreshCmd": "cat(var_dic_list()) "
    }
   },
   "types_to_exclude": [
    "module",
    "function",
    "builtin_function_or_method",
    "instance",
    "_Feature"
   ],
   "window_display": false
  }
 },
 "nbformat": 4,
 "nbformat_minor": 2
}
