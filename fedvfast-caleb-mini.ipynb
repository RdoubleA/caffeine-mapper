{
 "cells": [
  {
   "cell_type": "markdown",
   "metadata": {},
   "source": [
    "# Fed vs. fasted: comparing RSNs in giant Mappers"
   ]
  },
  {
   "cell_type": "markdown",
   "metadata": {},
   "source": [
    "Let's recreate Figure 4 in Poldrack et al. 2015, Nature Communications, using Mapper!"
   ]
  },
  {
   "cell_type": "code",
   "execution_count": 1,
   "metadata": {},
   "outputs": [],
   "source": [
    "%load_ext autoreload\n",
    "%autoreload 2"
   ]
  },
  {
   "cell_type": "code",
   "execution_count": 2,
   "metadata": {},
   "outputs": [],
   "source": [
    "from utils import *"
   ]
  },
  {
   "cell_type": "code",
   "execution_count": 3,
   "metadata": {},
   "outputs": [],
   "source": [
    "%matplotlib inline"
   ]
  },
  {
   "cell_type": "markdown",
   "metadata": {},
   "source": [
    "## Load data"
   ]
  },
  {
   "cell_type": "code",
   "execution_count": 4,
   "metadata": {},
   "outputs": [
    {
     "name": "stderr",
     "output_type": "stream",
     "text": [
      "INFO:load_data:load_scrubbed(**{'n_sessions': 10, 'merge': True, 'apply_tmask': True, 'apply_rmask': True, 'rmask_kwds': {'n': 5, 'minor': False}, 'zscore': False})\n",
      "INFO:load_data:Loading data...\n",
      "INFO:root:  [+] session: 0, file: sub014.txt\n",
      "INFO:root:      keeping: 505 (time points)\n",
      "INFO:root:      keeping: 437 (regions)\n",
      "INFO:root:  [+] session: 1, file: sub015.txt\n",
      "INFO:root:      keeping: 508 (time points)\n",
      "INFO:root:      keeping: 437 (regions)\n",
      "INFO:root:  [+] session: 2, file: sub016.txt\n",
      "INFO:root:      keeping: 508 (time points)\n",
      "INFO:root:      keeping: 437 (regions)\n",
      "INFO:root:  [+] session: 3, file: sub017.txt\n",
      "INFO:root:      keeping: 504 (time points)\n",
      "INFO:root:      keeping: 437 (regions)\n",
      "INFO:root:  [+] session: 4, file: sub018.txt\n",
      "INFO:root:      keeping: 508 (time points)\n",
      "INFO:root:      keeping: 437 (regions)\n",
      "INFO:root:  [+] session: 5, file: sub019.txt\n",
      "INFO:root:      keeping: 513 (time points)\n",
      "INFO:root:      keeping: 437 (regions)\n",
      "INFO:root:  [+] session: 6, file: sub020.txt\n",
      "INFO:root:      keeping: 446 (time points)\n",
      "INFO:root:      keeping: 437 (regions)\n",
      "INFO:root:  [+] session: 7, file: sub021.txt\n",
      "INFO:root:      keeping: 501 (time points)\n",
      "INFO:root:      keeping: 437 (regions)\n",
      "INFO:root:  [+] session: 8, file: sub022.txt\n",
      "INFO:root:      keeping: 511 (time points)\n",
      "INFO:root:      keeping: 437 (regions)\n",
      "INFO:root:  [+] session: 9, file: sub023.txt\n",
      "INFO:root:      keeping: 401 (time points)\n",
      "INFO:root:      keeping: 437 (regions)\n"
     ]
    }
   ],
   "source": [
    "sessions = load_scrubbed(n_sessions=10,  merge=True,#False,\n",
    "    apply_tmask=True,\n",
    "    apply_rmask=True, rmask_kwds=dict(n=5, minor=False),\n",
    "    zscore=False\n",
    "    )"
   ]
  },
  {
   "cell_type": "markdown",
   "metadata": {},
   "source": [
    "### Clean data"
   ]
  },
  {
   "cell_type": "markdown",
   "metadata": {},
   "source": [
    "Load temporal masks and remove TRs with excessive motion. Additionally, remove parcels that do not belong to major RSNs."
   ]
  },
  {
   "cell_type": "code",
   "execution_count": 5,
   "metadata": {
    "scrolled": true
   },
   "outputs": [
    {
     "name": "stdout",
     "output_type": "stream",
     "text": [
      "            1.0 => day_of_week_0    x.shape: (1517, 437)  RSN.shape: (1517, 5)\n",
      "            2.0 => fasted           x.shape: (1532, 437)  RSN.shape: (1532, 5)\n",
      "            4.0 => fed              x.shape: (1856, 437)  RSN.shape: (1856, 5)\n",
      "splits:  dict_keys(['day_of_week_0', 'fasted', 'fed'])\n"
     ]
    }
   ],
   "source": [
    "splits = get_data_splits(sessions, zscore=True, groupby='day_of_week', groups={2:'fasted', 4:'fed'}, density=0.02)\n",
    "\n",
    "print('splits: ', splits.keys())"
   ]
  },
  {
   "cell_type": "markdown",
   "metadata": {},
   "source": [
    "## Generate $MAPPER$ graphs"
   ]
  },
  {
   "cell_type": "markdown",
   "metadata": {},
   "source": [
    "### Start local server for visualization"
   ]
  },
  {
   "cell_type": "code",
   "execution_count": 6,
   "metadata": {},
   "outputs": [
    {
     "name": "stdout",
     "output_type": "stream",
     "text": [
      "Starting job # 0 in a separate thread.\n"
     ]
    }
   ],
   "source": [
    "%%bash --bg\n",
    "\n",
    "python3 -m http.server 8800"
   ]
  },
  {
   "cell_type": "markdown",
   "metadata": {},
   "source": [
    "### Run Mapper in temporal space - create one super graph for both fed and fasted"
   ]
  },
  {
   "cell_type": "markdown",
   "metadata": {},
   "source": [
    "#### (split = fed)"
   ]
  },
  {
   "cell_type": "code",
   "execution_count": 24,
   "metadata": {},
   "outputs": [
    {
     "name": "stdout",
     "output_type": "stream",
     "text": [
      "Running mapper on fed data...\n",
      "KeplerMapper()\n",
      "Mapping on data shaped (1856, 437) using lens shaped (1856, 2)\n",
      "\n",
      "Creating 100 hypercubes.\n",
      "\n",
      "Created 159 edges and 79 nodes in 0:00:00.325349.\n"
     ]
    },
    {
     "data": {
      "text/html": [
       "<table border=\"1\" class=\"dataframe\">\n",
       "  <thead>\n",
       "    <tr style=\"text-align: right;\">\n",
       "      <th>label</th>\n",
       "      <th>group</th>\n",
       "      <th>value</th>\n",
       "      <th>row_count</th>\n",
       "    </tr>\n",
       "  </thead>\n",
       "  <tbody>\n",
       "    <tr>\n",
       "      <td>Cingulo_opercular</td>\n",
       "      <td>0</td>\n",
       "      <td>38</td>\n",
       "      <td>1855</td>\n",
       "    </tr>\n",
       "    <tr>\n",
       "      <td>Frontoparietal_1</td>\n",
       "      <td>1</td>\n",
       "      <td>38</td>\n",
       "      <td>1855</td>\n",
       "    </tr>\n",
       "    <tr>\n",
       "      <td>Somatomotor</td>\n",
       "      <td>2</td>\n",
       "      <td>38</td>\n",
       "      <td>1855</td>\n",
       "    </tr>\n",
       "    <tr>\n",
       "      <td>Visual_2</td>\n",
       "      <td>3</td>\n",
       "      <td>38</td>\n",
       "      <td>1855</td>\n",
       "    </tr>\n",
       "    <tr>\n",
       "      <td>DMN</td>\n",
       "      <td>4</td>\n",
       "      <td>38</td>\n",
       "      <td>1855</td>\n",
       "    </tr>\n",
       "  </tbody>\n",
       "</table>"
      ],
      "text/plain": [
       "<IPython.core.display.HTML object>"
      ]
     },
     "metadata": {},
     "output_type": "display_data"
    }
   ],
   "source": [
    "# Run Mapper/DyNeuSR\n",
    "print('Running mapper on fed data...')\n",
    "results_fed = run_mapper(splits.fed.X, splits.fed.RSN, verbose=1, cover=km.Cover(10,0.3))"
   ]
  },
  {
   "cell_type": "code",
   "execution_count": 31,
   "metadata": {},
   "outputs": [
    {
     "name": "stdout",
     "output_type": "stream",
     "text": [
      "[Force Graph] http://localhost:8800/results/fed_super_n=10.html\n"
     ]
    },
    {
     "data": {
      "text/plain": [
       "DyNeuGraph()"
      ]
     },
     "execution_count": 31,
     "metadata": {},
     "output_type": "execute_result"
    }
   ],
   "source": [
    "# Visualize DyNeuGraph\n",
    "results_fed['dG'].visualize(path_html='results/fed_super_n=10.html', show=False, reset=True, static=False, PORT=8800)"
   ]
  },
  {
   "cell_type": "markdown",
   "metadata": {},
   "source": [
    "##### Quick look (png)\n",
    "\n",
    "![fed_super](./results/png/fed_super_n=10.png)"
   ]
  },
  {
   "cell_type": "markdown",
   "metadata": {},
   "source": [
    "#### (split = fasted)"
   ]
  },
  {
   "cell_type": "code",
   "execution_count": 19,
   "metadata": {
    "scrolled": true
   },
   "outputs": [
    {
     "name": "stdout",
     "output_type": "stream",
     "text": [
      "Running mapper on fasted data...\n",
      "KeplerMapper()\n",
      "..Composing projection pipeline of length 1:\n",
      "\tProjections: TSNE(angle=0.5, early_exaggeration=12.0, init='random', learning_rate=200.0,\n",
      "   method='barnes_hut', metric='euclidean', min_grad_norm=1e-07,\n",
      "   n_components=2, n_iter=1000, n_iter_without_progress=300, perplexity=50,\n",
      "   random_state=0, verbose=0)\n",
      "\tDistance matrices: False\n",
      "\tScalers: MinMaxScaler(copy=True, feature_range=(0, 1))\n",
      "..Projecting on data shaped (1532, 437)\n",
      "\n",
      "..Projecting data using: \n",
      "\tTSNE(angle=0.5, early_exaggeration=12.0, init='random', learning_rate=200.0,\n",
      "   method='barnes_hut', metric='euclidean', min_grad_norm=1e-07,\n",
      "   n_components=2, n_iter=1000, n_iter_without_progress=300, perplexity=50,\n",
      "   random_state=0, verbose=1)\n",
      "\n",
      "[t-SNE] Computing 151 nearest neighbors...\n",
      "[t-SNE] Indexed 1532 samples in 0.017s...\n",
      "[t-SNE] Computed neighbors for 1532 samples in 1.679s...\n",
      "[t-SNE] Computed conditional probabilities for sample 1000 / 1532\n",
      "[t-SNE] Computed conditional probabilities for sample 1532 / 1532\n",
      "[t-SNE] Mean sigma: 10.995724\n",
      "[t-SNE] KL divergence after 250 iterations with early exaggeration: 70.684738\n",
      "[t-SNE] Error after 1000 iterations: 1.256305\n",
      "\n",
      "..Scaling with: MinMaxScaler(copy=True, feature_range=(0, 1))\n",
      "\n",
      "KeplerMapper()\n",
      "Mapping on data shaped (1532, 437) using lens shaped (1532, 2)\n",
      "\n",
      "Minimal points in hypercube before clustering: 5\n",
      "Creating 100 hypercubes.\n",
      "There are 0 points in cube 0/100\n",
      "Cube_0 is empty.\n",
      "\n",
      "There are 0 points in cube 1/100\n",
      "Cube_1 is empty.\n",
      "\n",
      "There are 8 points in cube 2/100\n",
      "   > Found 1 clusters.\n",
      "\n",
      "There are 18 points in cube 3/100\n",
      "   > Found 1 clusters.\n",
      "\n",
      "There are 30 points in cube 4/100\n",
      "   > Found 1 clusters.\n",
      "\n",
      "There are 34 points in cube 5/100\n",
      "   > Found 1 clusters.\n",
      "\n",
      "There are 25 points in cube 6/100\n",
      "   > Found 1 clusters.\n",
      "\n",
      "There are 16 points in cube 7/100\n",
      "   > Found 1 clusters.\n",
      "\n",
      "There are 6 points in cube 8/100\n",
      "   > Found 1 clusters.\n",
      "\n",
      "There are 0 points in cube 9/100\n",
      "Cube_9 is empty.\n",
      "\n",
      "There are 5 points in cube 10/100\n",
      "   > Found 1 clusters.\n",
      "\n",
      "There are 17 points in cube 11/100\n",
      "   > Found 1 clusters.\n",
      "\n",
      "There are 10 points in cube 12/100\n",
      "   > Found 1 clusters.\n",
      "\n",
      "There are 27 points in cube 13/100\n",
      "   > Found 1 clusters.\n",
      "\n",
      "There are 30 points in cube 14/100\n",
      "   > Found 1 clusters.\n",
      "\n",
      "There are 45 points in cube 15/100\n",
      "   > Found 1 clusters.\n",
      "\n",
      "There are 32 points in cube 16/100\n",
      "   > Found 1 clusters.\n",
      "\n",
      "There are 30 points in cube 17/100\n",
      "   > Found 1 clusters.\n",
      "\n",
      "There are 25 points in cube 18/100\n",
      "   > Found 1 clusters.\n",
      "\n",
      "There are 6 points in cube 19/100\n",
      "   > Found 1 clusters.\n",
      "\n",
      "There are 7 points in cube 20/100\n",
      "   > Found 1 clusters.\n",
      "\n",
      "There are 20 points in cube 21/100\n",
      "   > Found 1 clusters.\n",
      "\n",
      "There are 28 points in cube 22/100\n",
      "   > Found 1 clusters.\n",
      "\n",
      "There are 34 points in cube 23/100\n",
      "   > Found 1 clusters.\n",
      "\n",
      "There are 44 points in cube 24/100\n",
      "   > Found 1 clusters.\n",
      "\n",
      "There are 46 points in cube 25/100\n",
      "   > Found 1 clusters.\n",
      "\n",
      "There are 47 points in cube 26/100\n",
      "   > Found 1 clusters.\n",
      "\n",
      "There are 36 points in cube 27/100\n",
      "   > Found 1 clusters.\n",
      "\n",
      "There are 38 points in cube 28/100\n",
      "   > Found 1 clusters.\n",
      "\n",
      "There are 25 points in cube 29/100\n",
      "   > Found 1 clusters.\n",
      "\n",
      "There are 18 points in cube 30/100\n",
      "   > Found 1 clusters.\n",
      "\n",
      "There are 24 points in cube 31/100\n",
      "   > Found 1 clusters.\n",
      "\n",
      "There are 33 points in cube 32/100\n",
      "   > Found 1 clusters.\n",
      "\n",
      "There are 38 points in cube 33/100\n",
      "   > Found 1 clusters.\n",
      "\n",
      "There are 50 points in cube 34/100\n",
      "   > Found 1 clusters.\n",
      "\n",
      "There are 47 points in cube 35/100\n",
      "   > Found 1 clusters.\n",
      "\n",
      "There are 54 points in cube 36/100\n",
      "   > Found 1 clusters.\n",
      "\n",
      "There are 44 points in cube 37/100\n",
      "   > Found 1 clusters.\n",
      "\n",
      "There are 32 points in cube 38/100\n",
      "   > Found 1 clusters.\n",
      "\n",
      "There are 18 points in cube 39/100\n",
      "   > Found 1 clusters.\n",
      "\n",
      "There are 24 points in cube 40/100\n",
      "   > Found 1 clusters.\n",
      "\n",
      "There are 22 points in cube 41/100\n",
      "   > Found 1 clusters.\n",
      "\n",
      "There are 38 points in cube 42/100\n",
      "   > Found 1 clusters.\n",
      "\n",
      "There are 53 points in cube 43/100\n",
      "   > Found 1 clusters.\n",
      "\n",
      "There are 60 points in cube 44/100\n",
      "   > Found 1 clusters.\n",
      "\n",
      "There are 62 points in cube 45/100\n",
      "   > Found 1 clusters.\n",
      "\n",
      "There are 44 points in cube 46/100\n",
      "   > Found 1 clusters.\n",
      "\n",
      "There are 33 points in cube 47/100\n",
      "   > Found 1 clusters.\n",
      "\n",
      "There are 22 points in cube 48/100\n",
      "   > Found 1 clusters.\n",
      "\n",
      "There are 15 points in cube 49/100\n",
      "   > Found 1 clusters.\n",
      "\n",
      "There are 22 points in cube 50/100\n",
      "   > Found 1 clusters.\n",
      "\n",
      "There are 29 points in cube 51/100\n",
      "   > Found 1 clusters.\n",
      "\n",
      "There are 42 points in cube 52/100\n",
      "   > Found 1 clusters.\n",
      "\n",
      "There are 52 points in cube 53/100\n",
      "   > Found 1 clusters.\n",
      "\n",
      "There are 62 points in cube 54/100\n",
      "   > Found 1 clusters.\n",
      "\n",
      "There are 57 points in cube 55/100\n",
      "   > Found 1 clusters.\n",
      "\n",
      "There are 34 points in cube 56/100\n",
      "   > Found 1 clusters.\n",
      "\n",
      "There are 26 points in cube 57/100\n",
      "   > Found 1 clusters.\n",
      "\n",
      "There are 21 points in cube 58/100\n",
      "   > Found 1 clusters.\n",
      "\n",
      "There are 8 points in cube 59/100\n",
      "   > Found 1 clusters.\n",
      "\n",
      "There are 29 points in cube 60/100\n",
      "   > Found 1 clusters.\n",
      "\n",
      "There are 29 points in cube 61/100\n",
      "   > Found 1 clusters.\n",
      "\n",
      "There are 44 points in cube 62/100\n",
      "   > Found 1 clusters.\n",
      "\n",
      "There are 45 points in cube 63/100\n",
      "   > Found 1 clusters.\n",
      "\n",
      "There are 51 points in cube 64/100\n",
      "   > Found 1 clusters.\n",
      "\n",
      "There are 44 points in cube 65/100\n",
      "   > Found 1 clusters.\n",
      "\n",
      "There are 29 points in cube 66/100\n",
      "   > Found 1 clusters.\n",
      "\n",
      "There are 22 points in cube 67/100\n",
      "   > Found 1 clusters.\n",
      "\n",
      "There are 11 points in cube 68/100\n",
      "   > Found 1 clusters.\n",
      "\n",
      "There are 0 points in cube 69/100\n",
      "Cube_69 is empty.\n",
      "\n",
      "There are 12 points in cube 70/100\n",
      "   > Found 1 clusters.\n",
      "\n",
      "There are 33 points in cube 71/100\n",
      "   > Found 1 clusters.\n",
      "\n",
      "There are 44 points in cube 72/100\n",
      "   > Found 1 clusters.\n",
      "\n",
      "There are 40 points in cube 73/100\n",
      "   > Found 1 clusters.\n",
      "\n",
      "There are 40 points in cube 74/100\n",
      "   > Found 1 clusters.\n",
      "\n",
      "There are 27 points in cube 75/100\n",
      "   > Found 1 clusters.\n",
      "\n",
      "There are 23 points in cube 76/100\n",
      "   > Found 1 clusters.\n",
      "\n",
      "There are 10 points in cube 77/100\n",
      "   > Found 1 clusters.\n",
      "\n",
      "There are 0 points in cube 78/100\n",
      "Cube_78 is empty.\n",
      "\n",
      "There are 0 points in cube 79/100\n",
      "Cube_79 is empty.\n",
      "\n",
      "There are 7 points in cube 80/100\n",
      "   > Found 1 clusters.\n",
      "\n",
      "There are 20 points in cube 81/100\n",
      "   > Found 1 clusters.\n",
      "\n",
      "There are 33 points in cube 82/100\n",
      "   > Found 1 clusters.\n",
      "\n",
      "There are 32 points in cube 83/100\n",
      "   > Found 1 clusters.\n",
      "\n",
      "There are 24 points in cube 84/100\n",
      "   > Found 1 clusters.\n",
      "\n",
      "There are 19 points in cube 85/100\n",
      "   > Found 1 clusters.\n",
      "\n",
      "There are 14 points in cube 86/100\n",
      "   > Found 1 clusters.\n",
      "\n",
      "There are 6 points in cube 87/100\n",
      "   > Found 1 clusters.\n",
      "\n",
      "There are 0 points in cube 88/100\n",
      "Cube_88 is empty.\n",
      "\n",
      "There are 0 points in cube 89/100\n",
      "Cube_89 is empty.\n",
      "\n",
      "There are 0 points in cube 90/100\n",
      "Cube_90 is empty.\n",
      "\n",
      "There are 0 points in cube 91/100\n",
      "Cube_91 is empty.\n",
      "\n",
      "There are 0 points in cube 92/100\n",
      "Cube_92 is empty.\n",
      "\n",
      "There are 12 points in cube 93/100\n",
      "   > Found 1 clusters.\n",
      "\n",
      "There are 15 points in cube 94/100\n",
      "   > Found 1 clusters.\n",
      "\n",
      "There are 6 points in cube 95/100\n",
      "   > Found 1 clusters.\n",
      "\n",
      "There are 1 points in cube 96/100\n",
      "Cube_96 is empty.\n",
      "\n",
      "There are 0 points in cube 97/100\n",
      "Cube_97 is empty.\n",
      "\n",
      "There are 0 points in cube 98/100\n",
      "Cube_98 is empty.\n",
      "\n",
      "There are 0 points in cube 99/100\n",
      "Cube_99 is empty.\n",
      "\n",
      "\n",
      "Created 118 edges and 85 nodes in 0:00:00.300153.\n"
     ]
    },
    {
     "data": {
      "text/html": [
       "<table border=\"1\" class=\"dataframe\">\n",
       "  <thead>\n",
       "    <tr style=\"text-align: right;\">\n",
       "      <th>label</th>\n",
       "      <th>group</th>\n",
       "      <th>value</th>\n",
       "      <th>row_count</th>\n",
       "    </tr>\n",
       "  </thead>\n",
       "  <tbody>\n",
       "    <tr>\n",
       "      <td>Cingulo_opercular</td>\n",
       "      <td>0</td>\n",
       "      <td>31</td>\n",
       "      <td>1531</td>\n",
       "    </tr>\n",
       "    <tr>\n",
       "      <td>Frontoparietal_1</td>\n",
       "      <td>1</td>\n",
       "      <td>31</td>\n",
       "      <td>1531</td>\n",
       "    </tr>\n",
       "    <tr>\n",
       "      <td>Somatomotor</td>\n",
       "      <td>2</td>\n",
       "      <td>31</td>\n",
       "      <td>1531</td>\n",
       "    </tr>\n",
       "    <tr>\n",
       "      <td>Visual_2</td>\n",
       "      <td>3</td>\n",
       "      <td>31</td>\n",
       "      <td>1531</td>\n",
       "    </tr>\n",
       "    <tr>\n",
       "      <td>DMN</td>\n",
       "      <td>4</td>\n",
       "      <td>31</td>\n",
       "      <td>1531</td>\n",
       "    </tr>\n",
       "  </tbody>\n",
       "</table>"
      ],
      "text/plain": [
       "<IPython.core.display.HTML object>"
      ]
     },
     "metadata": {},
     "output_type": "display_data"
    }
   ],
   "source": [
    "# Run Mapper/DyNeuSR\n",
    "print('Running mapper on fasted data...')\n",
    "results_fast = run_mapper(splits.fasted.X, splits.fasted.RSN, verbose=2, cover=km.Cover(10,0.3))"
   ]
  },
  {
   "cell_type": "code",
   "execution_count": 30,
   "metadata": {},
   "outputs": [
    {
     "name": "stdout",
     "output_type": "stream",
     "text": [
      "[Force Graph] http://localhost:8800/results/fast_super_n=10.html\n"
     ]
    },
    {
     "data": {
      "text/plain": [
       "DyNeuGraph()"
      ]
     },
     "execution_count": 30,
     "metadata": {},
     "output_type": "execute_result"
    }
   ],
   "source": [
    "# Visualize DyNeuGraph\n",
    "results_fast['dG'].visualize(path_html='results/fast_super_n=10.html', show=False, reset=True, static=False, PORT=8800)"
   ]
  },
  {
   "cell_type": "markdown",
   "metadata": {},
   "source": [
    "##### Quick look (png)\n",
    "\n",
    "\n",
    "![fast_super](./results/png/fast_super_n=10.png)"
   ]
  },
  {
   "cell_type": "markdown",
   "metadata": {},
   "source": [
    "### Run Mapper in anatomical space - create one super graph for both fed and fasted"
   ]
  },
  {
   "cell_type": "code",
   "execution_count": null,
   "metadata": {},
   "outputs": [],
   "source": []
  }
 ],
 "metadata": {
  "kernelspec": {
   "display_name": "Python 3",
   "language": "python",
   "name": "python3"
  },
  "language_info": {
   "codemirror_mode": {
    "name": "ipython",
    "version": 3
   },
   "file_extension": ".py",
   "mimetype": "text/x-python",
   "name": "python",
   "nbconvert_exporter": "python",
   "pygments_lexer": "ipython3",
   "version": "3.6.6"
  },
  "toc": {
   "base_numbering": 1,
   "nav_menu": {},
   "number_sections": true,
   "sideBar": true,
   "skip_h1_title": false,
   "title_cell": "Table of Contents",
   "title_sidebar": "Contents",
   "toc_cell": false,
   "toc_position": {},
   "toc_section_display": true,
   "toc_window_display": false
  },
  "varInspector": {
   "cols": {
    "lenName": 16,
    "lenType": 16,
    "lenVar": 40
   },
   "kernels_config": {
    "python": {
     "delete_cmd_postfix": "",
     "delete_cmd_prefix": "del ",
     "library": "var_list.py",
     "varRefreshCmd": "print(var_dic_list())"
    },
    "r": {
     "delete_cmd_postfix": ") ",
     "delete_cmd_prefix": "rm(",
     "library": "var_list.r",
     "varRefreshCmd": "cat(var_dic_list()) "
    }
   },
   "types_to_exclude": [
    "module",
    "function",
    "builtin_function_or_method",
    "instance",
    "_Feature"
   ],
   "window_display": false
  }
 },
 "nbformat": 4,
 "nbformat_minor": 2
}
