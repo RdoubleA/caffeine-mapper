{
 "cells": [
  {
   "cell_type": "markdown",
   "metadata": {},
   "source": [
    "<h1>Exploring the resting brain with topological data analysis<span class=\"tocSkip\"></span></h1>\n",
    "\n",
    "<br>\n",
    "<font size=\"4\">Rafi Ayub<sup>1,3</sup> and Caleb Geniesse<sup>2,3</sup></font>\n",
    "<br>\n",
    "<br>\n",
    "<sup>1</sup> Department of Bioengineering, Stanford University<br>\n",
    "<sup>2</sup> Biophysics Program, Stanford University<br>\n",
    "<sup>3</sup> Department of Psychiatry and Behavioral Sciences, Stanford University<br>"
   ]
  },
  {
   "cell_type": "markdown",
   "metadata": {},
   "source": [
    "> The dynamics of the brain at rest are not well understood, yet their dysregulation has been linked to psychiatric disease. Even in healthy subjects, everyday changes in arousal and mood can alter brain dynamics, but their exact impact is not clear. Current methods to reveal the intricate interplay between brain regions and networks rely on linear approaches and correlations that may miss the non-linear structure of these relationships. In this study we apply Mapper, a tool from the field of topological data analysis, that uses non-linear approaches to learn the underlying shape of the data. We explore the MyConnectome dataset, which consists of a complete metabolic profile and fMRI scans of a single subject across the span of an entire year. We construct graphs comparing the fed/caffeinated state, the fasted/uncaffeinated state, and a random graph model using SBM. We found that the fasted state exhibits increased participation coefficient across almost all resting state networks compared to fed state. Both real brain graphs showed higher participation coefficient and higher within-module connectivity across all resting state networks than the null model, demonstrating the brains ability to optimize the balance between integration and segregation of function. The results from this study show that Mapper can reveal important anatomical and functional architecture of the human brain."
   ]
  },
  {
   "cell_type": "markdown",
   "metadata": {
    "toc": true
   },
   "source": [
    "<h1>Contents<span class=\"tocSkip\"></span></h1>\n",
    "<div class=\"toc\"><ul class=\"toc-item\"><li><span><a href=\"#Introduction\" data-toc-modified-id=\"Introduction-1\"><span class=\"toc-item-num\">1&nbsp;&nbsp;</span>Introduction</a></span><ul class=\"toc-item\"><li><span><a href=\"#Revealing-complex-topology-of-brain-dynamics-with-Mapper\" data-toc-modified-id=\"Revealing-complex-topology-of-brain-dynamics-with-Mapper-1.1\"><span class=\"toc-item-num\">1.1&nbsp;&nbsp;</span>Revealing complex topology of brain dynamics with Mapper</a></span></li></ul></li><li><span><a href=\"#Setup\" data-toc-modified-id=\"Setup-2\"><span class=\"toc-item-num\">2&nbsp;&nbsp;</span>Setup</a></span><ul class=\"toc-item\"><li><span><a href=\"#Experimental-settings-and-parameters\" data-toc-modified-id=\"Experimental-settings-and-parameters-2.1\"><span class=\"toc-item-num\">2.1&nbsp;&nbsp;</span>Experimental settings and parameters</a></span></li></ul></li><li><span><a href=\"#Data-and-Preprocessing\" data-toc-modified-id=\"Data-and-Preprocessing-3\"><span class=\"toc-item-num\">3&nbsp;&nbsp;</span>Data and Preprocessing</a></span><ul class=\"toc-item\"><li><span><a href=\"#Data:-$MyConnectome$\" data-toc-modified-id=\"Data:-$MyConnectome$-3.1\"><span class=\"toc-item-num\">3.1&nbsp;&nbsp;</span>Data: $MyConnectome$</a></span></li><li><span><a href=\"#Load-data\" data-toc-modified-id=\"Load-data-3.2\"><span class=\"toc-item-num\">3.2&nbsp;&nbsp;</span>Load data</a></span></li><li><span><a href=\"#Split-data-into-$fasted$,-$fed$\" data-toc-modified-id=\"Split-data-into-$fasted$,-$fed$-3.3\"><span class=\"toc-item-num\">3.3&nbsp;&nbsp;</span>Split data into $fasted$, $fed$</a></span></li></ul></li><li><span><a href=\"#Methods\" data-toc-modified-id=\"Methods-4\"><span class=\"toc-item-num\">4&nbsp;&nbsp;</span>Methods</a></span><ul class=\"toc-item\"><li><span><a href=\"#$MAPPER$\" data-toc-modified-id=\"$MAPPER$-4.1\"><span class=\"toc-item-num\">4.1&nbsp;&nbsp;</span>$MAPPER$</a></span></li><li><span><a href=\"#Graph-Annotation\" data-toc-modified-id=\"Graph-Annotation-4.2\"><span class=\"toc-item-num\">4.2&nbsp;&nbsp;</span>Graph Annotation</a></span><ul class=\"toc-item\"><li><span><a href=\"#Resting-state-network-labels\" data-toc-modified-id=\"Resting-state-network-labels-4.2.1\"><span class=\"toc-item-num\">4.2.1&nbsp;&nbsp;</span>Resting state network labels</a></span></li></ul></li><li><span><a href=\"#Network-Analysis\" data-toc-modified-id=\"Network-Analysis-4.3\"><span class=\"toc-item-num\">4.3&nbsp;&nbsp;</span>Network Analysis</a></span><ul class=\"toc-item\"><li><span><a href=\"#Community-structure\" data-toc-modified-id=\"Community-structure-4.3.1\"><span class=\"toc-item-num\">4.3.1&nbsp;&nbsp;</span>Community structure</a></span></li><li><span><a href=\"#Participation-coefficient\" data-toc-modified-id=\"Participation-coefficient-4.3.2\"><span class=\"toc-item-num\">4.3.2&nbsp;&nbsp;</span>Participation coefficient</a></span></li><li><span><a href=\"#Within-module-degree\" data-toc-modified-id=\"Within-module-degree-4.3.3\"><span class=\"toc-item-num\">4.3.3&nbsp;&nbsp;</span>Within-module degree</a></span></li><li><span><a href=\"#Betweenness-centrality\" data-toc-modified-id=\"Betweenness-centrality-4.3.4\"><span class=\"toc-item-num\">4.3.4&nbsp;&nbsp;</span>Betweenness centrality</a></span></li></ul></li><li><span><a href=\"#ROI-x-ROI-Adjacency\" data-toc-modified-id=\"ROI-x-ROI-Adjacency-4.4\"><span class=\"toc-item-num\">4.4&nbsp;&nbsp;</span>ROI x ROI Adjacency</a></span></li><li><span><a href=\"#Null-Stochastic-Block-Model\" data-toc-modified-id=\"Null-Stochastic-Block-Model-4.5\"><span class=\"toc-item-num\">4.5&nbsp;&nbsp;</span>Null Stochastic Block Model</a></span></li></ul></li><li><span><a href=\"#Results\" data-toc-modified-id=\"Results-5\"><span class=\"toc-item-num\">5&nbsp;&nbsp;</span>Results</a></span><ul class=\"toc-item\"><li><span><a href=\"#$MAPPER$-analysis-of-$fasted$-vs.-$fed$-state-from-combined-sessions\" data-toc-modified-id=\"$MAPPER$-analysis-of-$fasted$-vs.-$fed$-state-from-combined-sessions-5.1\"><span class=\"toc-item-num\">5.1&nbsp;&nbsp;</span>$MAPPER$ analysis of $fasted$ vs. $fed$ state from combined sessions</a></span><ul class=\"toc-item\"><li><span><a href=\"#Generate-$MAPPER$-graphs\" data-toc-modified-id=\"Generate-$MAPPER$-graphs-5.1.1\"><span class=\"toc-item-num\">5.1.1&nbsp;&nbsp;</span>Generate $MAPPER$ graphs</a></span></li><li><span><a href=\"#Annotate-$MAPPER$-graphs-with-RSN-labels\" data-toc-modified-id=\"Annotate-$MAPPER$-graphs-with-RSN-labels-5.1.2\"><span class=\"toc-item-num\">5.1.2&nbsp;&nbsp;</span>Annotate $MAPPER$ graphs with RSN labels</a></span></li><li><span><a href=\"#Network-analysis-of-$fasted$-vs.-$fed$-states\" data-toc-modified-id=\"Network-analysis-of-$fasted$-vs.-$fed$-states-5.1.3\"><span class=\"toc-item-num\">5.1.3&nbsp;&nbsp;</span>Network analysis of $fasted$ vs. $fed$ states</a></span></li><li><span><a href=\"#Compare-ROI-x-ROI-Adjacency-of-$fasted$-vs.-$fed$-states\" data-toc-modified-id=\"Compare-ROI-x-ROI-Adjacency-of-$fasted$-vs.-$fed$-states-5.1.4\"><span class=\"toc-item-num\">5.1.4&nbsp;&nbsp;</span>Compare ROI x ROI Adjacency of $fasted$ vs. $fed$ states</a></span></li><li><span><a href=\"#Sample-the-Null-Stochastic-Block-Model\" data-toc-modified-id=\"Sample-the-Null-Stochastic-Block-Model-5.1.5\"><span class=\"toc-item-num\">5.1.5&nbsp;&nbsp;</span>Sample the Null Stochastic Block Model</a></span></li></ul></li><li><span><a href=\"#$MAPPER$-analysis-of-$fasted$-vs.-$fed$-state-across-individual-sessions\" data-toc-modified-id=\"$MAPPER$-analysis-of-$fasted$-vs.-$fed$-state-across-individual-sessions-5.2\"><span class=\"toc-item-num\">5.2&nbsp;&nbsp;</span>$MAPPER$ analysis of $fasted$ vs. $fed$ state across individual sessions</a></span><ul class=\"toc-item\"><li><span><a href=\"#Comparing-ROI-x-ROI-Adjacency-to-average-Functional-Connectivity\" data-toc-modified-id=\"Comparing-ROI-x-ROI-Adjacency-to-average-Functional-Connectivity-5.2.1\"><span class=\"toc-item-num\">5.2.1&nbsp;&nbsp;</span>Comparing ROI x ROI Adjacency to average Functional Connectivity</a></span></li><li><span><a href=\"#Modularity-of-resting-state-networks-across-sessions\" data-toc-modified-id=\"Modularity-of-resting-state-networks-across-sessions-5.2.2\"><span class=\"toc-item-num\">5.2.2&nbsp;&nbsp;</span>Modularity of resting state networks across sessions</a></span></li><li><span><a href=\"#Participation-coefficient-of-resting-state-networks-across-sessions\" data-toc-modified-id=\"Participation-coefficient-of-resting-state-networks-across-sessions-5.2.3\"><span class=\"toc-item-num\">5.2.3&nbsp;&nbsp;</span>Participation coefficient of resting state networks across sessions</a></span></li><li><span><a href=\"#Within-module-connectivity-of-resting-state-networks-across-sessions\" data-toc-modified-id=\"Within-module-connectivity-of-resting-state-networks-across-sessions-5.2.4\"><span class=\"toc-item-num\">5.2.4&nbsp;&nbsp;</span>Within-module connectivity of resting state networks across sessions</a></span></li><li><span><a href=\"#Betweenness-centrality-of-resting-state-networks-across-sessions\" data-toc-modified-id=\"Betweenness-centrality-of-resting-state-networks-across-sessions-5.2.5\"><span class=\"toc-item-num\">5.2.5&nbsp;&nbsp;</span>Betweenness centrality of resting state networks across sessions</a></span></li></ul></li></ul></li><li><span><a href=\"#Discussion\" data-toc-modified-id=\"Discussion-6\"><span class=\"toc-item-num\">6&nbsp;&nbsp;</span>Discussion</a></span><ul class=\"toc-item\"><li><span><a href=\"#Conclusions\" data-toc-modified-id=\"Conclusions-6.1\"><span class=\"toc-item-num\">6.1&nbsp;&nbsp;</span>Conclusions</a></span></li></ul></li><li><span><a href=\"#Contributions\" data-toc-modified-id=\"Contributions-7\"><span class=\"toc-item-num\">7&nbsp;&nbsp;</span>Contributions</a></span></li><li><span><a href=\"#Acknowledgments\" data-toc-modified-id=\"Acknowledgments-8\"><span class=\"toc-item-num\">8&nbsp;&nbsp;</span>Acknowledgments</a></span></li><li><span><a href=\"#References\" data-toc-modified-id=\"References-9\"><span class=\"toc-item-num\">9&nbsp;&nbsp;</span>References</a></span></li></ul></div>"
   ]
  },
  {
   "cell_type": "markdown",
   "metadata": {},
   "source": [
    "# Introduction #\n",
    "      \n",
    "The brain is a multitasking machine; while it manages the effortless heartbeats and breaths that keep it alive, it is also able to yield intense focus on reading a paper, performing mathematical calculations, or driving a car. Neuroscience has explored the functional repertoire of the brain by pinpointing the anatomical correlates to hundreds of simple tasks and imaging the evolution of brain activity during cognitive demands. Yet, there is still no certainty on what the brain does when it is at rest, performing no task at all.\n",
    "\n",
    "Scientists, philosophers, and the everyday thinker posit that the mind wanders, daydreams, ruminates, reflects, and plans. This rich palette of cognitive behaviour has found some basis within neuroimaging. For example, functional MR imaging studies have observed correlations between distant brain regions in spontaneous activity during rest, deemed resting state functional connectivity (FC) <a href=\"#References\">[1]</a><a href=\"#References\">[2]</a>. Across a longer time interval of resting state activity, patterns of correlated networks and sub-networks form and dissolve in simulations and in empirical data <a href=\"#References\">[3]</a>. In fact, many of these canonical resting state networks (RSNs) have been found across many studies and have corresponded to critical brain functions such as movement, attention, and vision. Interestingly, these networks and connectivity between certain regions may be impaired in neuropsychiatric disorders such as Alzheimer’s disease and depression <a href=\"#References\">[4]</a>. Even outside of psychiatric disorders, the physiological state of a subject can impact the functional connectivity of the resting brain. For example, a subject in a fasted state exhibited greater connectivity within the somatomotor and dorsal attention networks <a href=\"#References\">[5]</a>. Clearly, exploring the brain at rest could yield key insight into its function and dynamics.\n",
    "\n",
    "Current methods to characterize resting state FC involve timeseries correlations between regions, sliding-window correlations, deconvolution, temporal Independent Component Analysis, and more. Many of these are linear methods that may fail to reveal non-linear relationships between brain regions and resting state networks. To explore the nuances of these interactions, a tool from the field of Topological Data Analysis called Mapper has been proposed. Mapper creates a combinatorial object from a high dimensional dataset that depicts the manifold of the original data. By using metrics from graph theory, clinically and biophysically relevant insight can be captured from a Mapper graph applied to resting state fMRI data. This approach has been previously used to predict individual task performance and capture cognitive task transitions at a faster time scale than other methods. <a href=\"#References\">[6]</a>\n",
    "\n",
    "In this study, we used Mapper to explore the structure of RSNs in resting state fMRI data. We used 84 cleaned scan sessions, of which 31 were of the fed state and 40 were of the fasted state, from the dataset provided by MyConnectome, which consists of structural and functional MR scan sessions, metabolic profiles, mood questionnaires, and daily activity logs of the same subject for about a year. Specifically, we analyzed the community structure, betweenness centrality, within-module degree, and participation coefficient of RSNs and compared them between fed and fasted states. We also created a null model using the Stochastic Block Model, which can recreate the community structure of the Mapper graphs.\n",
    "\n",
    "Community and core structure will provide us insight into the diversity of network dynamics in the individual’s brain. We hypothesize that a more modular, smaller core graph of the patient’s brain correlates with a more alert profile for that scan day, and attention related RSNs congregate in the core more with an alert profile than a less alert profile. By characterizing the structure of the brain at rest and its relationship to behaviour, we can become better equipped to predict, diagnose, and treat neuropsychiatric disorders.\n",
    "\n",
    "\n",
    "\n",
    "## Revealing complex topology of brain dynamics with Mapper ###\n",
    "\n",
    "Mapper has found success in exploring the functional architecture of the brain under task demands. In Saggar et. al. <a href=\"#References\">[6]</a>, the investigators applied Mapper to multitask fMRI data, where subjects were required to perform working memory, math, and video tasks in the scanner, with periods of rest and instructions in between. They found that nodes with members associated with tasks with heavy cognitive load (nodes can have multiple labeled members, see Mapper subsection in Methods for explanation) were concentrated in the core of the graph and nodes associated with resting tasks were localized in the periphery. Additionally, subjects with a more modular graph, where communities are assigned by majority vote of the nodes' members, had better task performance than individuals with a less modular graph. The results from this study show that Mapper can reveal complex functional dynamics of the brain. The resultant graphs provide a robust visualization that can link brain dynamics with cognitive and behavioral properties of an individual. We extend this method to resting-state data, where we may be able to reveal important topological features and link them to behavior or cognitive state.\n"
   ]
  },
  {
   "cell_type": "markdown",
   "metadata": {},
   "source": [
    "# Setup # "
   ]
  },
  {
   "cell_type": "code",
   "execution_count": 1,
   "metadata": {},
   "outputs": [],
   "source": [
    "%load_ext autoreload\n",
    "%autoreload 2\n",
    "\n",
    "%matplotlib inline"
   ]
  },
  {
   "cell_type": "code",
   "execution_count": 2,
   "metadata": {},
   "outputs": [],
   "source": [
    "# system\n",
    "import os\n",
    "import sys\n",
    "import logging\n",
    "import glob\n",
    "\n",
    "# utilities\n",
    "from collections import Counter, OrderedDict, defaultdict\n",
    "from functools import partial\n",
    "from itertools import product"
   ]
  },
  {
   "cell_type": "code",
   "execution_count": 3,
   "metadata": {},
   "outputs": [],
   "source": [
    "# data visualization\n",
    "import matplotlib as mpl\n",
    "import matplotlib.pyplot as plt\n",
    "import seaborn as sns\n",
    "%matplotlib inline"
   ]
  },
  {
   "cell_type": "code",
   "execution_count": 4,
   "metadata": {},
   "outputs": [],
   "source": [
    "# data analysis\n",
    "import numpy as np\n",
    "import pandas as pd\n",
    "import scipy.stats"
   ]
  },
  {
   "cell_type": "code",
   "execution_count": 5,
   "metadata": {},
   "outputs": [],
   "source": [
    "# sci-kit learn\n",
    "from sklearn.datasets.base import Bunch\n",
    "from sklearn.preprocessing import Normalizer, Binarizer\n",
    "from sklearn.decomposition import PCA\n",
    "from sklearn.manifold import TSNE\n",
    "\n",
    "# other machine learning \n",
    "from umap.umap_ import UMAP\n",
    "from hdbscan import HDBSCAN"
   ]
  },
  {
   "cell_type": "markdown",
   "metadata": {},
   "source": [
    "Note, the  `dyneusr` library has not been released yet, as the manuscript introducing it is currently under review."
   ]
  },
  {
   "cell_type": "code",
   "execution_count": 6,
   "metadata": {},
   "outputs": [],
   "source": [
    "# Mapper \n",
    "import dyneusr as ds\n",
    "import kmapper as km\n",
    "\n",
    "# network analysis\n",
    "import networkx as nx\n",
    "import bct"
   ]
  },
  {
   "cell_type": "markdown",
   "metadata": {},
   "source": [
    "Note, some of the code developed for analysis has been moved into seperate files, and need to be imported.\n",
    "\n",
    "- `load_data.py`: includes code for loading and preprocessing the data\n",
    "\n",
    "- `utils.py`: includes additional analysis and utility code developed for this project"
   ]
  },
  {
   "cell_type": "code",
   "execution_count": 7,
   "metadata": {},
   "outputs": [],
   "source": [
    "# project code\n",
    "from utils import load_scrubbed\n",
    "from utils import Config, run_mapper, get_data_splits"
   ]
  },
  {
   "cell_type": "markdown",
   "metadata": {},
   "source": [
    "## Experimental settings and parameters ##"
   ]
  },
  {
   "cell_type": "code",
   "execution_count": 8,
   "metadata": {},
   "outputs": [],
   "source": [
    "config = Config()\n",
    "\n",
    "# general \n",
    "config.verbose = 1\n",
    "    \n",
    "# data settings  (only use 10 sessions for testing, use -1 for all sessions)\n",
    "config.n_sessions = 10 \n",
    "config.rmask_kwds = dict(n=12)\n",
    "\n",
    "\n",
    "# mapper settings\n",
    "config.projection = UMAP() #TSNE(perplexity=50)\n",
    "config.clusterer = HDBSCAN(allow_single_cluster=True)\n",
    "config.cover = km.Cover(20, (8 - 1) / 8.)"
   ]
  },
  {
   "cell_type": "markdown",
   "metadata": {},
   "source": [
    "# Data and Preprocessing #"
   ]
  },
  {
   "cell_type": "markdown",
   "metadata": {},
   "source": [
    "## Data: $MyConnectome$ ##\n",
    "\n",
    "The specific protocols are detailed on the MyConnectome website (www.myconnectome.org), but will be discussed here briefly. Resting state fMRI scans were performed three times a week (Monday, Tuesday, Thursday), using a multi-band EPI sequence (TR=1.16 ms, TE = 30 ms, flip angle = 63 degrees, voxel size = 2.4 mm X 2.4 mm X 2 mm, distance factor=20\\%, 68 slices, oriented 30 degrees back from AC/PC, 96×96 matrix, 230 mm FOV, MB factor=4, 10:00 scan length). Gradient echo field maps and spin echo field maps with AP and PA phase encoding were also collected. Behavioral/lifestyle measurements were also collected daily and are detailed in Table 1. Other measurements include sleep, exercise, amount of time outside, blood pressure, pulse, diet, blood sampling, RNA sequencing, and metabolics, though this list in non-exhaustive and the acquisition will not be detailed here. We will also note that on Tuesdays the subject was fasted due to a blood draw that same day, and other days the subject was not fasted. The fMRI scans were preprocessed using fmriprep, an open-source pipeline <a href=\"#References\">[7]</a>. Timepoints with excessive head motion were removed from the dataset. A custom parcellation was applied to the subject's brain, which can be used to define anatomical brain regions for each parcel. Thus, each parcel is labeled with a resting state network that the brain region typically participates in."
   ]
  },
  {
   "cell_type": "markdown",
   "metadata": {},
   "source": [
    "## Load data ##\n"
   ]
  },
  {
   "cell_type": "code",
   "execution_count": 37,
   "metadata": {},
   "outputs": [
    {
     "name": "stderr",
     "output_type": "stream",
     "text": [
      "INFO:load_data:load_scrubbed(**{'n_sessions': 10, 'apply_tmask': False, 'apply_rmask': True, 'rmask_kwds': {'n': 12}, 'zscore': False, 'merge': False})\n",
      "INFO:load_data:Loading data...\n",
      "INFO:root:  [+] session: 0, file: sub014.txt\n",
      "INFO:root:      keeping: 554 (regions)\n",
      "INFO:root:  [+] session: 1, file: sub015.txt\n",
      "INFO:root:      keeping: 554 (regions)\n",
      "INFO:root:  [+] session: 2, file: sub016.txt\n",
      "INFO:root:      keeping: 554 (regions)\n",
      "INFO:root:  [+] session: 3, file: sub017.txt\n",
      "INFO:root:      keeping: 554 (regions)\n",
      "INFO:root:  [+] session: 4, file: sub018.txt\n",
      "INFO:root:      keeping: 554 (regions)\n",
      "INFO:root:  [+] session: 5, file: sub019.txt\n",
      "INFO:root:      keeping: 554 (regions)\n",
      "INFO:root:  [+] session: 6, file: sub020.txt\n",
      "INFO:root:      keeping: 554 (regions)\n",
      "INFO:root:  [+] session: 7, file: sub021.txt\n",
      "INFO:root:      keeping: 554 (regions)\n",
      "INFO:root:  [+] session: 8, file: sub022.txt\n",
      "INFO:root:      keeping: 554 (regions)\n",
      "INFO:root:  [+] session: 9, file: sub023.txt\n",
      "INFO:root:      keeping: 554 (regions)\n"
     ]
    }
   ],
   "source": [
    "# Load sessions as seperate datasets.\n",
    "sessions = load_scrubbed(\n",
    "    n_sessions=config.n_sessions,\n",
    "    apply_tmask=True, apply_rmask=True,\n",
    "    rmask_kwds=config.rmask_kwds,\n",
    "    zscore=False, merge=False\n",
    "    )\n"
   ]
  },
  {
   "cell_type": "code",
   "execution_count": 10,
   "metadata": {},
   "outputs": [
    {
     "name": "stderr",
     "output_type": "stream",
     "text": [
      "INFO:load_data:load_scrubbed(**{'n_sessions': 10, 'apply_tmask': True, 'apply_rmask': True, 'rmask_kwds': {'n': 12}, 'zscore': False, 'merge': True})\n",
      "INFO:load_data:Loading data...\n",
      "INFO:root:  [+] session: 0, file: sub014.txt\n",
      "INFO:root:      keeping: 505 (time points)\n",
      "INFO:root:      keeping: 554 (regions)\n",
      "INFO:root:  [+] session: 1, file: sub015.txt\n",
      "INFO:root:      keeping: 508 (time points)\n",
      "INFO:root:      keeping: 554 (regions)\n",
      "INFO:root:  [+] session: 2, file: sub016.txt\n",
      "INFO:root:      keeping: 508 (time points)\n",
      "INFO:root:      keeping: 554 (regions)\n",
      "INFO:root:  [+] session: 3, file: sub017.txt\n",
      "INFO:root:      keeping: 504 (time points)\n",
      "INFO:root:      keeping: 554 (regions)\n",
      "INFO:root:  [+] session: 4, file: sub018.txt\n",
      "INFO:root:      keeping: 508 (time points)\n",
      "INFO:root:      keeping: 554 (regions)\n",
      "INFO:root:  [+] session: 5, file: sub019.txt\n",
      "INFO:root:      keeping: 513 (time points)\n",
      "INFO:root:      keeping: 554 (regions)\n",
      "INFO:root:  [+] session: 6, file: sub020.txt\n",
      "INFO:root:      keeping: 446 (time points)\n",
      "INFO:root:      keeping: 554 (regions)\n",
      "INFO:root:  [+] session: 7, file: sub021.txt\n",
      "INFO:root:      keeping: 501 (time points)\n",
      "INFO:root:      keeping: 554 (regions)\n",
      "INFO:root:  [+] session: 8, file: sub022.txt\n",
      "INFO:root:      keeping: 511 (time points)\n",
      "INFO:root:      keeping: 554 (regions)\n",
      "INFO:root:  [+] session: 9, file: sub023.txt\n",
      "INFO:root:      keeping: 401 (time points)\n",
      "INFO:root:      keeping: 554 (regions)\n"
     ]
    }
   ],
   "source": [
    "# Load sessions as a single concated dataset.\n",
    "combined = load_scrubbed(\n",
    "    n_sessions=config.n_sessions,  \n",
    "    apply_tmask=True, apply_rmask=True,\n",
    "    rmask_kwds=config.rmask_kwds,\n",
    "    zscore=False, merge=True\n",
    "    )"
   ]
  },
  {
   "cell_type": "markdown",
   "metadata": {},
   "source": [
    "## Split data into $fasted$, $fed$ ##"
   ]
  },
  {
   "cell_type": "code",
   "execution_count": 11,
   "metadata": {},
   "outputs": [
    {
     "name": "stdout",
     "output_type": "stream",
     "text": [
      "            1.0 => day_of_week_0    x.shape: (1517, 554)  RSN.shape: (1517, 12)\n",
      "            2.0 => fast             x.shape: (1532, 554)  RSN.shape: (1532, 12)\n",
      "            4.0 => fed              x.shape: (1856, 554)  RSN.shape: (1856, 12)\n"
     ]
    }
   ],
   "source": [
    "# Split dataset into  (fast, fed) sessions.\n",
    "splits = get_data_splits(\n",
    "    combined, zscore=True, \n",
    "    groupby='day_of_week', \n",
    "    groups={2: 'fast', 4: 'fed'}\n",
    "    )"
   ]
  },
  {
   "cell_type": "markdown",
   "metadata": {},
   "source": [
    "# Methods #"
   ]
  },
  {
   "cell_type": "markdown",
   "metadata": {},
   "source": [
    "## $MAPPER$ ##\n",
    "\n",
    "Details of the Mapper algorithm are described in <a href=\"#References\">[8]</a>, but will be briefly discussed here. Essentially, a lens function is applied to the original high-dimensional data to create a low-dimensional representation of the data, called the cover. The datapoints in the cover are binned into overlapping windows. Then, the corresponding original high-dimensional datapoints are clustered based on the binning. These clusters become the nodes of the resultant graph, and edges are defined between nodes when clusters share one or more original datapoints, which is possible due to the overlap. Put very simply, the structure of the resultant graph depicts the similarity of the original datapoints. \n",
    "\n",
    "In this study, we used tSNE, or t-distributed stochastic neighbour embedding <a href=\"#References\">[9]</a>,, for our lens function. tSNE was chosen because it preserves some of the local structure in the high-dimensional space, since it is a non-linear method. The similarity metric used was Euclidean distance. The perplexity parameter can be varied to observe its changes on the resultant graphs. \n",
    "\n",
    "We used HDBSCAN <a href=\"#References\">[10]</a>, as the clusterer.  HDBSCAN is a hierarchical clustering algorithm that was used because it does not require the number of clusters to be specified.\n",
    "\n",
    "Two other parameters required by Mapper are resolution, which defines the number of cubes/bins on the cover, and gain, which defines the amount of overlap between bins. Roughly speaking, resolution guides the sizes of the clusters, or the number of original points in the final nodes of the graph, and gain guides the connectivity of the graph. We performed a parameter sweep across resolution and gain and chose the combination of parameters that yielded the highest modularity in both fed and fasted states. The resolution was chosen to be 20, which will create 20 bins in each dimension in the lower-dimensional embedding. This will create 400 bins. The gain was chosen to be 8, which will create a 7/8 or 87.5\\% overlap between bins.\n",
    "\n",
    "Mapper was applied to each scan session, generally represented by a 554 x 500 (number of parcels x TRs after masking) data matrix. The number of TRs varied between scans after timepoints with excessive motion were removed. The lens function mapped this to a 554 x 2 matrix. Thus, we have created Mapper graphs in the anatomical space, though we are also able to transpose the data matrix and create a graph in the temporal space, which may provide additional unique insight into the dynamics of brain activity."
   ]
  },
  {
   "cell_type": "markdown",
   "metadata": {},
   "source": [
    "\n",
    "Assuming rows in $X$ correspond to time points, and columns to ROIs,  the following code shows how to run $MAPPER$ in anatomical space, i.e., on $X^{T}$:\n",
    "\n",
    "```\n",
    "# Run Mapper\n",
    "mapper = km.KeplerMapper(verbose=1)\n",
    "lens = mapper.fit_transform(X.T, projection=TSNE())\n",
    "graph = mapper.map(lens, X.T, clusterer=HDBSCAN(), cover=km.Cover(20, 8))\n",
    "\n",
    "# Annotate with labels, visualize force-layout\n",
    "dG = ds.DyNeuGraph(G=graph, y=labels)\n",
    "dG.visualize()\n",
    "\n",
    "```\n",
    "\n",
    "__Note:__ For the actual code used below, see `utils.py`."
   ]
  },
  {
   "cell_type": "code",
   "execution_count": 12,
   "metadata": {},
   "outputs": [],
   "source": [
    "from utils import run_mapper"
   ]
  },
  {
   "cell_type": "markdown",
   "metadata": {},
   "source": [
    "## Graph Annotation ##\n",
    "\n",
    "\n",
    "### Resting state network labels ###\n",
    "\n",
    "One of the advantages of Mapper is the ability to annotate nodes with metadata corresponding to the members of each node. This allows us to visualize the localization of certain points of interest. For resting state networks, we can label each original datapoint with the network that its corresponding parcel belongs to. Parcels were labeled with 12 known RSNs, which are described in Table 1 (visual and frontoparietal can be subdivided into two networks each). The resultant graph contains a pie chart for each node, which are proportionally colored by the networks of the node’s members. \n"
   ]
  },
  {
   "cell_type": "code",
   "execution_count": 13,
   "metadata": {
    "scrolled": false
   },
   "outputs": [
    {
     "data": {
      "text/html": [
       "<div>\n",
       "<style scoped>\n",
       "    .dataframe tbody tr th:only-of-type {\n",
       "        vertical-align: middle;\n",
       "    }\n",
       "\n",
       "    .dataframe tbody tr th {\n",
       "        vertical-align: top;\n",
       "    }\n",
       "\n",
       "    .dataframe thead th {\n",
       "        text-align: right;\n",
       "    }\n",
       "</style>\n",
       "<table border=\"1\" class=\"dataframe\">\n",
       "  <thead>\n",
       "    <tr style=\"text-align: right;\">\n",
       "      <th></th>\n",
       "      <th>0</th>\n",
       "      <th>1</th>\n",
       "      <th>2</th>\n",
       "      <th>3</th>\n",
       "      <th>4</th>\n",
       "      <th>5</th>\n",
       "      <th>6</th>\n",
       "      <th>7</th>\n",
       "      <th>8</th>\n",
       "      <th>9</th>\n",
       "      <th>...</th>\n",
       "      <th>544</th>\n",
       "      <th>545</th>\n",
       "      <th>546</th>\n",
       "      <th>547</th>\n",
       "      <th>548</th>\n",
       "      <th>549</th>\n",
       "      <th>550</th>\n",
       "      <th>551</th>\n",
       "      <th>552</th>\n",
       "      <th>553</th>\n",
       "    </tr>\n",
       "  </thead>\n",
       "  <tbody>\n",
       "    <tr>\n",
       "      <th>Cingulo_opercular</th>\n",
       "      <td>0</td>\n",
       "      <td>0</td>\n",
       "      <td>0</td>\n",
       "      <td>0</td>\n",
       "      <td>0</td>\n",
       "      <td>0</td>\n",
       "      <td>0</td>\n",
       "      <td>0</td>\n",
       "      <td>0</td>\n",
       "      <td>0</td>\n",
       "      <td>...</td>\n",
       "      <td>0</td>\n",
       "      <td>1</td>\n",
       "      <td>1</td>\n",
       "      <td>1</td>\n",
       "      <td>0</td>\n",
       "      <td>0</td>\n",
       "      <td>1</td>\n",
       "      <td>0</td>\n",
       "      <td>0</td>\n",
       "      <td>0</td>\n",
       "    </tr>\n",
       "    <tr>\n",
       "      <th>DMN</th>\n",
       "      <td>1</td>\n",
       "      <td>0</td>\n",
       "      <td>0</td>\n",
       "      <td>0</td>\n",
       "      <td>0</td>\n",
       "      <td>0</td>\n",
       "      <td>0</td>\n",
       "      <td>0</td>\n",
       "      <td>0</td>\n",
       "      <td>1</td>\n",
       "      <td>...</td>\n",
       "      <td>0</td>\n",
       "      <td>0</td>\n",
       "      <td>0</td>\n",
       "      <td>0</td>\n",
       "      <td>0</td>\n",
       "      <td>0</td>\n",
       "      <td>0</td>\n",
       "      <td>0</td>\n",
       "      <td>1</td>\n",
       "      <td>1</td>\n",
       "    </tr>\n",
       "    <tr>\n",
       "      <th>Dorsal_Attention</th>\n",
       "      <td>0</td>\n",
       "      <td>0</td>\n",
       "      <td>0</td>\n",
       "      <td>0</td>\n",
       "      <td>0</td>\n",
       "      <td>0</td>\n",
       "      <td>0</td>\n",
       "      <td>0</td>\n",
       "      <td>0</td>\n",
       "      <td>0</td>\n",
       "      <td>...</td>\n",
       "      <td>0</td>\n",
       "      <td>0</td>\n",
       "      <td>0</td>\n",
       "      <td>0</td>\n",
       "      <td>0</td>\n",
       "      <td>0</td>\n",
       "      <td>0</td>\n",
       "      <td>0</td>\n",
       "      <td>0</td>\n",
       "      <td>0</td>\n",
       "    </tr>\n",
       "    <tr>\n",
       "      <th>Frontoparietal 2</th>\n",
       "      <td>0</td>\n",
       "      <td>0</td>\n",
       "      <td>0</td>\n",
       "      <td>0</td>\n",
       "      <td>0</td>\n",
       "      <td>0</td>\n",
       "      <td>0</td>\n",
       "      <td>0</td>\n",
       "      <td>0</td>\n",
       "      <td>0</td>\n",
       "      <td>...</td>\n",
       "      <td>1</td>\n",
       "      <td>0</td>\n",
       "      <td>0</td>\n",
       "      <td>0</td>\n",
       "      <td>0</td>\n",
       "      <td>0</td>\n",
       "      <td>0</td>\n",
       "      <td>0</td>\n",
       "      <td>0</td>\n",
       "      <td>0</td>\n",
       "    </tr>\n",
       "    <tr>\n",
       "      <th>Frontoparietal_1</th>\n",
       "      <td>0</td>\n",
       "      <td>0</td>\n",
       "      <td>0</td>\n",
       "      <td>0</td>\n",
       "      <td>0</td>\n",
       "      <td>0</td>\n",
       "      <td>1</td>\n",
       "      <td>0</td>\n",
       "      <td>0</td>\n",
       "      <td>0</td>\n",
       "      <td>...</td>\n",
       "      <td>0</td>\n",
       "      <td>0</td>\n",
       "      <td>0</td>\n",
       "      <td>0</td>\n",
       "      <td>0</td>\n",
       "      <td>0</td>\n",
       "      <td>0</td>\n",
       "      <td>0</td>\n",
       "      <td>0</td>\n",
       "      <td>0</td>\n",
       "    </tr>\n",
       "    <tr>\n",
       "      <th>Medial_Parietal</th>\n",
       "      <td>0</td>\n",
       "      <td>0</td>\n",
       "      <td>0</td>\n",
       "      <td>0</td>\n",
       "      <td>0</td>\n",
       "      <td>0</td>\n",
       "      <td>0</td>\n",
       "      <td>0</td>\n",
       "      <td>1</td>\n",
       "      <td>0</td>\n",
       "      <td>...</td>\n",
       "      <td>0</td>\n",
       "      <td>0</td>\n",
       "      <td>0</td>\n",
       "      <td>0</td>\n",
       "      <td>0</td>\n",
       "      <td>0</td>\n",
       "      <td>0</td>\n",
       "      <td>0</td>\n",
       "      <td>0</td>\n",
       "      <td>0</td>\n",
       "    </tr>\n",
       "    <tr>\n",
       "      <th>Parieto_occipital</th>\n",
       "      <td>0</td>\n",
       "      <td>0</td>\n",
       "      <td>0</td>\n",
       "      <td>0</td>\n",
       "      <td>0</td>\n",
       "      <td>0</td>\n",
       "      <td>0</td>\n",
       "      <td>0</td>\n",
       "      <td>0</td>\n",
       "      <td>0</td>\n",
       "      <td>...</td>\n",
       "      <td>0</td>\n",
       "      <td>0</td>\n",
       "      <td>0</td>\n",
       "      <td>0</td>\n",
       "      <td>0</td>\n",
       "      <td>0</td>\n",
       "      <td>0</td>\n",
       "      <td>0</td>\n",
       "      <td>0</td>\n",
       "      <td>0</td>\n",
       "    </tr>\n",
       "    <tr>\n",
       "      <th>Salience</th>\n",
       "      <td>0</td>\n",
       "      <td>0</td>\n",
       "      <td>0</td>\n",
       "      <td>0</td>\n",
       "      <td>0</td>\n",
       "      <td>0</td>\n",
       "      <td>0</td>\n",
       "      <td>0</td>\n",
       "      <td>0</td>\n",
       "      <td>0</td>\n",
       "      <td>...</td>\n",
       "      <td>0</td>\n",
       "      <td>0</td>\n",
       "      <td>0</td>\n",
       "      <td>0</td>\n",
       "      <td>0</td>\n",
       "      <td>0</td>\n",
       "      <td>0</td>\n",
       "      <td>0</td>\n",
       "      <td>0</td>\n",
       "      <td>0</td>\n",
       "    </tr>\n",
       "    <tr>\n",
       "      <th>Somatomotor</th>\n",
       "      <td>0</td>\n",
       "      <td>1</td>\n",
       "      <td>1</td>\n",
       "      <td>0</td>\n",
       "      <td>0</td>\n",
       "      <td>0</td>\n",
       "      <td>0</td>\n",
       "      <td>1</td>\n",
       "      <td>0</td>\n",
       "      <td>0</td>\n",
       "      <td>...</td>\n",
       "      <td>0</td>\n",
       "      <td>0</td>\n",
       "      <td>0</td>\n",
       "      <td>0</td>\n",
       "      <td>0</td>\n",
       "      <td>0</td>\n",
       "      <td>0</td>\n",
       "      <td>0</td>\n",
       "      <td>0</td>\n",
       "      <td>0</td>\n",
       "    </tr>\n",
       "    <tr>\n",
       "      <th>Ventral_Attention</th>\n",
       "      <td>0</td>\n",
       "      <td>0</td>\n",
       "      <td>0</td>\n",
       "      <td>1</td>\n",
       "      <td>0</td>\n",
       "      <td>0</td>\n",
       "      <td>0</td>\n",
       "      <td>0</td>\n",
       "      <td>0</td>\n",
       "      <td>0</td>\n",
       "      <td>...</td>\n",
       "      <td>0</td>\n",
       "      <td>0</td>\n",
       "      <td>0</td>\n",
       "      <td>0</td>\n",
       "      <td>1</td>\n",
       "      <td>1</td>\n",
       "      <td>0</td>\n",
       "      <td>1</td>\n",
       "      <td>0</td>\n",
       "      <td>0</td>\n",
       "    </tr>\n",
       "    <tr>\n",
       "      <th>Visual_1</th>\n",
       "      <td>0</td>\n",
       "      <td>0</td>\n",
       "      <td>0</td>\n",
       "      <td>0</td>\n",
       "      <td>0</td>\n",
       "      <td>0</td>\n",
       "      <td>0</td>\n",
       "      <td>0</td>\n",
       "      <td>0</td>\n",
       "      <td>0</td>\n",
       "      <td>...</td>\n",
       "      <td>0</td>\n",
       "      <td>0</td>\n",
       "      <td>0</td>\n",
       "      <td>0</td>\n",
       "      <td>0</td>\n",
       "      <td>0</td>\n",
       "      <td>0</td>\n",
       "      <td>0</td>\n",
       "      <td>0</td>\n",
       "      <td>0</td>\n",
       "    </tr>\n",
       "    <tr>\n",
       "      <th>Visual_2</th>\n",
       "      <td>0</td>\n",
       "      <td>0</td>\n",
       "      <td>0</td>\n",
       "      <td>0</td>\n",
       "      <td>1</td>\n",
       "      <td>1</td>\n",
       "      <td>0</td>\n",
       "      <td>0</td>\n",
       "      <td>0</td>\n",
       "      <td>0</td>\n",
       "      <td>...</td>\n",
       "      <td>0</td>\n",
       "      <td>0</td>\n",
       "      <td>0</td>\n",
       "      <td>0</td>\n",
       "      <td>0</td>\n",
       "      <td>0</td>\n",
       "      <td>0</td>\n",
       "      <td>0</td>\n",
       "      <td>0</td>\n",
       "      <td>0</td>\n",
       "    </tr>\n",
       "  </tbody>\n",
       "</table>\n",
       "<p>12 rows × 554 columns</p>\n",
       "</div>"
      ],
      "text/plain": [
       "                   0    1    2    3    4    5    6    7    8    9   ...   544  \\\n",
       "Cingulo_opercular    0    0    0    0    0    0    0    0    0    0 ...     0   \n",
       "DMN                  1    0    0    0    0    0    0    0    0    1 ...     0   \n",
       "Dorsal_Attention     0    0    0    0    0    0    0    0    0    0 ...     0   \n",
       "Frontoparietal 2     0    0    0    0    0    0    0    0    0    0 ...     1   \n",
       "Frontoparietal_1     0    0    0    0    0    0    1    0    0    0 ...     0   \n",
       "Medial_Parietal      0    0    0    0    0    0    0    0    1    0 ...     0   \n",
       "Parieto_occipital    0    0    0    0    0    0    0    0    0    0 ...     0   \n",
       "Salience             0    0    0    0    0    0    0    0    0    0 ...     0   \n",
       "Somatomotor          0    1    1    0    0    0    0    1    0    0 ...     0   \n",
       "Ventral_Attention    0    0    0    1    0    0    0    0    0    0 ...     0   \n",
       "Visual_1             0    0    0    0    0    0    0    0    0    0 ...     0   \n",
       "Visual_2             0    0    0    0    1    1    0    0    0    0 ...     0   \n",
       "\n",
       "                   545  546  547  548  549  550  551  552  553  \n",
       "Cingulo_opercular    1    1    1    0    0    1    0    0    0  \n",
       "DMN                  0    0    0    0    0    0    0    1    1  \n",
       "Dorsal_Attention     0    0    0    0    0    0    0    0    0  \n",
       "Frontoparietal 2     0    0    0    0    0    0    0    0    0  \n",
       "Frontoparietal_1     0    0    0    0    0    0    0    0    0  \n",
       "Medial_Parietal      0    0    0    0    0    0    0    0    0  \n",
       "Parieto_occipital    0    0    0    0    0    0    0    0    0  \n",
       "Salience             0    0    0    0    0    0    0    0    0  \n",
       "Somatomotor          0    0    0    0    0    0    0    0    0  \n",
       "Ventral_Attention    0    0    0    1    1    0    1    0    0  \n",
       "Visual_1             0    0    0    0    0    0    0    0    0  \n",
       "Visual_2             0    0    0    0    0    0    0    0    0  \n",
       "\n",
       "[12 rows x 554 columns]"
      ]
     },
     "execution_count": 13,
     "metadata": {},
     "output_type": "execute_result"
    }
   ],
   "source": [
    "majorRSNs = np.sort([\n",
    "    'Cingulo_opercular',\n",
    "    'Frontoparietal_1',\n",
    "    'Somatomotor',\n",
    "    'Visual_2',\n",
    "    'DMN',\n",
    "    'Dorsal_Attention', \n",
    "    'Ventral_Attention', \n",
    "    'Salience', \n",
    "    'Visual_1', \n",
    "    'Medial_Parietal',\n",
    "    'Parieto_occipital', \n",
    "    'Frontoparietal 2'\n",
    "    ])\n",
    "\n",
    "\n",
    "\n",
    "# Extract ROI, RSN labels from parcellation\n",
    "roi2rsn = sessions[0].atlas['data']['network'].copy()\n",
    "\n",
    "\n",
    "# Mask RSN -> major RSN only\n",
    "roi2rsn = roi2rsn[roi2rsn.isin(majorRSNs)].reset_index(drop=True)\n",
    "\n",
    "\n",
    "# Store encoded RSN labels in df_roi_rsn (pandas.DataFrame)\n",
    "df_roi_rsn = pd.DataFrame(0, \n",
    "    index=roi2rsn.index,\n",
    "    columns=majorRSNs\n",
    "    )\n",
    "for roi,rsn in enumerate(roi2rsn):\n",
    "    df_roi_rsn.loc[roi,rsn] = 1\n",
    "    \n",
    "    \n",
    "# Display the dataframe\n",
    "df_roi_rsn.T"
   ]
  },
  {
   "cell_type": "markdown",
   "metadata": {},
   "source": [
    "## Network Analysis ##\n",
    "\n",
    "\n",
    "\n",
    "### Community structure ###\n",
    "\n",
    "Communities are defined as groups of densely interconnected nodes with sparse connections between groups. We can assign nodes into communities and evaluate the \"goodness\" of the assignments by calculating a measure known as modularity. Modularity, Q, is defined below, where $A$ is the adjacency matrix of the graph, $k$ is the node degree, $m$ is the total number of edges, and $\\delta$ returns 1 if both node v and w are in the same community.\n",
    "\n",
    "$$Q=\\frac{1}{2m}\\sum_{v,w\\in N}[A_{v,w}-\\frac{k_vk_w}{2m}]\\delta(c_v,c_w)$$\n",
    "\n",
    "\n",
    "We defined communities for each node by the RSN most of its members are labelled by. This allows us to observe how modular resting state networks tend to be.\n",
    "\n",
    "We ran Louvain community detection on the Mapper graphs to see how well RSNs modularized on their own. In brief, each node is initially assigned to its own community and are reassigned to new communities if the change in modularity is greater than the current modularity. This is repeated until modularity is maximized. Then the communities are compressed into supernodes and the process repeats. The equation for the change in modularity is calculated by the expression below.\n",
    "\n",
    "$$\\Delta Q=[\\frac{\\Sigma_{in}+2k_{i,in}}{2m}-(\\frac{\\Sigma_{tot}+k_i}{2m})^2]-[\\frac{\\Sigma_{in}}{2m}-(\\frac{\\Sigma_{tot}}{2m})^2-(\\frac{k_i}{2m})^2]$$\n",
    "\n",
    "\n",
    "\n",
    "### Participation coefficient ###\n",
    "\n",
    "The participation coefficient of a node is the extent to which the node is connected to other communities, bounded between 0 and 1. This is calculated below, where $M$ is the set of all modules, and $k_i(m)$ is the number of links between node $i$ and all nodes in module $m$, and $k_i$ is the degree of $i$.\n",
    "\n",
    "$$y_i=1-\\sum_{m\\in M}(\\frac{k_i(m)}{k_i})^2$$\n",
    "\n",
    "We calculated the average participation coefficient for each RSN to see which networks were more important for integrating information between networks.\n",
    "\n",
    "\n",
    "\n",
    "### Within-module degree ###\n",
    "\n",
    "Within-module degree is the number of edges within a community, and was used to determine how likely a resting state network connected with itself. It was normalized by the number of nodes in that RSN community to account for an increased likelihood of within-module connections with a greater community size, and it is calculated with the expression below.\n",
    "\n",
    "$$w_R=\\frac{1}{c_R}\\sum_{i,j\\in N,i\\neq j}A_{ij}\\delta(C_i,C_j)$$\n",
    "\n",
    "The normalized within-module degree of resting state network $R$ of size $c_R$ is calculated by summing all edge values $A_{ij}$ between nodes $i$ and $j$ if they belong to the same community ($\\delta$ returns 1 if $i$ and $j$ are in the same community) and dividing that sum by the community size.\n",
    "\n",
    "\n",
    "\n",
    "\n",
    "### Betweenness centrality ###\n",
    "Betweenness centrality of a node measures the likelihood of the shortest path between any two nodes in a graph passes through that node. To test whether certain resting state networks are important for bridging other networks, we calculated the betweenness centrality value for every node and averaged the values for each network. Betweenness centrality is calculated by the expression below.\n",
    "\n",
    "$$b_i=\\frac{1}{(n-1)(n-2)}\\sum_{h,j\\in N,h\\neq j,j\\neq i,h\\neq i}\\frac{\\rho_{hj}^{(i)}}{\\rho_{hj}}$$\n",
    "\n",
    "The number of nodes in the graph is represented by $n$. The number of shortest paths between node $h$ and node $j$ is $\\rho_{hj}$ and $\\rho_{hj}$ is the number of shortest paths between $h$ and $j$ that include node $i$.\n",
    "\n"
   ]
  },
  {
   "cell_type": "code",
   "execution_count": 14,
   "metadata": {},
   "outputs": [],
   "source": [
    "import community\n",
    "from bct import participation_coef\n",
    "import collections\n",
    "\n",
    "\n",
    "def get_mod(G, return_partition=False):\n",
    "    partition = dict()\n",
    "    # Get groups - node attribute that has a 1 for the RSN the node should belong to\n",
    "    groups = nx.get_node_attributes(G,'group')\n",
    "    # Iteration through each node (dictionary)\n",
    "    for n in groups.keys():\n",
    "        # Loop through each RSN and pull out the only one that has a 1 - that's our label\n",
    "        # Implemented a try catch for rare cases where a node has a tie between groups\n",
    "        try:\n",
    "            nwlabel = [nw for nw in groups[n] if groups[n][nw] == 1][0]\n",
    "        # Basically go through proportions which has the number of members in each RSN,\n",
    "        # ... find the max, and choose network that is alphabetically first\n",
    "        except IndexError:\n",
    "            props = nx.get_node_attributes(G,'proportions')\n",
    "            values = [dic['value'] for dic in props[n]['multiclass']]\n",
    "            highestnws = np.argwhere(values == np.max(values))\n",
    "            highestnws = [sublist[0] for sublist in highestnws]\n",
    "            nwlabel = props[n]['multiclass'][highestnws[0]]['label']\n",
    "        partition[n] = nwlabel\n",
    "    Q = community.modularity(partition,G)\n",
    "    if return_partition:\n",
    "        return Q,partition\n",
    "    else:\n",
    "        return Q\n",
    "    \n",
    "    \n",
    "def within_module_degree(G, partition, normalize = False):\n",
    "    # If we want to normalize by community size\n",
    "    if normalize:\n",
    "        # Get size of each RSN community\n",
    "        nodecount = collections.Counter(partition.values())\n",
    "    inmod_deg = collections.defaultdict(list)\n",
    "    # Loop through nodes, calculate degree within module, append to list by RSN\n",
    "    for node in G.nodes():\n",
    "        # Get neighbors of node and only count the ones that are in same RSN\n",
    "        wmod = len([1 for nbr in G[node] if partition[nbr] == partition[node]])\n",
    "        if normalize:\n",
    "            # Normalize by community size\n",
    "            wmod /= float(nodecount[partition[node]])\n",
    "        inmod_deg[partition[node]].append(wmod)\n",
    "    # This is a dictionary keyed by RSN, values are lists of within module degree of every node in RSN\n",
    "    return inmod_deg \n",
    "\n",
    "\n",
    "def betweenness(G, partition):\n",
    "    BC = nx.betweenness_centrality(G)\n",
    "    btw = collections.defaultdict(list)\n",
    "    # Loop through nodes with betweenness calculated, and append to appropriate RSN\n",
    "    for node in BC:\n",
    "        btw[partition[node]].append(BC[node])\n",
    "\n",
    "    return btw # This is a dictionary keyed by RSN, values are lists of betweenness of every node in RSN\n",
    "\n",
    "\n",
    "def calc_particip(G,partition,A,C):\n",
    "    # Calculate participation coefficient for each node\n",
    "    P = participation_coef(A,C)\n",
    "    # Create a dictionary keyed by RSN, values are lists of particip coef of every node in RSN\n",
    "    particip = collections.defaultdict(list)\n",
    "    for ind,p in enumerate(P):\n",
    "        particip[partition[list(G.nodes())[ind]]].append(p)\n",
    "        \n",
    "    return particip"
   ]
  },
  {
   "cell_type": "code",
   "execution_count": 15,
   "metadata": {},
   "outputs": [],
   "source": [
    "\n",
    "def plot_network_measure(network_measure1,network_measure2,y_axlabel,plot_title,y_lim,null_measure=None):\n",
    "    \"\"\"\n",
    "    Take a dictionary keyed by RSN, values are lists of a network measure value for every node in RSN\n",
    "    Plot bars comparing fed and fasted states for each RSN\n",
    "    \"\"\"\n",
    "    from matplotlib import cm\n",
    "\n",
    "    # Bar plot for fed - this is a list of tuples (RSN,mean,std)\n",
    "    bars_fed = [\n",
    "        (np.mean(network_measure1[rsn]), np.std(network_measure1[rsn])) \n",
    "        for rsn in sorted(network_measure1.keys())]\n",
    "    barh_fed,barerr_fed = list(zip(*bars_fed))\n",
    "\n",
    "    # Bar plot for fast - this is a list of tuples (RSN,mean,std)\n",
    "    bars_fast = [\n",
    "        (np.mean(network_measure2[rsn]), np.std(network_measure2[rsn])) \n",
    "        for rsn in sorted(network_measure2.keys())]\n",
    "    barh_fast,barerr_fast = list(zip(*bars_fast))\n",
    "\n",
    "    cmap = cm.get_cmap('viridis', 20)\n",
    "    colors = cmap(np.linspace(0,1,10))\n",
    "\n",
    "    index = np.arange(len(bars_fed))\n",
    "    \n",
    "    if null_measure is None:\n",
    "        bar_width = 0.35\n",
    "        error_config = {'ecolor': '0.3'}\n",
    "\n",
    "        plt.close('all')\n",
    "        fig, ax = plt.subplots(figsize=(12,4))\n",
    "\n",
    "        rects1 = ax.bar(index, barh_fed, bar_width,\n",
    "                        color=colors[2],\n",
    "                        yerr=barerr_fed, error_kw=error_config,\n",
    "                        label='Fed')\n",
    "        rects2 = ax.bar(index + bar_width, barh_fast, bar_width,\n",
    "                        color=colors[7],\n",
    "                        yerr=barerr_fast, error_kw=error_config,\n",
    "                        label='Fasted')\n",
    "\n",
    "        ax.set_ylabel(y_axlabel)\n",
    "        ax.set_title(plot_title)\n",
    "        ax.set_xticks(index + bar_width / 2)\n",
    "        ax.set_xticklabels(majorRSNs,fontsize=7)\n",
    "        ax.set_ylim([0,y_lim])\n",
    "        ax.legend()\n",
    "\n",
    "        fig.tight_layout()\n",
    "        plt.show()\n",
    "    else:\n",
    "        bars_null = [(np.mean(null_measure[rsn]),np.std(null_measure[rsn])) for rsn in sorted(null_measure.keys())]\n",
    "        barh_null,barerr_null = list(zip(*bars_null))\n",
    "        \n",
    "        bar_width = 0.25\n",
    "        error_config = {'ecolor': '0.3'}\n",
    "\n",
    "        plt.close('all')\n",
    "        fig, ax = plt.subplots(figsize=(12,4))\n",
    "\n",
    "        rects1 = ax.bar(index - bar_width, barh_fed, bar_width,\n",
    "                        color=colors[2],\n",
    "                        yerr=barerr_fed, error_kw=error_config,\n",
    "                        label='Fed')\n",
    "        rects2 = ax.bar(index, barh_fast, bar_width,\n",
    "                        color=colors[7],\n",
    "                        yerr=barerr_fast, error_kw=error_config,\n",
    "                        label='Fasted')\n",
    "        rects3 = ax.bar(index + bar_width, barh_null, bar_width,\n",
    "                        color='gray',\n",
    "                        yerr=barerr_null, error_kw=error_config,\n",
    "                        label='SBM')\n",
    "\n",
    "        ax.set_ylabel(y_axlabel)\n",
    "        ax.set_title(plot_title)\n",
    "        ax.set_xticks(index)\n",
    "        ax.set_xticklabels(majorRSNs,fontsize=7)\n",
    "        ax.set_ylim([0,y_lim])\n",
    "        ax.legend()\n",
    "\n",
    "        fig.tight_layout()\n",
    "        plt.show()\n"
   ]
  },
  {
   "cell_type": "markdown",
   "metadata": {},
   "source": [
    "## ROI x ROI Adjacency ##\n",
    "\n",
    "The nodes of the Mapper graph are the clusters of the original datapoints (see subsection Mapper). Each node can contain one or more parcel/region-of-interest (ROI) and one ROI can be in multiple nodes due to the bin overlap. We can convert the adjacency matrix of the graph, which is in the cluster x cluster space, to the ROI x ROI space by defining an edge of value 1 in the ROI adjacency matrix (RAM) when two ROIs share the same node or their nodes are connected in the original graph. These RAMs are used to explore the properties of the RSN community structure in the graph, the connections between communities, and compare with the SBM and the correlations between ROIs.\n",
    "\n",
    "<img src=\"reports/figures/mapper_matrices.png\" width=\"50%\">\n"
   ]
  },
  {
   "cell_type": "code",
   "execution_count": 16,
   "metadata": {},
   "outputs": [],
   "source": [
    "def rsn_index_change(sorted_rsns):\n",
    "    \"\"\"\n",
    "    Process sorted array of network labels, return an array of indexes where the label changes\n",
    "    \"\"\"\n",
    "    index_array = []\n",
    "    current_label = 'batman'\n",
    "    for ind,label in enumerate(sorted_rsns):\n",
    "        if label != current_label:\n",
    "            current_label = label\n",
    "            index_array.append(ind)\n",
    "    # Add ending index\n",
    "    index_array.append(len(sorted_rsns)-1)\n",
    "    return index_array\n",
    "\n",
    "\n",
    "def add_rsn_patches(ax, lenx, leny, boundaries, color_array, alpha_param = 1.0, offset = 1.0):\n",
    "    \"\"\"\n",
    "    Plots rectangular patches vertically and horizontally for each network bounded by the indices\n",
    "    provided using the colors provided\n",
    "    \"\"\"\n",
    "    from matplotlib import patches\n",
    "\n",
    "    # Loop through boundaries\n",
    "    for num,ind in enumerate(boundaries[:-1]):\n",
    "        nextind = boundaries[num+1]\n",
    "        hrect = patches.Rectangle((ind,ind), nextind-ind, nextind-ind,linewidth=1.5,edgecolor=color_array[num],facecolor='none',alpha=alpha_param)\n",
    "        ax.add_patch(hrect)\n",
    "        vrect = patches.Rectangle((ind,ind), nextind-ind, nextind-ind,linewidth=1.5,edgecolor=color_array[num],facecolor='none',alpha=alpha_param)\n",
    "        ax.add_patch(vrect)\n",
    "        \n",
    "        \n",
    "def plot_network_adj(TCM, plot_title, add_cbar=True):\n",
    "    \n",
    "    import matplotlib as mpl\n",
    "    \n",
    "    # roi2rsn is a Series\n",
    "    rsnidx = roi2rsn.argsort()#np.argsort(roi2rsn_clean)\n",
    "\n",
    "    A = TCM[rsnidx,:].copy()\n",
    "    A = A[:,rsnidx]\n",
    "    rect_inds = rsn_index_change(roi2rsn.values[rsnidx])\n",
    "\n",
    "    plt.close('all')\n",
    "    plt.rc('font', family='serif')\n",
    "    plt.imshow(A,cmap='binary_r')\n",
    "    plt.axis('off')\n",
    "    plt.title(plot_title)\n",
    "    ax = plt.gca()\n",
    "    fig = plt.gcf()\n",
    "    cmap = mpl.cm.get_cmap('tab20', 20)\n",
    "    colors = cmap(np.linspace(0,1,20))\n",
    "\n",
    "    add_rsn_patches(ax,A.shape[1],A.shape[0],rect_inds,colors[:len(majorRSNs)],alpha_param=1.0,offset=2)\n",
    "    \n",
    "    # Create colorbar to label the RSN rectangles\n",
    "    if add_cbar:\n",
    "        # Use rect_inds to define which ticks are what colors\n",
    "        # If our colormap is size of the matrix (554), then all indices within a RSN should be same color\n",
    "        bar_colors = np.zeros((A.shape[0],4))\n",
    "        # Holds the midpoint value of each RSN region to use for tick labels\n",
    "        midticks = []\n",
    "        for num,ind in enumerate(rect_inds[:-1]):\n",
    "            nextind = rect_inds[num+1]\n",
    "            bclr = np.matlib.repmat(colors[num],nextind-ind,1)\n",
    "            bar_colors[ind:nextind,:] = bclr\n",
    "            midticks.append((nextind+ind)/2.0)\n",
    "        # Flip since matrix goes top to bottom\n",
    "        bar_colors = bar_colors[::-1]\n",
    "        midticks = A.shape[0] - np.array(midticks)\n",
    "        \n",
    "        cmap_bar = mpl.colors.ListedColormap(bar_colors)\n",
    "        norm = mpl.colors.Normalize(vmin=0,vmax=A.shape[0])\n",
    "        sm = plt.cm.ScalarMappable(cmap=cmap_bar, norm=norm)\n",
    "        sm.set_array([])\n",
    "        \n",
    "        # Left colorbar\n",
    "        cbaxes = fig.add_axes([0.18, 0.11, 0.02, 0.77]) \n",
    "        cbar = plt.colorbar(sm, ticks=midticks, cax = cbaxes)\n",
    "        cbaxes.yaxis.set_ticks_position('left')\n",
    "        rsns_pretty = np.sort(['Cingulo-opercular','Fronto-parietal 1','Somatomotor','Visual 2','DMN',\n",
    "             'Dorsal Attention', 'Ventral Attention', 'Salience', 'Visual 1', 'Medial Parietal',\n",
    "             'Parieto Occipital', 'Fronto-parietal 2'])\n",
    "        cbar.ax.set_yticklabels(rsns_pretty)\n",
    "        cbar.ax.tick_params(labelsize=7) \n",
    "    \n",
    "    plt.show()"
   ]
  },
  {
   "cell_type": "markdown",
   "metadata": {},
   "source": [
    "## Null Stochastic Block Model ##\n",
    "\n",
    "The Stochastic Block Model (SBM) <a href=\"#References\">[11]</a> is a random graph model with a predefined community structure, based on the user specified parameters that guide the size of each community and the likelihood of edges appearing between and within communities. Since our Mapper graphs exhibit significant community structure, we used this as a null model to see which properties arise in the real graphs but do not arise in the community-controlled SBM. In other words, do the interactions between and within RSNs arise solely because of the community structure, or are there more complex behaviors present?\n",
    "\n",
    "We estimate this by calculating the number of edges between a node in community A and any node in community B, then dividing by the total number of possible edges (which is essentially the number of nodes in community B), and average across all nodes in community A to get the probability of an edge existing between A and B. This can be achieved by taking the ROI x ROI matrix, summing the values in the region that connects A to B (ignore B to A), and divide this sum by number of nodes in B * number of nodes in A. If community A and B are the same, then make sure to divide this sum by two first.\n"
   ]
  },
  {
   "cell_type": "code",
   "execution_count": 63,
   "metadata": {},
   "outputs": [],
   "source": [
    "import operator\n",
    "from matplotlib import patches\n",
    "import collections\n",
    "\n",
    "class nullSBM(object):\n",
    "    def __init__(self):\n",
    "        pass\n",
    "    \n",
    "    def __rsn_index_change(self,sorted_rsns):\n",
    "        \"\"\"\n",
    "        Process sorted array of network labels, return an array of indexes where the label changes\n",
    "        \"\"\"\n",
    "        index_array = []\n",
    "        current_label = 'batman'\n",
    "        for ind,label in enumerate(sorted_rsns):\n",
    "            if label != current_label:\n",
    "                current_label = label\n",
    "                index_array.append(ind)\n",
    "        # Add ending index\n",
    "        index_array.append(len(sorted_rsns))\n",
    "        return index_array\n",
    "    \n",
    "    def __get_mod(self,G):\n",
    "        \"\"\"\n",
    "        Partition graph G into communities\n",
    "        \"\"\"\n",
    "        partition = dict()\n",
    "        # Get groups - node attribute that has a 1 for the RSN the node should belong to\n",
    "        groups = nx.get_node_attributes(G,'group')\n",
    "        # Iteration through each node (dictionary)\n",
    "        for n in groups.keys():\n",
    "            # Loop through each RSN and pull out the only one that has a 1 - that's our label\n",
    "            # Implemented a try catch for rare cases where a node has a tie between groups\n",
    "            try:\n",
    "                nwlabel = [nw for nw in groups[n] if groups[n][nw] == 1][0]\n",
    "            # Basically go through proportions which has the number of members in each RSN, find the max, and choose network that is alphabetically first\n",
    "            except IndexError:\n",
    "                props = nx.get_node_attributes(G,'proportions')\n",
    "                values = [dic['value'] for dic in props[n]['multiclass']]\n",
    "                highestnws = np.argwhere(values == np.max(values))\n",
    "                highestnws = [sublist[0] for sublist in highestnws]\n",
    "                nwlabel = props[n]['multiclass'][highestnws[0]]['label']\n",
    "            partition[n] = nwlabel\n",
    "        return partition\n",
    "    \n",
    "    def __sort_adjacency(self,G):\n",
    "        \"\"\"\n",
    "        Take the adjacency matrix from the Mapper graph and sort it by RSN\n",
    "        \"\"\"\n",
    "        partition = self.__get_mod(G)\n",
    "        sorted_p = sorted(partition.items(), key=operator.itemgetter(1))\n",
    "        # Creat new adjacency matrix from the partition\n",
    "        nodes,comms = list(zip(*sorted_p))\n",
    "        A = np.zeros((len(nodes),len(nodes)))\n",
    "        for node in nodes:\n",
    "            # Find neighbors of node\n",
    "            for nbr in G[node]:\n",
    "                # Create an edge\n",
    "                A[nodes.index(node),nodes.index(nbr)] = 1\n",
    "        # Return\n",
    "        return A,comms  \n",
    "\n",
    "    def __calc_SBM_param(self,G):\n",
    "        \"\"\"\n",
    "        Take an ROI x ROI matrix from a DyNeuSR and estimates probabilities of connections between communities\n",
    "        \"\"\"\n",
    "        A,labels = self.__sort_adjacency(G)\n",
    "        # Get number of nodes in each community\n",
    "        nodecount = collections.Counter(labels)\n",
    "        sizes = [nodecount[key] for key in sorted(nodecount.keys())]\n",
    "        # Get the indices of the bounds between RSN regions in the matrix\n",
    "        bounds = self.__rsn_index_change(labels)\n",
    "        # Create array to hold probabilities\n",
    "        probs = np.zeros((len(set(labels)),len(set(labels))))\n",
    "        # Go through bounds twice, once for each dimension\n",
    "        for comm1,b1 in enumerate(bounds[:-1]):\n",
    "            for comm2,b2 in enumerate(bounds[:-1]):\n",
    "                # End index of the region in matrix that belongs to this RSN\n",
    "                nextb1 = bounds[comm1+1]\n",
    "                nextb2 = bounds[comm2+1]\n",
    "                # Sum the values in this region\n",
    "                num_edges = np.sum(A[b1:nextb1,b2:nextb2])\n",
    "                # Divide by 2 if same community\n",
    "                if comm1 == comm2:\n",
    "                    num_edges /= 2\n",
    "                # Divide by number of nodes in community 1 * nodes in community 2\n",
    "                p = num_edges / float(sizes[comm1] * sizes[comm2])\n",
    "                # Add to appropriate locations in probs\n",
    "                probs[comm1,comm2] = p\n",
    "\n",
    "        self.labels = labels\n",
    "        \n",
    "        return sizes, probs\n",
    "    \n",
    "    def __add_rsn_patches(self, ax, lenx, leny, boundaries, color_array, alpha_param = 1.0, offset = 1.0):\n",
    "        \"\"\"\n",
    "        Plots rectangular patches vertically and horizontally for each network bounded by the indices\n",
    "        provided using the colors provided\n",
    "        \"\"\"\n",
    "        # Loop through boundaries\n",
    "        for num,ind in enumerate(boundaries[:-1]):\n",
    "            nextind = boundaries[num+1]\n",
    "            hrect = patches.Rectangle((ind,ind), nextind-ind, nextind-ind,linewidth=1.5,edgecolor=color_array[num],facecolor='none',alpha=alpha_param)\n",
    "            ax.add_patch(hrect)\n",
    "            vrect = patches.Rectangle((ind,ind), nextind-ind, nextind-ind,linewidth=1.5,edgecolor=color_array[num],facecolor='none',alpha=alpha_param)\n",
    "            ax.add_patch(vrect)\n",
    "        \n",
    "    def configure(self, sessions_, **kwargs):\n",
    "        \"\"\"\n",
    "        Calculate probabilities for each scan, use average probability to create one SBM model\n",
    "        \"\"\"\n",
    "        P = []\n",
    "        for sess_num,session in enumerate(sessions_):\n",
    "            print('Processing session %d out of %d...' % ((sess_num+1), len(sessions_)))\n",
    "            # Run Mapper\n",
    "            result_ = run_mapper(session.X.T, **dict(dict(y=df_roi_rsn, verbose=0), **kwargs))\n",
    "            # Get probs\n",
    "            self.sizes,p = self.__calc_SBM_param(result_['dG'].G_)\n",
    "            if p.shape[0] != len(majorRSNs):\n",
    "                print('Threw out session %d' % sess_num)\n",
    "                continue\n",
    "            # Append so we can get the mean\n",
    "            P.append(p)\n",
    "\n",
    "        self.probs = np.mean(P,axis=0)\n",
    "        \n",
    "    def run(self,num_itera=30):\n",
    "        if num_itera == 1:\n",
    "            self.G_ = nx.stochastic_block_model(self.sizes,self.probs)\n",
    "            self.A = nx.to_numpy_array(self.G_)\n",
    "        else:\n",
    "            # Run SBM\n",
    "            Anull = [nx.to_numpy_array(nx.stochastic_block_model(self.sizes,self.probs)) for i in range(num_itera)]\n",
    "            Anull_mean = np.mean(Anull,axis=0)\n",
    "\n",
    "            self.A = Anull_mean\n",
    "            self.G_ = nx.stochastic_block_model(self.sizes,self.probs)\n",
    "        \n",
    "        # Get partition/communities - loop through every node and find its RSN community based on the index bounds for each RSN\n",
    "        bounds = np.array(self.__rsn_index_change(self.labels)[1:])\n",
    "        bounds[-1] += 1\n",
    "        self.partition = {node: np.where(node < bounds)[0][0] for node in list(self.G_.nodes())}\n",
    "            \n",
    "\n",
    "    def plot(self, add_cbar=True):\n",
    "    \n",
    "        rect_inds = self.__rsn_index_change(self.labels)\n",
    "\n",
    "        plt.close('all')\n",
    "        plt.rc('font', family='serif')\n",
    "        plt.imshow(self.A,cmap='binary_r')\n",
    "        plt.axis('off')\n",
    "        plt.title('ROI x ROI matrix, SBM')\n",
    "        ax = plt.gca()\n",
    "        fig = plt.gcf()\n",
    "        cmap = mpl.cm.get_cmap('tab20', 20)\n",
    "        colors = cmap(np.linspace(0,1,20))\n",
    "\n",
    "        self.__add_rsn_patches(ax,self.A.shape[1],self.A.shape[0],rect_inds,colors[:len(majorRSNs)],alpha_param=1.0,offset=2)\n",
    "\n",
    "        # Create colorbar to label the RSN rectangles\n",
    "        if add_cbar:\n",
    "            # Use rect_inds to define which ticks are what colors\n",
    "            # If our colormap is size of the matrix (554), then all indices within a RSN should be same color\n",
    "            bar_colors = np.zeros((self.A.shape[0],4))\n",
    "            # Holds the midpoint value of each RSN region to use for tick labels\n",
    "            midticks = []\n",
    "            for num,ind in enumerate(rect_inds[:-1]):\n",
    "                nextind = rect_inds[num+1]\n",
    "                bclr = np.matlib.repmat(colors[num],nextind-ind,1)\n",
    "                bar_colors[ind:nextind,:] = bclr\n",
    "                midticks.append((nextind+ind)/2.0)\n",
    "            # Flip since matrix goes top to bottom\n",
    "            bar_colors = bar_colors[::-1]\n",
    "            midticks = self.A.shape[0] - np.array(midticks)\n",
    "\n",
    "            cmap_bar = mpl.colors.ListedColormap(bar_colors)\n",
    "            norm = mpl.colors.Normalize(vmin=0,vmax=self.A.shape[0])\n",
    "            sm = plt.cm.ScalarMappable(cmap=cmap_bar, norm=norm)\n",
    "            sm.set_array([])\n",
    "\n",
    "            # Left colorbar\n",
    "            cbaxes = fig.add_axes([0.18, 0.11, 0.02, 0.77]) \n",
    "            cbar = plt.colorbar(sm, ticks=midticks, cax = cbaxes)\n",
    "            cbaxes.yaxis.set_ticks_position('left')\n",
    "            rsns_pretty = np.sort(['Cingulo-opercular','Fronto-parietal 1','Somatomotor','Visual 2','DMN',\n",
    "                 'Dorsal Attention', 'Ventral Attention', 'Salience', 'Visual 1', 'Medial Parietal',\n",
    "                 'Parieto Occipital', 'Fronto-parietal 2'])\n",
    "            cbar.ax.set_yticklabels(rsns_pretty)\n",
    "            cbar.ax.tick_params(labelsize=7) \n",
    "\n",
    "        plt.show()\n",
    "        \n",
    "    def set_params(self,G):\n",
    "        # Get probs\n",
    "        self.sizes,self.probs = self.__calc_SBM_param(G)\n",
    "        \n",
    "    def draw(self):\n",
    "        plt.close('all')\n",
    "        # Generate colormap\n",
    "        cmap = mpl.cm.get_cmap('tab20', 20)\n",
    "        colors = cmap(np.linspace(0,1,20))\n",
    "\n",
    "        #pos = nx.spring_layout(self.G_,scale=0.5)\n",
    "        pos = nx.kamada_kawai_layout(self.G_)\n",
    "        for com in set(self.partition.values()) :\n",
    "            list_nodes = [nodes for nodes in self.partition.keys() if self.partition[nodes] == com]\n",
    "            nx.draw_networkx_nodes(self.G_, pos, list_nodes, node_size = 50, node_color = colors[com], edgecolors = 'none')\n",
    "\n",
    "        nx.draw_networkx_edges(self.G_, pos, alpha=0.5)\n",
    "        ax = plt.gca()\n",
    "        ax.axis('off')\n",
    "        fig = plt.gcf()\n",
    "        fig.set_size_inches(8,8)\n",
    "        "
   ]
  },
  {
   "cell_type": "markdown",
   "metadata": {},
   "source": [
    "# Results #\n",
    "\n",
    "\n",
    "- We start by making one giant Mapper graph for all of fed, all of fasted\n",
    "- Below, we run Mapper graph across individual sessions, and visualize average network measures "
   ]
  },
  {
   "cell_type": "code",
   "execution_count": 43,
   "metadata": {},
   "outputs": [],
   "source": [
    "# store results\n",
    "results = Bunch()"
   ]
  },
  {
   "cell_type": "markdown",
   "metadata": {},
   "source": [
    "## $MAPPER$ analysis of $fasted$ vs. $fed$ state from combined sessions ##\n",
    "\n",
    "Here, Mapper graphs are created by running once on all scans concatenated for fasted state, and then fed state."
   ]
  },
  {
   "cell_type": "markdown",
   "metadata": {},
   "source": [
    "### Generate $MAPPER$ graphs ###"
   ]
  },
  {
   "cell_type": "code",
   "execution_count": 19,
   "metadata": {},
   "outputs": [
    {
     "name": "stdout",
     "output_type": "stream",
     "text": [
      "KeplerMapper()\n",
      "Mapping on data shaped (554, 1532) using lens shaped (554, 2)\n",
      "\n",
      "Creating 400 hypercubes.\n",
      "\n",
      "Created 260 edges and 138 nodes in 0:00:00.359879.\n"
     ]
    },
    {
     "data": {
      "text/html": [
       "<table border=\"1\" class=\"dataframe\">\n",
       "  <thead>\n",
       "    <tr style=\"text-align: right;\">\n",
       "      <th>label</th>\n",
       "      <th>group</th>\n",
       "      <th>value</th>\n",
       "      <th>row_count</th>\n",
       "    </tr>\n",
       "  </thead>\n",
       "  <tbody>\n",
       "    <tr>\n",
       "      <td>data_id</td>\n",
       "      <td>0</td>\n",
       "      <td>inf</td>\n",
       "      <td>551</td>\n",
       "    </tr>\n",
       "    <tr>\n",
       "      <td>default</td>\n",
       "      <td>1</td>\n",
       "      <td>0.00</td>\n",
       "      <td>551</td>\n",
       "    </tr>\n",
       "  </tbody>\n",
       "</table>"
      ],
      "text/plain": [
       "<IPython.core.display.HTML object>"
      ]
     },
     "metadata": {},
     "output_type": "display_data"
    },
    {
     "name": "stdout",
     "output_type": "stream",
     "text": [
      "Already serving localhost:8000 \n",
      "[Force Graph] http://localhost:8000/results/fast_super_spatial_all.html\n"
     ]
    },
    {
     "data": {
      "text/html": [
       "\n",
       "<style>\n",
       "  .container { width:80% !important; margin:auto }\n",
       "  .output_scroll {height: 80px !important;}\n",
       "</style>\n"
      ],
      "text/plain": [
       "<IPython.core.display.HTML object>"
      ]
     },
     "metadata": {},
     "output_type": "display_data"
    },
    {
     "data": {
      "text/html": [
       "\n",
       "        <iframe\n",
       "            width=\"100%\"\n",
       "            height=\"800\"\n",
       "            src=\"http://localhost:8000/results/fast_super_spatial_all.html?frameBorder=0\"\n",
       "            frameborder=\"0\"\n",
       "            allowfullscreen\n",
       "        ></iframe>\n",
       "        "
      ],
      "text/plain": [
       "<IPython.lib.display.IFrame at 0x12d69f208>"
      ]
     },
     "metadata": {},
     "output_type": "display_data"
    },
    {
     "data": {
      "text/plain": [
       "<Figure size 432x288 with 0 Axes>"
      ]
     },
     "metadata": {},
     "output_type": "display_data"
    }
   ],
   "source": [
    "# Run Mapper across fasted states, visualize \n",
    "results.fast = run_mapper(splits.fast.X.T, y=None, **config)\n",
    "results.fast.dG.visualize(path_html='results/fast_super_spatial_all.html', show=True, port=8000);"
   ]
  },
  {
   "cell_type": "code",
   "execution_count": 20,
   "metadata": {},
   "outputs": [
    {
     "name": "stdout",
     "output_type": "stream",
     "text": [
      "KeplerMapper()\n",
      "Mapping on data shaped (554, 1856) using lens shaped (554, 2)\n",
      "\n",
      "Creating 400 hypercubes.\n",
      "\n",
      "Created 229 edges and 131 nodes in 0:00:00.322817.\n"
     ]
    },
    {
     "data": {
      "text/html": [
       "<table border=\"1\" class=\"dataframe\">\n",
       "  <thead>\n",
       "    <tr style=\"text-align: right;\">\n",
       "      <th>label</th>\n",
       "      <th>group</th>\n",
       "      <th>value</th>\n",
       "      <th>row_count</th>\n",
       "    </tr>\n",
       "  </thead>\n",
       "  <tbody>\n",
       "    <tr>\n",
       "      <td>data_id</td>\n",
       "      <td>0</td>\n",
       "      <td>inf</td>\n",
       "      <td>551</td>\n",
       "    </tr>\n",
       "    <tr>\n",
       "      <td>default</td>\n",
       "      <td>1</td>\n",
       "      <td>0.00</td>\n",
       "      <td>551</td>\n",
       "    </tr>\n",
       "  </tbody>\n",
       "</table>"
      ],
      "text/plain": [
       "<IPython.core.display.HTML object>"
      ]
     },
     "metadata": {},
     "output_type": "display_data"
    },
    {
     "name": "stdout",
     "output_type": "stream",
     "text": [
      "Already serving localhost:8000 \n",
      "[Force Graph] http://localhost:8000/results/fed_super_spatial_all.html\n"
     ]
    },
    {
     "data": {
      "text/html": [
       "\n",
       "<style>\n",
       "  .container { width:80% !important; margin:auto }\n",
       "  .output_scroll {height: 80px !important;}\n",
       "</style>\n"
      ],
      "text/plain": [
       "<IPython.core.display.HTML object>"
      ]
     },
     "metadata": {},
     "output_type": "display_data"
    },
    {
     "data": {
      "text/html": [
       "\n",
       "        <iframe\n",
       "            width=\"100%\"\n",
       "            height=\"800\"\n",
       "            src=\"http://localhost:8000/results/fed_super_spatial_all.html?frameBorder=0\"\n",
       "            frameborder=\"0\"\n",
       "            allowfullscreen\n",
       "        ></iframe>\n",
       "        "
      ],
      "text/plain": [
       "<IPython.lib.display.IFrame at 0x12cfc8fd0>"
      ]
     },
     "metadata": {},
     "output_type": "display_data"
    },
    {
     "data": {
      "text/plain": [
       "<Figure size 432x288 with 0 Axes>"
      ]
     },
     "metadata": {},
     "output_type": "display_data"
    }
   ],
   "source": [
    "# Run Mapper across fed states, visualize \n",
    "results.fed = run_mapper(splits.fed.X.T, y=None, **config)\n",
    "results.fed.dG.visualize(path_html='results/fed_super_spatial_all.html', show=True, port=8000);"
   ]
  },
  {
   "cell_type": "markdown",
   "metadata": {},
   "source": [
    "### Annotate $MAPPER$ graphs with RSN labels ###"
   ]
  },
  {
   "cell_type": "code",
   "execution_count": 21,
   "metadata": {},
   "outputs": [
    {
     "data": {
      "text/html": [
       "<table border=\"1\" class=\"dataframe\">\n",
       "  <thead>\n",
       "    <tr style=\"text-align: right;\">\n",
       "      <th>label</th>\n",
       "      <th>group</th>\n",
       "      <th>value</th>\n",
       "      <th>row_count</th>\n",
       "    </tr>\n",
       "  </thead>\n",
       "  <tbody>\n",
       "    <tr>\n",
       "      <td>Cingulo_opercular</td>\n",
       "      <td>0</td>\n",
       "      <td>115</td>\n",
       "      <td>553</td>\n",
       "    </tr>\n",
       "    <tr>\n",
       "      <td>DMN</td>\n",
       "      <td>1</td>\n",
       "      <td>52</td>\n",
       "      <td>553</td>\n",
       "    </tr>\n",
       "    <tr>\n",
       "      <td>Dorsal_Attention</td>\n",
       "      <td>2</td>\n",
       "      <td>15</td>\n",
       "      <td>553</td>\n",
       "    </tr>\n",
       "    <tr>\n",
       "      <td>Frontoparietal 2</td>\n",
       "      <td>3</td>\n",
       "      <td>16</td>\n",
       "      <td>553</td>\n",
       "    </tr>\n",
       "    <tr>\n",
       "      <td>Frontoparietal_1</td>\n",
       "      <td>4</td>\n",
       "      <td>112</td>\n",
       "      <td>553</td>\n",
       "    </tr>\n",
       "    <tr>\n",
       "      <td>Medial_Parietal</td>\n",
       "      <td>5</td>\n",
       "      <td>11</td>\n",
       "      <td>553</td>\n",
       "    </tr>\n",
       "    <tr>\n",
       "      <td>Parieto_occipital</td>\n",
       "      <td>6</td>\n",
       "      <td>17</td>\n",
       "      <td>553</td>\n",
       "    </tr>\n",
       "    <tr>\n",
       "      <td>Salience</td>\n",
       "      <td>7</td>\n",
       "      <td>11</td>\n",
       "      <td>553</td>\n",
       "    </tr>\n",
       "    <tr>\n",
       "      <td>Somatomotor</td>\n",
       "      <td>8</td>\n",
       "      <td>90</td>\n",
       "      <td>553</td>\n",
       "    </tr>\n",
       "    <tr>\n",
       "      <td>Ventral_Attention</td>\n",
       "      <td>9</td>\n",
       "      <td>27</td>\n",
       "      <td>553</td>\n",
       "    </tr>\n",
       "    <tr>\n",
       "      <td>Visual_1</td>\n",
       "      <td>10</td>\n",
       "      <td>20</td>\n",
       "      <td>553</td>\n",
       "    </tr>\n",
       "    <tr>\n",
       "      <td>Visual_2</td>\n",
       "      <td>11</td>\n",
       "      <td>67</td>\n",
       "      <td>553</td>\n",
       "    </tr>\n",
       "  </tbody>\n",
       "</table>"
      ],
      "text/plain": [
       "<IPython.core.display.HTML object>"
      ]
     },
     "metadata": {},
     "output_type": "display_data"
    },
    {
     "name": "stdout",
     "output_type": "stream",
     "text": [
      "Already serving localhost:8000 \n",
      "[Force Graph] http://localhost:8000/results/fast_super_spatial_all_ColorRSNs.html\n"
     ]
    },
    {
     "data": {
      "text/html": [
       "\n",
       "<style>\n",
       "  .container { width:80% !important; margin:auto }\n",
       "  .output_scroll {height: 80px !important;}\n",
       "</style>\n"
      ],
      "text/plain": [
       "<IPython.core.display.HTML object>"
      ]
     },
     "metadata": {},
     "output_type": "display_data"
    },
    {
     "data": {
      "text/html": [
       "\n",
       "        <iframe\n",
       "            width=\"100%\"\n",
       "            height=\"800\"\n",
       "            src=\"http://localhost:8000/results/fast_super_spatial_all_ColorRSNs.html?frameBorder=0\"\n",
       "            frameborder=\"0\"\n",
       "            allowfullscreen\n",
       "        ></iframe>\n",
       "        "
      ],
      "text/plain": [
       "<IPython.lib.display.IFrame at 0x12cf63128>"
      ]
     },
     "metadata": {},
     "output_type": "display_data"
    },
    {
     "data": {
      "text/plain": [
       "DyNeuGraph()"
      ]
     },
     "execution_count": 21,
     "metadata": {},
     "output_type": "execute_result"
    },
    {
     "data": {
      "text/plain": [
       "<Figure size 432x288 with 0 Axes>"
      ]
     },
     "metadata": {},
     "output_type": "display_data"
    }
   ],
   "source": [
    "# Construct DyNeuGraph, annotate with y=RSNs\n",
    "results.fast.dG = ds.DyNeuGraph(G=results.fast.graph, y=df_roi_rsn)\n",
    "results.fast.dG.visualize(path_html='results/fast_super_spatial_all_ColorRSNs.html', show=True, port=8000)"
   ]
  },
  {
   "cell_type": "code",
   "execution_count": 22,
   "metadata": {},
   "outputs": [
    {
     "data": {
      "text/html": [
       "<table border=\"1\" class=\"dataframe\">\n",
       "  <thead>\n",
       "    <tr style=\"text-align: right;\">\n",
       "      <th>label</th>\n",
       "      <th>group</th>\n",
       "      <th>value</th>\n",
       "      <th>row_count</th>\n",
       "    </tr>\n",
       "  </thead>\n",
       "  <tbody>\n",
       "    <tr>\n",
       "      <td>Cingulo_opercular</td>\n",
       "      <td>0</td>\n",
       "      <td>115</td>\n",
       "      <td>553</td>\n",
       "    </tr>\n",
       "    <tr>\n",
       "      <td>DMN</td>\n",
       "      <td>1</td>\n",
       "      <td>52</td>\n",
       "      <td>553</td>\n",
       "    </tr>\n",
       "    <tr>\n",
       "      <td>Dorsal_Attention</td>\n",
       "      <td>2</td>\n",
       "      <td>15</td>\n",
       "      <td>553</td>\n",
       "    </tr>\n",
       "    <tr>\n",
       "      <td>Frontoparietal 2</td>\n",
       "      <td>3</td>\n",
       "      <td>16</td>\n",
       "      <td>553</td>\n",
       "    </tr>\n",
       "    <tr>\n",
       "      <td>Frontoparietal_1</td>\n",
       "      <td>4</td>\n",
       "      <td>112</td>\n",
       "      <td>553</td>\n",
       "    </tr>\n",
       "    <tr>\n",
       "      <td>Medial_Parietal</td>\n",
       "      <td>5</td>\n",
       "      <td>11</td>\n",
       "      <td>553</td>\n",
       "    </tr>\n",
       "    <tr>\n",
       "      <td>Parieto_occipital</td>\n",
       "      <td>6</td>\n",
       "      <td>17</td>\n",
       "      <td>553</td>\n",
       "    </tr>\n",
       "    <tr>\n",
       "      <td>Salience</td>\n",
       "      <td>7</td>\n",
       "      <td>11</td>\n",
       "      <td>553</td>\n",
       "    </tr>\n",
       "    <tr>\n",
       "      <td>Somatomotor</td>\n",
       "      <td>8</td>\n",
       "      <td>90</td>\n",
       "      <td>553</td>\n",
       "    </tr>\n",
       "    <tr>\n",
       "      <td>Ventral_Attention</td>\n",
       "      <td>9</td>\n",
       "      <td>27</td>\n",
       "      <td>553</td>\n",
       "    </tr>\n",
       "    <tr>\n",
       "      <td>Visual_1</td>\n",
       "      <td>10</td>\n",
       "      <td>20</td>\n",
       "      <td>553</td>\n",
       "    </tr>\n",
       "    <tr>\n",
       "      <td>Visual_2</td>\n",
       "      <td>11</td>\n",
       "      <td>67</td>\n",
       "      <td>553</td>\n",
       "    </tr>\n",
       "  </tbody>\n",
       "</table>"
      ],
      "text/plain": [
       "<IPython.core.display.HTML object>"
      ]
     },
     "metadata": {},
     "output_type": "display_data"
    },
    {
     "name": "stdout",
     "output_type": "stream",
     "text": [
      "Already serving localhost:8000 \n",
      "[Force Graph] http://localhost:8000/results/fed_super_spatial_all_ColorRSNs.html\n"
     ]
    },
    {
     "data": {
      "text/html": [
       "\n",
       "<style>\n",
       "  .container { width:80% !important; margin:auto }\n",
       "  .output_scroll {height: 80px !important;}\n",
       "</style>\n"
      ],
      "text/plain": [
       "<IPython.core.display.HTML object>"
      ]
     },
     "metadata": {},
     "output_type": "display_data"
    },
    {
     "data": {
      "text/html": [
       "\n",
       "        <iframe\n",
       "            width=\"100%\"\n",
       "            height=\"800\"\n",
       "            src=\"http://localhost:8000/results/fed_super_spatial_all_ColorRSNs.html?frameBorder=0\"\n",
       "            frameborder=\"0\"\n",
       "            allowfullscreen\n",
       "        ></iframe>\n",
       "        "
      ],
      "text/plain": [
       "<IPython.lib.display.IFrame at 0x117494cf8>"
      ]
     },
     "metadata": {},
     "output_type": "display_data"
    },
    {
     "data": {
      "text/plain": [
       "DyNeuGraph()"
      ]
     },
     "execution_count": 22,
     "metadata": {},
     "output_type": "execute_result"
    },
    {
     "data": {
      "text/plain": [
       "<Figure size 432x288 with 0 Axes>"
      ]
     },
     "metadata": {},
     "output_type": "display_data"
    }
   ],
   "source": [
    "# Construct DyNeuGraph, annotate with y=RSNs\n",
    "results.fed.dG = ds.DyNeuGraph(G=results.fed.graph, y=df_roi_rsn)\n",
    "results.fed.dG.visualize(path_html='results/fed_super_spatial_all_ColorRSNs.html', show=True, port=8000)"
   ]
  },
  {
   "cell_type": "markdown",
   "metadata": {},
   "source": [
    "### Network analysis of $fasted$ vs. $fed$ states ###\n",
    "\n",
    "Compute and visualize network measures on Mapper graphs generated from combined sessions."
   ]
  },
  {
   "cell_type": "code",
   "execution_count": 23,
   "metadata": {},
   "outputs": [
    {
     "name": "stderr",
     "output_type": "stream",
     "text": [
      "/Users/calebgeniesse/src/miniconda3/lib/python3.6/site-packages/bct/algorithms/centrality.py:738: RuntimeWarning: invalid value encountered in true_divide\n",
      "  P = np.ones((n,)) - Kc2 / np.square(Ko)\n"
     ]
    },
    {
     "data": {
      "image/png": "[encoded data removed]",
      "text/plain": [
       "<Figure size 864x288 with 1 Axes>"
      ]
     },
     "metadata": {},
     "output_type": "display_data"
    },
    {
     "data": {
      "image/png": "[encoded data removed]",
      "text/plain": [
       "<Figure size 864x288 with 1 Axes>"
      ]
     },
     "metadata": {},
     "output_type": "display_data"
    },
    {
     "data": {
      "image/png": "[encoded data removed]",
      "text/plain": [
       "<Figure size 864x288 with 1 Axes>"
      ]
     },
     "metadata": {},
     "output_type": "display_data"
    }
   ],
   "source": [
    "dGfast = results.fast.dG\n",
    "dGfed = results.fed.dG\n",
    "\n",
    "\n",
    "#### Participation coefficient ####\n",
    "_,part_fed = get_mod(dGfed.G_,return_partition=True)\n",
    "_,part_fast = get_mod(dGfast.G_,return_partition=True)\n",
    "\n",
    "# Get node adjacency matrix\n",
    "Afed = nx.to_numpy_array(dGfed.G_)\n",
    "Afast = nx.to_numpy_array(dGfast.G_)\n",
    "\n",
    "# Return a number corresponding to an RSN community\n",
    "Cfed = [np.where(majorRSNs == part_fed[node]) for node in dGfed.G_.nodes()] \n",
    "Cfast = [np.where(majorRSNs == part_fast[node]) for node in dGfast.G_.nodes()]  \n",
    "\n",
    "p_fed = calc_particip(dGfed.G_,part_fed,Afed,Cfed)\n",
    "p_fast = calc_particip(dGfast.G_,part_fast,Afast,Cfast)\n",
    "\n",
    "plot_network_measure(\n",
    "    p_fed,p_fast,\n",
    "    'Average participation coefficient',\n",
    "    'Communication between resting-state networks in fed vs fasted states',\n",
    "    0.8\n",
    ")\n",
    "\n",
    "\n",
    "#### Within-module degree ####\n",
    "_,part_fed = get_mod(dGfed.G_,return_partition=True)\n",
    "_,part_fast = get_mod(dGfast.G_,return_partition=True)\n",
    "\n",
    "inmod_fed = within_module_degree(dGfed.G_, part_fed,normalize=True)\n",
    "inmod_fast = within_module_degree(dGfast.G_, part_fast,normalize=True)\n",
    "\n",
    "plot_network_measure(\n",
    "    inmod_fed,inmod_fast,\n",
    "    'Average within-module degree, normalized',\n",
    "    'Module connectivity of resting-state networks in fed vs fasted states',\n",
    "    0.8\n",
    "    )\n",
    "\n",
    "\n",
    "#### Betweenness centrality ####\n",
    "_,part_fed = get_mod(dGfed.G_,return_partition=True)\n",
    "_,part_fast = get_mod(dGfast.G_,return_partition=True)\n",
    "\n",
    "btw_fed = betweenness(dGfed.G_,part_fed)\n",
    "btw_fast = betweenness(dGfast.G_,part_fast)\n",
    "\n",
    "plot_network_measure(\n",
    "    btw_fed, btw_fast,\n",
    "    'Average betweenness centrality',\n",
    "    'Centrality of resting-state networks in fed vs. fasted states',\n",
    "    0.3\n",
    "    )"
   ]
  },
  {
   "cell_type": "markdown",
   "metadata": {},
   "source": [
    "### Compare ROI x ROI Adjacency of $fasted$ vs. $fed$ states ###\n"
   ]
  },
  {
   "cell_type": "code",
   "execution_count": 60,
   "metadata": {},
   "outputs": [
    {
     "data": {
      "image/png": "[encoded data removed]",
      "text/plain": [
       "<Figure size 432x288 with 2 Axes>"
      ]
     },
     "metadata": {},
     "output_type": "display_data"
    },
    {
     "data": {
      "image/png": "[encoded data removed]",
      "text/plain": [
       "<Figure size 432x288 with 2 Axes>"
      ]
     },
     "metadata": {},
     "output_type": "display_data"
    },
    {
     "data": {
      "image/png": "[encoded data removed]",
      "text/plain": [
       "<Figure size 432x288 with 2 Axes>"
      ]
     },
     "metadata": {},
     "output_type": "display_data"
    },
    {
     "data": {
      "image/png": "[encoded data removed]",
      "text/plain": [
       "<Figure size 432x288 with 2 Axes>"
      ]
     },
     "metadata": {},
     "output_type": "display_data"
    }
   ],
   "source": [
    "plot_network_adj(dGfast.tcm_,'ROI x ROI matrix, Fast',add_cbar=True)\n",
    "plot_network_adj(dGfed.tcm_,'ROI x ROI matrix, Fed',add_cbar=True)\n",
    "plot_network_adj(dGfed.tcm_ - dGfast.tcm_, 'ROI x ROI matrix, Fed - Fasted', add_cbar=True)"
   ]
  },
  {
   "cell_type": "markdown",
   "metadata": {},
   "source": [
    "### Sample the Null Stochastic Block Model ###"
   ]
  },
  {
   "cell_type": "code",
   "execution_count": 66,
   "metadata": {},
   "outputs": [
    {
     "name": "stdout",
     "output_type": "stream",
     "text": [
      "Processing session 1 out of 1...\n",
      "KeplerMapper()\n",
      "Mapping on data shaped (554, 4905) using lens shaped (554, 2)\n",
      "\n",
      "Creating 400 hypercubes.\n",
      "\n",
      "Created 365 edges and 172 nodes in 0:00:00.470143.\n"
     ]
    },
    {
     "data": {
      "text/html": [
       "<table border=\"1\" class=\"dataframe\">\n",
       "  <thead>\n",
       "    <tr style=\"text-align: right;\">\n",
       "      <th>label</th>\n",
       "      <th>group</th>\n",
       "      <th>value</th>\n",
       "      <th>row_count</th>\n",
       "    </tr>\n",
       "  </thead>\n",
       "  <tbody>\n",
       "    <tr>\n",
       "      <td>Cingulo_opercular</td>\n",
       "      <td>0</td>\n",
       "      <td>115</td>\n",
       "      <td>553</td>\n",
       "    </tr>\n",
       "    <tr>\n",
       "      <td>DMN</td>\n",
       "      <td>1</td>\n",
       "      <td>52</td>\n",
       "      <td>553</td>\n",
       "    </tr>\n",
       "    <tr>\n",
       "      <td>Dorsal_Attention</td>\n",
       "      <td>2</td>\n",
       "      <td>15</td>\n",
       "      <td>553</td>\n",
       "    </tr>\n",
       "    <tr>\n",
       "      <td>Frontoparietal 2</td>\n",
       "      <td>3</td>\n",
       "      <td>16</td>\n",
       "      <td>553</td>\n",
       "    </tr>\n",
       "    <tr>\n",
       "      <td>Frontoparietal_1</td>\n",
       "      <td>4</td>\n",
       "      <td>112</td>\n",
       "      <td>553</td>\n",
       "    </tr>\n",
       "    <tr>\n",
       "      <td>Medial_Parietal</td>\n",
       "      <td>5</td>\n",
       "      <td>11</td>\n",
       "      <td>553</td>\n",
       "    </tr>\n",
       "    <tr>\n",
       "      <td>Parieto_occipital</td>\n",
       "      <td>6</td>\n",
       "      <td>17</td>\n",
       "      <td>553</td>\n",
       "    </tr>\n",
       "    <tr>\n",
       "      <td>Salience</td>\n",
       "      <td>7</td>\n",
       "      <td>11</td>\n",
       "      <td>553</td>\n",
       "    </tr>\n",
       "    <tr>\n",
       "      <td>Somatomotor</td>\n",
       "      <td>8</td>\n",
       "      <td>90</td>\n",
       "      <td>553</td>\n",
       "    </tr>\n",
       "    <tr>\n",
       "      <td>Ventral_Attention</td>\n",
       "      <td>9</td>\n",
       "      <td>27</td>\n",
       "      <td>553</td>\n",
       "    </tr>\n",
       "    <tr>\n",
       "      <td>Visual_1</td>\n",
       "      <td>10</td>\n",
       "      <td>20</td>\n",
       "      <td>553</td>\n",
       "    </tr>\n",
       "    <tr>\n",
       "      <td>Visual_2</td>\n",
       "      <td>11</td>\n",
       "      <td>67</td>\n",
       "      <td>553</td>\n",
       "    </tr>\n",
       "  </tbody>\n",
       "</table>"
      ],
      "text/plain": [
       "<IPython.core.display.HTML object>"
      ]
     },
     "metadata": {},
     "output_type": "display_data"
    }
   ],
   "source": [
    "SBM = nullSBM()\n",
    "SBM.configure([combined], **config)\n",
    "SBM.run()"
   ]
  },
  {
   "cell_type": "code",
   "execution_count": 67,
   "metadata": {},
   "outputs": [
    {
     "data": {
      "image/png": "[encoded data removed]",
      "text/plain": [
       "<Figure size 576x576 with 1 Axes>"
      ]
     },
     "metadata": {},
     "output_type": "display_data"
    }
   ],
   "source": [
    "SBM.draw()"
   ]
  },
  {
   "cell_type": "code",
   "execution_count": 68,
   "metadata": {},
   "outputs": [
    {
     "data": {
      "image/png": "[encoded data removed]",
      "text/plain": [
       "<Figure size 432x288 with 2 Axes>"
      ]
     },
     "metadata": {},
     "output_type": "display_data"
    }
   ],
   "source": [
    "SBM.plot()"
   ]
  },
  {
   "cell_type": "markdown",
   "metadata": {},
   "source": [
    "## $MAPPER$ analysis of $fasted$ vs. $fed$ state across individual sessions ##\n"
   ]
  },
  {
   "cell_type": "code",
   "execution_count": 38,
   "metadata": {
    "scrolled": true
   },
   "outputs": [
    {
     "name": "stdout",
     "output_type": "stream",
     "text": [
      "Processing session 1 (fed)...\n",
      "KeplerMapper()\n",
      "Mapping on data shaped (554, 518) using lens shaped (554, 2)\n",
      "\n",
      "Creating 400 hypercubes.\n",
      "\n",
      "Created 253 edges and 145 nodes in 0:00:00.283493.\n"
     ]
    },
    {
     "data": {
      "text/html": [
       "<table border=\"1\" class=\"dataframe\">\n",
       "  <thead>\n",
       "    <tr style=\"text-align: right;\">\n",
       "      <th>label</th>\n",
       "      <th>group</th>\n",
       "      <th>value</th>\n",
       "      <th>row_count</th>\n",
       "    </tr>\n",
       "  </thead>\n",
       "  <tbody>\n",
       "    <tr>\n",
       "      <td>Cingulo_opercular</td>\n",
       "      <td>0</td>\n",
       "      <td>115</td>\n",
       "      <td>553</td>\n",
       "    </tr>\n",
       "    <tr>\n",
       "      <td>DMN</td>\n",
       "      <td>1</td>\n",
       "      <td>52</td>\n",
       "      <td>553</td>\n",
       "    </tr>\n",
       "    <tr>\n",
       "      <td>Dorsal_Attention</td>\n",
       "      <td>2</td>\n",
       "      <td>15</td>\n",
       "      <td>553</td>\n",
       "    </tr>\n",
       "    <tr>\n",
       "      <td>Frontoparietal 2</td>\n",
       "      <td>3</td>\n",
       "      <td>16</td>\n",
       "      <td>553</td>\n",
       "    </tr>\n",
       "    <tr>\n",
       "      <td>Frontoparietal_1</td>\n",
       "      <td>4</td>\n",
       "      <td>112</td>\n",
       "      <td>553</td>\n",
       "    </tr>\n",
       "    <tr>\n",
       "      <td>Medial_Parietal</td>\n",
       "      <td>5</td>\n",
       "      <td>11</td>\n",
       "      <td>553</td>\n",
       "    </tr>\n",
       "    <tr>\n",
       "      <td>Parieto_occipital</td>\n",
       "      <td>6</td>\n",
       "      <td>17</td>\n",
       "      <td>553</td>\n",
       "    </tr>\n",
       "    <tr>\n",
       "      <td>Salience</td>\n",
       "      <td>7</td>\n",
       "      <td>11</td>\n",
       "      <td>553</td>\n",
       "    </tr>\n",
       "    <tr>\n",
       "      <td>Somatomotor</td>\n",
       "      <td>8</td>\n",
       "      <td>90</td>\n",
       "      <td>553</td>\n",
       "    </tr>\n",
       "    <tr>\n",
       "      <td>Ventral_Attention</td>\n",
       "      <td>9</td>\n",
       "      <td>27</td>\n",
       "      <td>553</td>\n",
       "    </tr>\n",
       "    <tr>\n",
       "      <td>Visual_1</td>\n",
       "      <td>10</td>\n",
       "      <td>20</td>\n",
       "      <td>553</td>\n",
       "    </tr>\n",
       "    <tr>\n",
       "      <td>Visual_2</td>\n",
       "      <td>11</td>\n",
       "      <td>67</td>\n",
       "      <td>553</td>\n",
       "    </tr>\n",
       "  </tbody>\n",
       "</table>"
      ],
      "text/plain": [
       "<IPython.core.display.HTML object>"
      ]
     },
     "metadata": {},
     "output_type": "display_data"
    },
    {
     "name": "stdout",
     "output_type": "stream",
     "text": [
      "Already serving localhost:8000 \n",
      "[Force Graph] http://localhost:8000/results/fed1_spatial.html\n",
      "Processing session 3 (fast)...\n"
     ]
    },
    {
     "name": "stderr",
     "output_type": "stream",
     "text": [
      "/Users/calebgeniesse/src/miniconda3/lib/python3.6/site-packages/bct/algorithms/centrality.py:738: RuntimeWarning: invalid value encountered in true_divide\n",
      "  P = np.ones((n,)) - Kc2 / np.square(Ko)\n"
     ]
    },
    {
     "name": "stdout",
     "output_type": "stream",
     "text": [
      "KeplerMapper()\n",
      "Mapping on data shaped (554, 518) using lens shaped (554, 2)\n",
      "\n",
      "Creating 400 hypercubes.\n",
      "\n",
      "Created 311 edges and 164 nodes in 0:00:00.244769.\n"
     ]
    },
    {
     "data": {
      "text/html": [
       "<table border=\"1\" class=\"dataframe\">\n",
       "  <thead>\n",
       "    <tr style=\"text-align: right;\">\n",
       "      <th>label</th>\n",
       "      <th>group</th>\n",
       "      <th>value</th>\n",
       "      <th>row_count</th>\n",
       "    </tr>\n",
       "  </thead>\n",
       "  <tbody>\n",
       "    <tr>\n",
       "      <td>Cingulo_opercular</td>\n",
       "      <td>0</td>\n",
       "      <td>115</td>\n",
       "      <td>553</td>\n",
       "    </tr>\n",
       "    <tr>\n",
       "      <td>DMN</td>\n",
       "      <td>1</td>\n",
       "      <td>52</td>\n",
       "      <td>553</td>\n",
       "    </tr>\n",
       "    <tr>\n",
       "      <td>Dorsal_Attention</td>\n",
       "      <td>2</td>\n",
       "      <td>15</td>\n",
       "      <td>553</td>\n",
       "    </tr>\n",
       "    <tr>\n",
       "      <td>Frontoparietal 2</td>\n",
       "      <td>3</td>\n",
       "      <td>16</td>\n",
       "      <td>553</td>\n",
       "    </tr>\n",
       "    <tr>\n",
       "      <td>Frontoparietal_1</td>\n",
       "      <td>4</td>\n",
       "      <td>112</td>\n",
       "      <td>553</td>\n",
       "    </tr>\n",
       "    <tr>\n",
       "      <td>Medial_Parietal</td>\n",
       "      <td>5</td>\n",
       "      <td>11</td>\n",
       "      <td>553</td>\n",
       "    </tr>\n",
       "    <tr>\n",
       "      <td>Parieto_occipital</td>\n",
       "      <td>6</td>\n",
       "      <td>17</td>\n",
       "      <td>553</td>\n",
       "    </tr>\n",
       "    <tr>\n",
       "      <td>Salience</td>\n",
       "      <td>7</td>\n",
       "      <td>11</td>\n",
       "      <td>553</td>\n",
       "    </tr>\n",
       "    <tr>\n",
       "      <td>Somatomotor</td>\n",
       "      <td>8</td>\n",
       "      <td>90</td>\n",
       "      <td>553</td>\n",
       "    </tr>\n",
       "    <tr>\n",
       "      <td>Ventral_Attention</td>\n",
       "      <td>9</td>\n",
       "      <td>27</td>\n",
       "      <td>553</td>\n",
       "    </tr>\n",
       "    <tr>\n",
       "      <td>Visual_1</td>\n",
       "      <td>10</td>\n",
       "      <td>20</td>\n",
       "      <td>553</td>\n",
       "    </tr>\n",
       "    <tr>\n",
       "      <td>Visual_2</td>\n",
       "      <td>11</td>\n",
       "      <td>67</td>\n",
       "      <td>553</td>\n",
       "    </tr>\n",
       "  </tbody>\n",
       "</table>"
      ],
      "text/plain": [
       "<IPython.core.display.HTML object>"
      ]
     },
     "metadata": {},
     "output_type": "display_data"
    },
    {
     "name": "stdout",
     "output_type": "stream",
     "text": [
      "Already serving localhost:8000 \n",
      "[Force Graph] http://localhost:8000/results/fast3_spatial.html\n",
      "Processing session 4 (fed)...\n"
     ]
    },
    {
     "name": "stderr",
     "output_type": "stream",
     "text": [
      "/Users/calebgeniesse/src/miniconda3/lib/python3.6/site-packages/bct/algorithms/centrality.py:738: RuntimeWarning: invalid value encountered in true_divide\n",
      "  P = np.ones((n,)) - Kc2 / np.square(Ko)\n"
     ]
    },
    {
     "name": "stdout",
     "output_type": "stream",
     "text": [
      "KeplerMapper()\n",
      "Mapping on data shaped (554, 518) using lens shaped (554, 2)\n",
      "\n",
      "Creating 400 hypercubes.\n",
      "\n",
      "Created 302 edges and 156 nodes in 0:00:00.271329.\n"
     ]
    },
    {
     "data": {
      "text/html": [
       "<table border=\"1\" class=\"dataframe\">\n",
       "  <thead>\n",
       "    <tr style=\"text-align: right;\">\n",
       "      <th>label</th>\n",
       "      <th>group</th>\n",
       "      <th>value</th>\n",
       "      <th>row_count</th>\n",
       "    </tr>\n",
       "  </thead>\n",
       "  <tbody>\n",
       "    <tr>\n",
       "      <td>Cingulo_opercular</td>\n",
       "      <td>0</td>\n",
       "      <td>115</td>\n",
       "      <td>553</td>\n",
       "    </tr>\n",
       "    <tr>\n",
       "      <td>DMN</td>\n",
       "      <td>1</td>\n",
       "      <td>52</td>\n",
       "      <td>553</td>\n",
       "    </tr>\n",
       "    <tr>\n",
       "      <td>Dorsal_Attention</td>\n",
       "      <td>2</td>\n",
       "      <td>15</td>\n",
       "      <td>553</td>\n",
       "    </tr>\n",
       "    <tr>\n",
       "      <td>Frontoparietal 2</td>\n",
       "      <td>3</td>\n",
       "      <td>16</td>\n",
       "      <td>553</td>\n",
       "    </tr>\n",
       "    <tr>\n",
       "      <td>Frontoparietal_1</td>\n",
       "      <td>4</td>\n",
       "      <td>112</td>\n",
       "      <td>553</td>\n",
       "    </tr>\n",
       "    <tr>\n",
       "      <td>Medial_Parietal</td>\n",
       "      <td>5</td>\n",
       "      <td>11</td>\n",
       "      <td>553</td>\n",
       "    </tr>\n",
       "    <tr>\n",
       "      <td>Parieto_occipital</td>\n",
       "      <td>6</td>\n",
       "      <td>17</td>\n",
       "      <td>553</td>\n",
       "    </tr>\n",
       "    <tr>\n",
       "      <td>Salience</td>\n",
       "      <td>7</td>\n",
       "      <td>11</td>\n",
       "      <td>553</td>\n",
       "    </tr>\n",
       "    <tr>\n",
       "      <td>Somatomotor</td>\n",
       "      <td>8</td>\n",
       "      <td>90</td>\n",
       "      <td>553</td>\n",
       "    </tr>\n",
       "    <tr>\n",
       "      <td>Ventral_Attention</td>\n",
       "      <td>9</td>\n",
       "      <td>27</td>\n",
       "      <td>553</td>\n",
       "    </tr>\n",
       "    <tr>\n",
       "      <td>Visual_1</td>\n",
       "      <td>10</td>\n",
       "      <td>20</td>\n",
       "      <td>553</td>\n",
       "    </tr>\n",
       "    <tr>\n",
       "      <td>Visual_2</td>\n",
       "      <td>11</td>\n",
       "      <td>67</td>\n",
       "      <td>553</td>\n",
       "    </tr>\n",
       "  </tbody>\n",
       "</table>"
      ],
      "text/plain": [
       "<IPython.core.display.HTML object>"
      ]
     },
     "metadata": {},
     "output_type": "display_data"
    },
    {
     "name": "stdout",
     "output_type": "stream",
     "text": [
      "Already serving localhost:8000 \n",
      "[Force Graph] http://localhost:8000/results/fed4_spatial.html\n",
      "Processing session 6 (fast)...\n"
     ]
    },
    {
     "name": "stderr",
     "output_type": "stream",
     "text": [
      "/Users/calebgeniesse/src/miniconda3/lib/python3.6/site-packages/bct/algorithms/centrality.py:738: RuntimeWarning: invalid value encountered in true_divide\n",
      "  P = np.ones((n,)) - Kc2 / np.square(Ko)\n"
     ]
    },
    {
     "name": "stdout",
     "output_type": "stream",
     "text": [
      "KeplerMapper()\n",
      "Mapping on data shaped (554, 518) using lens shaped (554, 2)\n",
      "\n",
      "Creating 400 hypercubes.\n",
      "\n",
      "Created 303 edges and 158 nodes in 0:00:00.263620.\n"
     ]
    },
    {
     "data": {
      "text/html": [
       "<table border=\"1\" class=\"dataframe\">\n",
       "  <thead>\n",
       "    <tr style=\"text-align: right;\">\n",
       "      <th>label</th>\n",
       "      <th>group</th>\n",
       "      <th>value</th>\n",
       "      <th>row_count</th>\n",
       "    </tr>\n",
       "  </thead>\n",
       "  <tbody>\n",
       "    <tr>\n",
       "      <td>Cingulo_opercular</td>\n",
       "      <td>0</td>\n",
       "      <td>115</td>\n",
       "      <td>553</td>\n",
       "    </tr>\n",
       "    <tr>\n",
       "      <td>DMN</td>\n",
       "      <td>1</td>\n",
       "      <td>52</td>\n",
       "      <td>553</td>\n",
       "    </tr>\n",
       "    <tr>\n",
       "      <td>Dorsal_Attention</td>\n",
       "      <td>2</td>\n",
       "      <td>15</td>\n",
       "      <td>553</td>\n",
       "    </tr>\n",
       "    <tr>\n",
       "      <td>Frontoparietal 2</td>\n",
       "      <td>3</td>\n",
       "      <td>16</td>\n",
       "      <td>553</td>\n",
       "    </tr>\n",
       "    <tr>\n",
       "      <td>Frontoparietal_1</td>\n",
       "      <td>4</td>\n",
       "      <td>112</td>\n",
       "      <td>553</td>\n",
       "    </tr>\n",
       "    <tr>\n",
       "      <td>Medial_Parietal</td>\n",
       "      <td>5</td>\n",
       "      <td>11</td>\n",
       "      <td>553</td>\n",
       "    </tr>\n",
       "    <tr>\n",
       "      <td>Parieto_occipital</td>\n",
       "      <td>6</td>\n",
       "      <td>17</td>\n",
       "      <td>553</td>\n",
       "    </tr>\n",
       "    <tr>\n",
       "      <td>Salience</td>\n",
       "      <td>7</td>\n",
       "      <td>11</td>\n",
       "      <td>553</td>\n",
       "    </tr>\n",
       "    <tr>\n",
       "      <td>Somatomotor</td>\n",
       "      <td>8</td>\n",
       "      <td>90</td>\n",
       "      <td>553</td>\n",
       "    </tr>\n",
       "    <tr>\n",
       "      <td>Ventral_Attention</td>\n",
       "      <td>9</td>\n",
       "      <td>27</td>\n",
       "      <td>553</td>\n",
       "    </tr>\n",
       "    <tr>\n",
       "      <td>Visual_1</td>\n",
       "      <td>10</td>\n",
       "      <td>20</td>\n",
       "      <td>553</td>\n",
       "    </tr>\n",
       "    <tr>\n",
       "      <td>Visual_2</td>\n",
       "      <td>11</td>\n",
       "      <td>67</td>\n",
       "      <td>553</td>\n",
       "    </tr>\n",
       "  </tbody>\n",
       "</table>"
      ],
      "text/plain": [
       "<IPython.core.display.HTML object>"
      ]
     },
     "metadata": {},
     "output_type": "display_data"
    },
    {
     "name": "stdout",
     "output_type": "stream",
     "text": [
      "Already serving localhost:8000 \n",
      "[Force Graph] http://localhost:8000/results/fast6_spatial.html\n",
      "Processing session 7 (fed)...\n"
     ]
    },
    {
     "name": "stderr",
     "output_type": "stream",
     "text": [
      "/Users/calebgeniesse/src/miniconda3/lib/python3.6/site-packages/bct/algorithms/centrality.py:738: RuntimeWarning: invalid value encountered in true_divide\n",
      "  P = np.ones((n,)) - Kc2 / np.square(Ko)\n"
     ]
    },
    {
     "name": "stdout",
     "output_type": "stream",
     "text": [
      "KeplerMapper()\n",
      "Mapping on data shaped (554, 518) using lens shaped (554, 2)\n",
      "\n",
      "Creating 400 hypercubes.\n",
      "\n",
      "Created 288 edges and 155 nodes in 0:00:00.341623.\n"
     ]
    },
    {
     "data": {
      "text/html": [
       "<table border=\"1\" class=\"dataframe\">\n",
       "  <thead>\n",
       "    <tr style=\"text-align: right;\">\n",
       "      <th>label</th>\n",
       "      <th>group</th>\n",
       "      <th>value</th>\n",
       "      <th>row_count</th>\n",
       "    </tr>\n",
       "  </thead>\n",
       "  <tbody>\n",
       "    <tr>\n",
       "      <td>Cingulo_opercular</td>\n",
       "      <td>0</td>\n",
       "      <td>115</td>\n",
       "      <td>553</td>\n",
       "    </tr>\n",
       "    <tr>\n",
       "      <td>DMN</td>\n",
       "      <td>1</td>\n",
       "      <td>52</td>\n",
       "      <td>553</td>\n",
       "    </tr>\n",
       "    <tr>\n",
       "      <td>Dorsal_Attention</td>\n",
       "      <td>2</td>\n",
       "      <td>15</td>\n",
       "      <td>553</td>\n",
       "    </tr>\n",
       "    <tr>\n",
       "      <td>Frontoparietal 2</td>\n",
       "      <td>3</td>\n",
       "      <td>16</td>\n",
       "      <td>553</td>\n",
       "    </tr>\n",
       "    <tr>\n",
       "      <td>Frontoparietal_1</td>\n",
       "      <td>4</td>\n",
       "      <td>112</td>\n",
       "      <td>553</td>\n",
       "    </tr>\n",
       "    <tr>\n",
       "      <td>Medial_Parietal</td>\n",
       "      <td>5</td>\n",
       "      <td>11</td>\n",
       "      <td>553</td>\n",
       "    </tr>\n",
       "    <tr>\n",
       "      <td>Parieto_occipital</td>\n",
       "      <td>6</td>\n",
       "      <td>17</td>\n",
       "      <td>553</td>\n",
       "    </tr>\n",
       "    <tr>\n",
       "      <td>Salience</td>\n",
       "      <td>7</td>\n",
       "      <td>11</td>\n",
       "      <td>553</td>\n",
       "    </tr>\n",
       "    <tr>\n",
       "      <td>Somatomotor</td>\n",
       "      <td>8</td>\n",
       "      <td>90</td>\n",
       "      <td>553</td>\n",
       "    </tr>\n",
       "    <tr>\n",
       "      <td>Ventral_Attention</td>\n",
       "      <td>9</td>\n",
       "      <td>27</td>\n",
       "      <td>553</td>\n",
       "    </tr>\n",
       "    <tr>\n",
       "      <td>Visual_1</td>\n",
       "      <td>10</td>\n",
       "      <td>20</td>\n",
       "      <td>553</td>\n",
       "    </tr>\n",
       "    <tr>\n",
       "      <td>Visual_2</td>\n",
       "      <td>11</td>\n",
       "      <td>67</td>\n",
       "      <td>553</td>\n",
       "    </tr>\n",
       "  </tbody>\n",
       "</table>"
      ],
      "text/plain": [
       "<IPython.core.display.HTML object>"
      ]
     },
     "metadata": {},
     "output_type": "display_data"
    },
    {
     "name": "stdout",
     "output_type": "stream",
     "text": [
      "Already serving localhost:8000 \n",
      "[Force Graph] http://localhost:8000/results/fed7_spatial.html\n",
      "Processing session 9 (fast)...\n"
     ]
    },
    {
     "name": "stderr",
     "output_type": "stream",
     "text": [
      "/Users/calebgeniesse/src/miniconda3/lib/python3.6/site-packages/bct/algorithms/centrality.py:738: RuntimeWarning: invalid value encountered in true_divide\n",
      "  P = np.ones((n,)) - Kc2 / np.square(Ko)\n"
     ]
    },
    {
     "name": "stdout",
     "output_type": "stream",
     "text": [
      "KeplerMapper()\n",
      "Mapping on data shaped (554, 518) using lens shaped (554, 2)\n",
      "\n",
      "Creating 400 hypercubes.\n",
      "\n",
      "Created 264 edges and 147 nodes in 0:00:00.290161.\n"
     ]
    },
    {
     "data": {
      "text/html": [
       "<table border=\"1\" class=\"dataframe\">\n",
       "  <thead>\n",
       "    <tr style=\"text-align: right;\">\n",
       "      <th>label</th>\n",
       "      <th>group</th>\n",
       "      <th>value</th>\n",
       "      <th>row_count</th>\n",
       "    </tr>\n",
       "  </thead>\n",
       "  <tbody>\n",
       "    <tr>\n",
       "      <td>Cingulo_opercular</td>\n",
       "      <td>0</td>\n",
       "      <td>115</td>\n",
       "      <td>553</td>\n",
       "    </tr>\n",
       "    <tr>\n",
       "      <td>DMN</td>\n",
       "      <td>1</td>\n",
       "      <td>52</td>\n",
       "      <td>553</td>\n",
       "    </tr>\n",
       "    <tr>\n",
       "      <td>Dorsal_Attention</td>\n",
       "      <td>2</td>\n",
       "      <td>15</td>\n",
       "      <td>553</td>\n",
       "    </tr>\n",
       "    <tr>\n",
       "      <td>Frontoparietal 2</td>\n",
       "      <td>3</td>\n",
       "      <td>16</td>\n",
       "      <td>553</td>\n",
       "    </tr>\n",
       "    <tr>\n",
       "      <td>Frontoparietal_1</td>\n",
       "      <td>4</td>\n",
       "      <td>112</td>\n",
       "      <td>553</td>\n",
       "    </tr>\n",
       "    <tr>\n",
       "      <td>Medial_Parietal</td>\n",
       "      <td>5</td>\n",
       "      <td>11</td>\n",
       "      <td>553</td>\n",
       "    </tr>\n",
       "    <tr>\n",
       "      <td>Parieto_occipital</td>\n",
       "      <td>6</td>\n",
       "      <td>17</td>\n",
       "      <td>553</td>\n",
       "    </tr>\n",
       "    <tr>\n",
       "      <td>Salience</td>\n",
       "      <td>7</td>\n",
       "      <td>11</td>\n",
       "      <td>553</td>\n",
       "    </tr>\n",
       "    <tr>\n",
       "      <td>Somatomotor</td>\n",
       "      <td>8</td>\n",
       "      <td>90</td>\n",
       "      <td>553</td>\n",
       "    </tr>\n",
       "    <tr>\n",
       "      <td>Ventral_Attention</td>\n",
       "      <td>9</td>\n",
       "      <td>27</td>\n",
       "      <td>553</td>\n",
       "    </tr>\n",
       "    <tr>\n",
       "      <td>Visual_1</td>\n",
       "      <td>10</td>\n",
       "      <td>20</td>\n",
       "      <td>553</td>\n",
       "    </tr>\n",
       "    <tr>\n",
       "      <td>Visual_2</td>\n",
       "      <td>11</td>\n",
       "      <td>67</td>\n",
       "      <td>553</td>\n",
       "    </tr>\n",
       "  </tbody>\n",
       "</table>"
      ],
      "text/plain": [
       "<IPython.core.display.HTML object>"
      ]
     },
     "metadata": {},
     "output_type": "display_data"
    },
    {
     "name": "stdout",
     "output_type": "stream",
     "text": [
      "Already serving localhost:8000 \n",
      "[Force Graph] http://localhost:8000/results/fast9_spatial.html\n",
      "Processing session 10 (fed)...\n"
     ]
    },
    {
     "name": "stderr",
     "output_type": "stream",
     "text": [
      "/Users/calebgeniesse/src/miniconda3/lib/python3.6/site-packages/bct/algorithms/centrality.py:738: RuntimeWarning: invalid value encountered in true_divide\n",
      "  P = np.ones((n,)) - Kc2 / np.square(Ko)\n"
     ]
    },
    {
     "name": "stdout",
     "output_type": "stream",
     "text": [
      "KeplerMapper()\n",
      "Mapping on data shaped (554, 518) using lens shaped (554, 2)\n",
      "\n",
      "Creating 400 hypercubes.\n",
      "\n",
      "Created 376 edges and 180 nodes in 0:00:00.266037.\n"
     ]
    },
    {
     "data": {
      "text/html": [
       "<table border=\"1\" class=\"dataframe\">\n",
       "  <thead>\n",
       "    <tr style=\"text-align: right;\">\n",
       "      <th>label</th>\n",
       "      <th>group</th>\n",
       "      <th>value</th>\n",
       "      <th>row_count</th>\n",
       "    </tr>\n",
       "  </thead>\n",
       "  <tbody>\n",
       "    <tr>\n",
       "      <td>Cingulo_opercular</td>\n",
       "      <td>0</td>\n",
       "      <td>115</td>\n",
       "      <td>553</td>\n",
       "    </tr>\n",
       "    <tr>\n",
       "      <td>DMN</td>\n",
       "      <td>1</td>\n",
       "      <td>52</td>\n",
       "      <td>553</td>\n",
       "    </tr>\n",
       "    <tr>\n",
       "      <td>Dorsal_Attention</td>\n",
       "      <td>2</td>\n",
       "      <td>15</td>\n",
       "      <td>553</td>\n",
       "    </tr>\n",
       "    <tr>\n",
       "      <td>Frontoparietal 2</td>\n",
       "      <td>3</td>\n",
       "      <td>16</td>\n",
       "      <td>553</td>\n",
       "    </tr>\n",
       "    <tr>\n",
       "      <td>Frontoparietal_1</td>\n",
       "      <td>4</td>\n",
       "      <td>112</td>\n",
       "      <td>553</td>\n",
       "    </tr>\n",
       "    <tr>\n",
       "      <td>Medial_Parietal</td>\n",
       "      <td>5</td>\n",
       "      <td>11</td>\n",
       "      <td>553</td>\n",
       "    </tr>\n",
       "    <tr>\n",
       "      <td>Parieto_occipital</td>\n",
       "      <td>6</td>\n",
       "      <td>17</td>\n",
       "      <td>553</td>\n",
       "    </tr>\n",
       "    <tr>\n",
       "      <td>Salience</td>\n",
       "      <td>7</td>\n",
       "      <td>11</td>\n",
       "      <td>553</td>\n",
       "    </tr>\n",
       "    <tr>\n",
       "      <td>Somatomotor</td>\n",
       "      <td>8</td>\n",
       "      <td>90</td>\n",
       "      <td>553</td>\n",
       "    </tr>\n",
       "    <tr>\n",
       "      <td>Ventral_Attention</td>\n",
       "      <td>9</td>\n",
       "      <td>27</td>\n",
       "      <td>553</td>\n",
       "    </tr>\n",
       "    <tr>\n",
       "      <td>Visual_1</td>\n",
       "      <td>10</td>\n",
       "      <td>20</td>\n",
       "      <td>553</td>\n",
       "    </tr>\n",
       "    <tr>\n",
       "      <td>Visual_2</td>\n",
       "      <td>11</td>\n",
       "      <td>67</td>\n",
       "      <td>553</td>\n",
       "    </tr>\n",
       "  </tbody>\n",
       "</table>"
      ],
      "text/plain": [
       "<IPython.core.display.HTML object>"
      ]
     },
     "metadata": {},
     "output_type": "display_data"
    },
    {
     "name": "stdout",
     "output_type": "stream",
     "text": [
      "Already serving localhost:8000 \n",
      "[Force Graph] http://localhost:8000/results/fed10_spatial.html\n"
     ]
    },
    {
     "name": "stderr",
     "output_type": "stream",
     "text": [
      "/Users/calebgeniesse/src/miniconda3/lib/python3.6/site-packages/bct/algorithms/centrality.py:738: RuntimeWarning: invalid value encountered in true_divide\n",
      "  P = np.ones((n,)) - Kc2 / np.square(Ko)\n"
     ]
    }
   ],
   "source": [
    "# List of dictionaries for each session each keyed by RSN, and values are lists with a value for every node\n",
    "btw_fed = []\n",
    "btw_fast = []\n",
    "btw_null = []\n",
    "wmod_fed = []\n",
    "wmod_fast = []\n",
    "wmod_null = []\n",
    "Qfed = []\n",
    "Qfast = []\n",
    "Qnull = []\n",
    "p_fed = []\n",
    "p_fast = []\n",
    "p_null = []\n",
    "\n",
    "# List of matrices\n",
    "Afed = []\n",
    "Afast = []\n",
    "Anull = []\n",
    "\n",
    "# loop over sessions\n",
    "for sess_num,session in enumerate(sessions):\n",
    "    \n",
    "    # get day\n",
    "    day = int(session.meta['day_of_week'][0])    \n",
    "    if day not in [2, 4]:\n",
    "        continue\n",
    "    group = {2:'fast', 4:'fed'}.get(day)\n",
    "    print('Processing session %d (%s)...' % (sess_num+1, group))\n",
    "    \n",
    "    # Zscore data\n",
    "    Xz = scipy.stats.zscore(session.X,axis=0)\n",
    "    \n",
    "    # Run Mapper/DyNeuSR\n",
    "    result = run_mapper(Xz.T, y=df_roi_rsn, **config)\n",
    "    result['dG'].visualize(path_html='results/%s%d_spatial.html'%(group, sess_num+1),show=False,port=8000)\n",
    "    G = result['dG'].G_\n",
    "    \n",
    "    # Network analysis\n",
    "    Q,part = get_mod(G,return_partition=True)\n",
    "    actualA = nx.to_numpy_array(G)\n",
    "    C = [np.where(majorRSNs == part[node]) for node in G.nodes()] # RSN community labels\n",
    "\n",
    "    if group == 'fast':\n",
    "        btw_fast.append(betweenness(G,part))\n",
    "        wmod_fast.append(within_module_degree(G,part,normalize=True))\n",
    "        Qfast.append(Q)\n",
    "        Afast.append(result['dG'].tcm_)\n",
    "        p_fast.append(calc_particip(G,part,actualA,C))\n",
    "    elif group == 'fed': \n",
    "        btw_fed.append(betweenness(G,part))\n",
    "        wmod_fed.append(within_module_degree(G,part,normalize=True))\n",
    "        Qfed.append(Q)\n",
    "        Afed.append(result['dG'].tcm_)\n",
    "        p_fed.append(calc_particip(G,part,actualA,C))\n",
    "    \n",
    "    # Run SBM\n",
    "    sbm = nullSBM()\n",
    "    sbm.set_params(result['dG'].G_.copy())\n",
    "    sbm.run(num_itera=1)\n",
    "    \n",
    "    # Null model analysis \n",
    "    btw_null.append(betweenness(sbm.G_,sbm.partition))\n",
    "    wmod_null.append(within_module_degree(sbm.G_,sbm.partition,normalize=True))\n",
    "    Qnull.append(community.modularity(sbm.partition,sbm.G_))\n",
    "    Anull.append(sbm.A)\n",
    "    p_null.append(calc_particip(sbm.G_,sbm.partition,sbm.A,list(sbm.partition.values())))"
   ]
  },
  {
   "cell_type": "markdown",
   "metadata": {},
   "source": [
    "### Comparing ROI x ROI Adjacency to average Functional Connectivity ###\n",
    "\n",
    "Here, we visualize the __ROI x ROI adjacency matrix (RAM)__, where each row or column is a subject-specific parcellated brain region. The matrix was averaged across scans: 40 for fasted, 40 for fed, and all 84 for SBM. Comparing these to the average correlation matrix of the ROI timeseries across all scans shows that Mapper captures these relationships."
   ]
  },
  {
   "cell_type": "code",
   "execution_count": 40,
   "metadata": {},
   "outputs": [
    {
     "data": {
      "image/png": "[encoded data removed]",
      "text/plain": [
       "<Figure size 432x288 with 2 Axes>"
      ]
     },
     "metadata": {},
     "output_type": "display_data"
    },
    {
     "data": {
      "image/png": "[encoded data removed]",
      "text/plain": [
       "<Figure size 432x288 with 2 Axes>"
      ]
     },
     "metadata": {},
     "output_type": "display_data"
    },
    {
     "data": {
      "image/png": "[encoded data removed]",
      "text/plain": [
       "<Figure size 432x288 with 2 Axes>"
      ]
     },
     "metadata": {},
     "output_type": "display_data"
    },
    {
     "data": {
      "text/plain": [
       "<Figure size 432x288 with 0 Axes>"
      ]
     },
     "metadata": {},
     "output_type": "display_data"
    }
   ],
   "source": [
    "# Fast\n",
    "Afast_mean = np.mean(Afast,axis=0)\n",
    "plot_network_adj(Afast_mean, 'ROI x ROI matrix, Fast')\n",
    "plt.savefig('figures/fast_ram.jpg',dpi=300)\n",
    "\n",
    "# Fed\n",
    "Afed_mean = np.mean(Afed,axis=0)\n",
    "plot_network_adj(Afed_mean,'ROI x ROI matrix, Fed')\n",
    "plt.savefig('figures/fed_ram.jpg',dpi=300)\n",
    "\n",
    "# SBM\n",
    "SBM.plot()\n",
    "plt.savefig('figures/fast_sbm.jpg',dpi=300)\n",
    "\n",
    "# Average FC\n",
    "fc = [np.corrcoef(session.X.T) for session in sessions]\n",
    "fcmean = np.mean(fc,axis=0)\n",
    "plot_network_adj(fcmean,'Average functional connectivity across sessions')\n",
    "plt.savefig('figures/fc_ram.jpg',dpi=300)"
   ]
  },
  {
   "cell_type": "markdown",
   "metadata": {},
   "source": [
    "### Modularity of resting state networks across sessions ###\n",
    "\n",
    "Comparison of __graph modularity__ by using RSN labels as community assignments. __Real brain graphs exhibit a higher modularity than the random graph model__, but the fed and fasted states show similar modularity."
   ]
  },
  {
   "cell_type": "code",
   "execution_count": 71,
   "metadata": {},
   "outputs": [
    {
     "data": {
      "image/png": "[encoded data removed]",
      "text/plain": [
       "<Figure size 324x288 with 1 Axes>"
      ]
     },
     "metadata": {},
     "output_type": "display_data"
    }
   ],
   "source": [
    "Qfed_mean = np.mean(Qfed)\n",
    "Qfed_std = np.std(Qfed)\n",
    "Qfast_mean = np.mean(Qfast)\n",
    "Qfast_std = np.std(Qfast)\n",
    "Qnull_mean = np.mean(Qnull)\n",
    "Qnull_std = np.std(Qnull)\n",
    "\n",
    "barlabels = ['Fed','Fasted','SBM']\n",
    "barh = [Qfed_mean,Qfast_mean,Qnull_mean]\n",
    "barerr = [Qfed_std,Qfast_std,Qnull_std]\n",
    "bar_width = 0.15\n",
    "cmap = plt.cm.get_cmap('viridis', 20)\n",
    "colors = cmap(np.linspace(0,1,10))\n",
    "\n",
    "plt.close('all')\n",
    "plt.figure(figsize=(4.5,4))\n",
    "plt.bar([0.25,0.50,0.75],barh,bar_width,yerr=barerr,color=[colors[2],colors[7],'gray'])\n",
    "plt.xticks([0.25,0.50,0.75], barlabels, fontsize=10)\n",
    "plt.ylabel('Modularity')\n",
    "plt.title('Modularity of resting state networks across sessions', fontsize=11)\n",
    "fig = plt.gcf()\n",
    "fig.tight_layout()\n",
    "plt.savefig('figures/mod.jpg',dpi=300)\n",
    "plt.show()"
   ]
  },
  {
   "cell_type": "markdown",
   "metadata": {},
   "source": [
    "### Participation coefficient of resting state networks across sessions ###\n",
    "\n",
    "Comparison of __participation coefficient__ among the three types of graphs. Values were averaged across all nodes within an RSN within a scan, and then averaged across all scans."
   ]
  },
  {
   "cell_type": "code",
   "execution_count": 73,
   "metadata": {},
   "outputs": [
    {
     "data": {
      "image/png": "[encoded data removed]",
      "text/plain": [
       "<Figure size 864x288 with 1 Axes>"
      ]
     },
     "metadata": {},
     "output_type": "display_data"
    },
    {
     "data": {
      "text/plain": [
       "<Figure size 432x288 with 0 Axes>"
      ]
     },
     "metadata": {},
     "output_type": "display_data"
    }
   ],
   "source": [
    "rsnstats_fed = collections.defaultdict(list)\n",
    "for session in p_fed:\n",
    "    for rsn in session:\n",
    "        rsnstats_fed[rsn].append(np.mean(session[rsn]))\n",
    "        \n",
    "rsnstats_fast = collections.defaultdict(list)\n",
    "for session in p_fast:\n",
    "    for rsn in session:\n",
    "        rsnstats_fast[rsn].append(np.mean(session[rsn]))\n",
    "        \n",
    "rsnstats_null = collections.defaultdict(list)\n",
    "for session in p_null:\n",
    "    for rsn in session:\n",
    "        rsnstats_null[rsn].append(np.mean(session[rsn]))\n",
    "        \n",
    "plot_network_measure(rsnstats_fed,rsnstats_fast,\n",
    "                     'Average participation coefficient',\n",
    "                     'Participation coefficient of resting-state networks in fed vs fasted states',\n",
    "                     0.8,\n",
    "                     null_measure=rsnstats_null\n",
    "                    )\n",
    "plt.savefig('figures/particip.jpg',dpi=300)"
   ]
  },
  {
   "cell_type": "markdown",
   "metadata": {},
   "source": [
    "### Within-module connectivity of resting state networks across sessions ###\n",
    "\n",
    "Comparison of __within-module connectivity__ among the three types of graphs. Values were averaged across all nodes within an RSN within a scan, and then averaged across all scans. Within module degree was normalized by community size to remove the possibility that larger communities had a higher chance of created edges within itself."
   ]
  },
  {
   "cell_type": "code",
   "execution_count": 74,
   "metadata": {},
   "outputs": [
    {
     "data": {
      "image/png": "[encoded data removed]",
      "text/plain": [
       "<Figure size 864x288 with 1 Axes>"
      ]
     },
     "metadata": {},
     "output_type": "display_data"
    },
    {
     "data": {
      "text/plain": [
       "<Figure size 432x288 with 0 Axes>"
      ]
     },
     "metadata": {},
     "output_type": "display_data"
    }
   ],
   "source": [
    "rsnstats_fed = collections.defaultdict(list)\n",
    "for session in wmod_fed:\n",
    "    for rsn in session:\n",
    "        rsnstats_fed[rsn].append(np.mean(session[rsn]))\n",
    "\n",
    "rsnstats_fast = collections.defaultdict(list)\n",
    "for session in wmod_fast:\n",
    "    for rsn in session:\n",
    "        rsnstats_fast[rsn].append(np.mean(session[rsn]))\n",
    "        \n",
    "rsnstats_null = collections.defaultdict(list)\n",
    "for session in wmod_null:\n",
    "    for rsn in session:\n",
    "        rsnstats_null[rsn].append(np.mean(session[rsn]))\n",
    "        \n",
    "plot_network_measure(rsnstats_fed,rsnstats_fast,\n",
    "                     'Average within-module degree, normalized',\n",
    "                     'Within-module connectivity of resting-state networks in fed vs fasted states',\n",
    "                     0.8,\n",
    "                     null_measure=rsnstats_null\n",
    "                    )\n",
    "plt.savefig('figures/wmod.jpg',dpi=300)"
   ]
  },
  {
   "cell_type": "markdown",
   "metadata": {},
   "source": [
    "### Betweenness centrality of resting state networks across sessions ###\n",
    "\n",
    "Comparison of __betweenness centrality__ among the three types of graphs. Values were averaged across all nodes within an RSN within a scan, and then averaged across all scans. "
   ]
  },
  {
   "cell_type": "code",
   "execution_count": 75,
   "metadata": {},
   "outputs": [
    {
     "data": {
      "image/png": "[encoded data removed]",
      "text/plain": [
       "<Figure size 864x288 with 1 Axes>"
      ]
     },
     "metadata": {},
     "output_type": "display_data"
    },
    {
     "data": {
      "text/plain": [
       "<Figure size 432x288 with 0 Axes>"
      ]
     },
     "metadata": {},
     "output_type": "display_data"
    }
   ],
   "source": [
    "rsnstats_fed = collections.defaultdict(list)\n",
    "for session in btw_fed:\n",
    "    for rsn in session:\n",
    "        rsnstats_fed[rsn].append(np.mean(session[rsn]))\n",
    "        \n",
    "rsnstats_fast = collections.defaultdict(list)\n",
    "for session in btw_fast:\n",
    "    for rsn in session:\n",
    "        rsnstats_fast[rsn].append(np.mean(session[rsn]))\n",
    "        \n",
    "rsnstats_null = collections.defaultdict(list)\n",
    "for session in btw_null:\n",
    "    for rsn in session:\n",
    "        rsnstats_null[rsn].append(np.mean(session[rsn]))\n",
    "        \n",
    "plot_network_measure(rsnstats_fed,rsnstats_fast,\n",
    "                     'Average betweenness centrality',\n",
    "                     'Betweenness of resting-state networks in fed vs. fasted states',\n",
    "                     0.3,\n",
    "                     null_measure=rsnstats_null\n",
    "                    )\n",
    "plt.savefig('figures/btw.jpg',dpi=300)"
   ]
  },
  {
   "cell_type": "markdown",
   "metadata": {},
   "source": [
    "# Discussion #\n",
    "\n",
    " - Fasted state exhibits __increased participation coefficient__ across almost all resting state networks compared to fed state\n",
    "\n",
    "\n",
    " - Both real brain graphs showed __higher participation, within-module connectivity,__ and __modularity__ across all resting state networks compared to the null model\n",
    "\n",
    "\n",
    " - Greater structure within a network vs. null model\n",
    "\n",
    "\n",
    "\n",
    "## Conclusions ##\n",
    "\n",
    " - Mapper graphs capture brain’s ability to optimize the balance between integration and segregation of function\n",
    "\n",
    "\n",
    " - The results from this study show that Mapper  can  reveal  important  anatomical  and  functional  architecture  of  the human brain\n",
    "\n",
    "\n",
    " - Running Mapper in anatomical space can be used to highlight physiologically relevant anatomical regions of interest to guide further analysis\n"
   ]
  },
  {
   "cell_type": "markdown",
   "metadata": {},
   "source": [
    "# Contributions #\n",
    "\n",
    "R.A. and C.G. designed the experiments. C.G. collected and cleaned the data. R.A. and C.G. developed and implemented preprocessing and analysis methods. R.A. and C.G. performed and interpreted analyses. R.A. drafted a manuscript (for CS 224W) and C.G. combined relevent parts of this writeup with analysis code and results into a final computational notebook. \n",
    "\n",
    "# Acknowledgments #\n",
    "\n",
    "Funding was provided by a Graduate Research Fellowship (NIH-GRF) from the National Science Foundation (NSF) to R.A., and a Biophysics Training Grant (GM008294) from the National Institute of Health (NIH) to C.G."
   ]
  },
  {
   "cell_type": "markdown",
   "metadata": {},
   "source": [
    "# References #"
   ]
  },
  {
   "cell_type": "markdown",
   "metadata": {},
   "source": [
    "**1** Glomb, 2017 <br>\n",
    "**2** Hansen, 2015 <br>\n",
    "**3** Deco, 2013 <br>\n",
    "**4** Greicius, 2008<br>\n",
    "**5** Poldrack, 2015<br>\n",
    "**6** Saggar, 2018<br>\n",
    "**7** Esteban, 2018<br>\n",
    "**8** Singh, 2007<br>\n",
    "**9** VanderMaaten, 2008<br>\n",
    "**10** McInnes, 2017<br>\n",
    "**11** Abbe, 2017<br>\n"
   ]
  }
 ],
 "metadata": {
  "kernelspec": {
   "display_name": "Python 3",
   "language": "python",
   "name": "python3"
  },
  "language_info": {
   "codemirror_mode": {
    "name": "ipython",
    "version": 3
   },
   "file_extension": ".py",
   "mimetype": "text/x-python",
   "name": "python",
   "nbconvert_exporter": "python",
   "pygments_lexer": "ipython3",
   "version": "3.6.6"
  },
  "toc": {
   "base_numbering": 1,
   "nav_menu": {},
   "number_sections": true,
   "sideBar": true,
   "skip_h1_title": false,
   "title_cell": "Contents",
   "title_sidebar": "Contents",
   "toc_cell": true,
   "toc_position": {
    "height": "calc(100% - 180px)",
    "left": "10px",
    "top": "150px",
    "width": "312px"
   },
   "toc_section_display": true,
   "toc_window_display": true
  },
  "varInspector": {
   "cols": {
    "lenName": 16,
    "lenType": 16,
    "lenVar": 40
   },
   "kernels_config": {
    "python": {
     "delete_cmd_postfix": "",
     "delete_cmd_prefix": "del ",
     "library": "var_list.py",
     "varRefreshCmd": "print(var_dic_list())"
    },
    "r": {
     "delete_cmd_postfix": ") ",
     "delete_cmd_prefix": "rm(",
     "library": "var_list.r",
     "varRefreshCmd": "cat(var_dic_list()) "
    }
   },
   "types_to_exclude": [
    "module",
    "function",
    "builtin_function_or_method",
    "instance",
    "_Feature"
   ],
   "window_display": false
  }
 },
 "nbformat": 4,
 "nbformat_minor": 2
}
