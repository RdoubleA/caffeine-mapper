{
 "cells": [
  {
   "cell_type": "markdown",
   "metadata": {},
   "source": [
    "# Fed vs. fasted: comparing RSNs in giant Mappers"
   ]
  },
  {
   "cell_type": "markdown",
   "metadata": {},
   "source": [
    "Let's recreate Figure 4 in Poldrack et al. 2015, Nature Communications, using Mapper!"
   ]
  },
  {
   "cell_type": "markdown",
   "metadata": {},
   "source": [
    "#### Load data"
   ]
  },
  {
   "cell_type": "code",
   "execution_count": 1,
   "metadata": {
    "scrolled": true
   },
   "outputs": [
    {
     "name": "stderr",
     "output_type": "stream",
     "text": [
      "/Users/rafi/miniconda/envs/dyno/lib/python3.6/importlib/_bootstrap.py:205: RuntimeWarning: numpy.dtype size changed, may indicate binary incompatibility. Expected 96, got 88\n",
      "  return f(*args, **kwds)\n",
      "INFO:load_data:load_scrubbed(**{'n_sessions': -1, 'merge': False})\n",
      "INFO:load_data:Loading data...\n",
      "INFO:root:  [+] session: 1, path: data/base/combined_data_scrubbed/sub014.txt\n",
      "INFO:root:  [+] session: 2, path: data/base/combined_data_scrubbed/sub015.txt\n",
      "INFO:root:  [+] session: 3, path: data/base/combined_data_scrubbed/sub016.txt\n",
      "INFO:root:  [+] session: 4, path: data/base/combined_data_scrubbed/sub017.txt\n",
      "INFO:root:  [+] session: 5, path: data/base/combined_data_scrubbed/sub018.txt\n",
      "INFO:root:  [+] session: 6, path: data/base/combined_data_scrubbed/sub019.txt\n",
      "INFO:root:  [+] session: 7, path: data/base/combined_data_scrubbed/sub020.txt\n",
      "INFO:root:  [+] session: 8, path: data/base/combined_data_scrubbed/sub021.txt\n",
      "INFO:root:  [+] session: 9, path: data/base/combined_data_scrubbed/sub022.txt\n",
      "INFO:root:  [+] session: 10, path: data/base/combined_data_scrubbed/sub023.txt\n",
      "INFO:root:  [+] session: 11, path: data/base/combined_data_scrubbed/sub024.txt\n",
      "INFO:root:  [+] session: 12, path: data/base/combined_data_scrubbed/sub025.txt\n",
      "INFO:root:  [+] session: 13, path: data/base/combined_data_scrubbed/sub026.txt\n",
      "INFO:root:  [+] session: 14, path: data/base/combined_data_scrubbed/sub027.txt\n",
      "INFO:root:  [+] session: 15, path: data/base/combined_data_scrubbed/sub028.txt\n",
      "INFO:root:  [+] session: 16, path: data/base/combined_data_scrubbed/sub029.txt\n",
      "INFO:root:  [+] session: 17, path: data/base/combined_data_scrubbed/sub030.txt\n",
      "INFO:root:  [+] session: 18, path: data/base/combined_data_scrubbed/sub032.txt\n",
      "INFO:root:  [+] session: 19, path: data/base/combined_data_scrubbed/sub035.txt\n",
      "INFO:root:  [+] session: 20, path: data/base/combined_data_scrubbed/sub036.txt\n",
      "INFO:root:  [+] session: 21, path: data/base/combined_data_scrubbed/sub037.txt\n",
      "INFO:root:  [+] session: 22, path: data/base/combined_data_scrubbed/sub038.txt\n",
      "INFO:root:  [+] session: 23, path: data/base/combined_data_scrubbed/sub039.txt\n",
      "INFO:root:  [+] session: 24, path: data/base/combined_data_scrubbed/sub040.txt\n",
      "INFO:root:  [+] session: 25, path: data/base/combined_data_scrubbed/sub041.txt\n",
      "INFO:root:  [+] session: 26, path: data/base/combined_data_scrubbed/sub042.txt\n",
      "INFO:root:  [+] session: 27, path: data/base/combined_data_scrubbed/sub043.txt\n",
      "INFO:root:  [+] session: 28, path: data/base/combined_data_scrubbed/sub044.txt\n",
      "INFO:root:  [+] session: 29, path: data/base/combined_data_scrubbed/sub045.txt\n",
      "INFO:root:  [+] session: 30, path: data/base/combined_data_scrubbed/sub046.txt\n",
      "INFO:root:  [+] session: 31, path: data/base/combined_data_scrubbed/sub047.txt\n",
      "INFO:root:  [+] session: 32, path: data/base/combined_data_scrubbed/sub048.txt\n",
      "INFO:root:  [+] session: 33, path: data/base/combined_data_scrubbed/sub049.txt\n",
      "INFO:root:  [+] session: 34, path: data/base/combined_data_scrubbed/sub050.txt\n",
      "INFO:root:  [+] session: 35, path: data/base/combined_data_scrubbed/sub051.txt\n",
      "INFO:root:  [+] session: 36, path: data/base/combined_data_scrubbed/sub053.txt\n",
      "INFO:root:  [+] session: 37, path: data/base/combined_data_scrubbed/sub054.txt\n",
      "INFO:root:  [+] session: 38, path: data/base/combined_data_scrubbed/sub056.txt\n",
      "INFO:root:  [+] session: 39, path: data/base/combined_data_scrubbed/sub057.txt\n",
      "INFO:root:  [+] session: 40, path: data/base/combined_data_scrubbed/sub058.txt\n",
      "INFO:root:  [+] session: 41, path: data/base/combined_data_scrubbed/sub059.txt\n",
      "INFO:root:  [+] session: 42, path: data/base/combined_data_scrubbed/sub060.txt\n",
      "INFO:root:  [+] session: 43, path: data/base/combined_data_scrubbed/sub061.txt\n",
      "INFO:root:  [+] session: 44, path: data/base/combined_data_scrubbed/sub062.txt\n",
      "INFO:root:  [+] session: 45, path: data/base/combined_data_scrubbed/sub063.txt\n",
      "INFO:root:  [+] session: 46, path: data/base/combined_data_scrubbed/sub064.txt\n",
      "INFO:root:  [+] session: 47, path: data/base/combined_data_scrubbed/sub065.txt\n",
      "INFO:root:  [+] session: 48, path: data/base/combined_data_scrubbed/sub066.txt\n",
      "INFO:root:  [+] session: 49, path: data/base/combined_data_scrubbed/sub067.txt\n",
      "INFO:root:  [+] session: 50, path: data/base/combined_data_scrubbed/sub068.txt\n",
      "INFO:root:  [+] session: 51, path: data/base/combined_data_scrubbed/sub069.txt\n",
      "INFO:root:  [+] session: 52, path: data/base/combined_data_scrubbed/sub070.txt\n",
      "INFO:root:  [+] session: 53, path: data/base/combined_data_scrubbed/sub071.txt\n",
      "INFO:root:  [+] session: 54, path: data/base/combined_data_scrubbed/sub072.txt\n",
      "INFO:root:  [+] session: 55, path: data/base/combined_data_scrubbed/sub073.txt\n",
      "INFO:root:  [+] session: 56, path: data/base/combined_data_scrubbed/sub074.txt\n",
      "INFO:root:  [+] session: 57, path: data/base/combined_data_scrubbed/sub075.txt\n",
      "INFO:root:  [+] session: 58, path: data/base/combined_data_scrubbed/sub076.txt\n",
      "INFO:root:  [+] session: 59, path: data/base/combined_data_scrubbed/sub077.txt\n",
      "INFO:root:  [+] session: 60, path: data/base/combined_data_scrubbed/sub078.txt\n",
      "INFO:root:  [+] session: 61, path: data/base/combined_data_scrubbed/sub079.txt\n",
      "INFO:root:  [+] session: 62, path: data/base/combined_data_scrubbed/sub080.txt\n",
      "INFO:root:  [+] session: 63, path: data/base/combined_data_scrubbed/sub081.txt\n",
      "INFO:root:  [+] session: 64, path: data/base/combined_data_scrubbed/sub082.txt\n",
      "INFO:root:  [+] session: 65, path: data/base/combined_data_scrubbed/sub083.txt\n",
      "INFO:root:  [+] session: 66, path: data/base/combined_data_scrubbed/sub084.txt\n",
      "INFO:root:  [+] session: 67, path: data/base/combined_data_scrubbed/sub085.txt\n",
      "INFO:root:  [+] session: 68, path: data/base/combined_data_scrubbed/sub086.txt\n",
      "INFO:root:  [+] session: 69, path: data/base/combined_data_scrubbed/sub087.txt\n",
      "INFO:root:  [+] session: 70, path: data/base/combined_data_scrubbed/sub088.txt\n",
      "INFO:root:  [+] session: 71, path: data/base/combined_data_scrubbed/sub089.txt\n",
      "INFO:root:  [+] session: 72, path: data/base/combined_data_scrubbed/sub091.txt\n",
      "INFO:root:  [+] session: 73, path: data/base/combined_data_scrubbed/sub092.txt\n",
      "INFO:root:  [+] session: 74, path: data/base/combined_data_scrubbed/sub094.txt\n",
      "INFO:root:  [+] session: 75, path: data/base/combined_data_scrubbed/sub095.txt\n",
      "INFO:root:  [+] session: 76, path: data/base/combined_data_scrubbed/sub096.txt\n",
      "INFO:root:  [+] session: 77, path: data/base/combined_data_scrubbed/sub097.txt\n",
      "INFO:root:  [+] session: 78, path: data/base/combined_data_scrubbed/sub098.txt\n",
      "INFO:root:  [+] session: 79, path: data/base/combined_data_scrubbed/sub099.txt\n",
      "INFO:root:  [+] session: 80, path: data/base/combined_data_scrubbed/sub100.txt\n",
      "INFO:root:  [+] session: 81, path: data/base/combined_data_scrubbed/sub101.txt\n",
      "INFO:root:  [+] session: 82, path: data/base/combined_data_scrubbed/sub102.txt\n",
      "INFO:root:  [+] session: 83, path: data/base/combined_data_scrubbed/sub103.txt\n",
      "INFO:root:  [+] session: 84, path: data/base/combined_data_scrubbed/sub104.txt\n"
     ]
    }
   ],
   "source": [
    "from utils import *\n",
    "\n",
    "majorRSNs = ['Cingulo_opercular','Frontoparietal_1','Somatomotor','Visual_2','DMN']\n",
    " \n",
    "df_behavior = pd.read_table('data/base/behavior/trackingdata_goodscans.txt')\n",
    "\n",
    "sessions = load_scrubbed(n_sessions=-1, merge=False)\n",
    "\n",
    "roi2rsn = np.array(sessions[0].atlas['data']['network'])\n",
    "roi2rsn_clean = roi2rsn[np.isin(roi2rsn,majorRSNs)]"
   ]
  },
  {
   "cell_type": "markdown",
   "metadata": {},
   "source": [
    "#### Clean data"
   ]
  },
  {
   "cell_type": "markdown",
   "metadata": {},
   "source": [
    "Load temporal masks and remove TRs with excessive motion. Additionally, remove parcels that do not belong to major RSNs."
   ]
  },
  {
   "cell_type": "code",
   "execution_count": 2,
   "metadata": {},
   "outputs": [],
   "source": [
    "def clean_data(datamat, df_rsn_act, subject_index):\n",
    "    # Datamat must be TRs x ROIs\n",
    "    newdata = np.array(datamat)\n",
    "    # Get subcode\n",
    "    subcode = df_behavior.loc[subject_index,'subcode']\n",
    "    # Load temporal mask\n",
    "    tmask = np.loadtxt('data/base/rsfmri/tmasks/' + subcode + '.txt').astype(bool)\n",
    "    # Clean data\n",
    "    newdata = newdata[tmask,:]\n",
    "    newdata = newdata[:,np.isin(roi2rsn,majorRSNs)]\n",
    "    # Clean the one hot encoded pandas dataframe df_rsn_act\n",
    "    newdf = df_rsn_act.iloc[tmask,np.isin(df_rsn_bin.columns,majorRSNs)]\n",
    "\n",
    "    return newdata,newdf    "
   ]
  },
  {
   "cell_type": "markdown",
   "metadata": {},
   "source": [
    "#### Run Mapper in temporal space - create one super graph for both fed and fasted"
   ]
  },
  {
   "cell_type": "code",
   "execution_count": 3,
   "metadata": {},
   "outputs": [
    {
     "name": "stdout",
     "output_type": "stream",
     "text": [
      "(15576, 437)\n",
      "(20262, 437)\n",
      "(15576, 5)\n",
      "(20262, 5)\n"
     ]
    }
   ],
   "source": [
    "fed_frames = []\n",
    "fast_frames = []\n",
    "X_fed = []\n",
    "X_fast = []\n",
    "for sess_num,session in enumerate(sessions):\n",
    "    # Get RSN activations\n",
    "    df_rsn_bin = get_RSN_act(session.X, session.atlas)\n",
    "    # Clean data\n",
    "    X,df = clean_data(session.X,df_rsn_bin,sess_num)\n",
    "    # Zscore data\n",
    "    Xz = scipy.stats.zscore(X,axis=0)\n",
    "    # Append to big list - tuesday is fasted, thursday is fed\n",
    "    if int(session.meta['day_of_week'][0]) == 4:\n",
    "        X_fed.append(Xz)\n",
    "        fed_frames.append(df)\n",
    "    elif int(session.meta['day_of_week'][0]) == 2:\n",
    "        X_fast.append(Xz)\n",
    "        fast_frames.append(df)\n",
    "\n",
    "df_rsn_fed = pd.concat(fed_frames)\n",
    "df_rsn_fast = pd.concat(fast_frames)\n",
    "X_fed = np.concatenate(X_fed,axis=0)\n",
    "X_fast = np.concatenate(X_fast,axis=0)\n",
    "print(X_fed.shape)\n",
    "print(X_fast.shape)\n",
    "print(df_rsn_fed.shape)\n",
    "print(df_rsn_fast.shape)"
   ]
  },
  {
   "cell_type": "code",
   "execution_count": null,
   "metadata": {},
   "outputs": [],
   "source": [
    "# Sweep through resolution and gain\n",
    "resolutions = [10,30,50,70]\n",
    "gains = [2.,3.,4.,5.]\n",
    "itera = 1\n",
    "for res in resolutions:\n",
    "    for gain in gains:\n",
    "        overlap = (gain - 1) / gain\n",
    "        # Run Mapper/DyNeuSR\n",
    "        print('Running mapper %d on fed data...' % itera)\n",
    "        results_fed = run_mapper(X_fed,df_rsn_fed,verbose=1,cover=km.Cover(res,overlap))\n",
    "        # Visualize DyNeuGraph\n",
    "        results_fed['dG'].visualize(path_html='results/fed_super_R%d_G%d.html' % (res,int(gain)), show=False, reset=True, static=False, PORT=8800)\n",
    "        itera = itera + 1"
   ]
  },
  {
   "cell_type": "code",
   "execution_count": 4,
   "metadata": {
    "scrolled": true
   },
   "outputs": [
    {
     "name": "stdout",
     "output_type": "stream",
     "text": [
      "Running mapper 1 on fast data...\n",
      "KeplerMapper()\n",
      "Mapping on data shaped (20262, 437) using lens shaped (20262, 2)\n",
      "\n",
      "Creating 100 hypercubes.\n",
      "\n",
      "Created 314 edges and 93 nodes in 0:00:26.758353.\n"
     ]
    },
    {
     "data": {
      "text/html": [
       "<table border=\"1\" class=\"dataframe\">\n",
       "  <thead>\n",
       "    <tr style=\"text-align: right;\">\n",
       "      <th>label</th>\n",
       "      <th>group</th>\n",
       "      <th>value</th>\n",
       "      <th>row_count</th>\n",
       "    </tr>\n",
       "  </thead>\n",
       "  <tbody>\n",
       "    <tr>\n",
       "      <td>Cingulo_opercular</td>\n",
       "      <td>0</td>\n",
       "      <td>3711</td>\n",
       "      <td>20261</td>\n",
       "    </tr>\n",
       "    <tr>\n",
       "      <td>DMN</td>\n",
       "      <td>1</td>\n",
       "      <td>3885</td>\n",
       "      <td>20261</td>\n",
       "    </tr>\n",
       "    <tr>\n",
       "      <td>Frontoparietal_1</td>\n",
       "      <td>2</td>\n",
       "      <td>3811</td>\n",
       "      <td>20261</td>\n",
       "    </tr>\n",
       "    <tr>\n",
       "      <td>Somatomotor</td>\n",
       "      <td>3</td>\n",
       "      <td>4506</td>\n",
       "      <td>20261</td>\n",
       "    </tr>\n",
       "    <tr>\n",
       "      <td>Visual_2</td>\n",
       "      <td>4</td>\n",
       "      <td>4154</td>\n",
       "      <td>20261</td>\n",
       "    </tr>\n",
       "  </tbody>\n",
       "</table>"
      ],
      "text/plain": [
       "<IPython.core.display.HTML object>"
      ]
     },
     "metadata": {},
     "output_type": "display_data"
    },
    {
     "name": "stdout",
     "output_type": "stream",
     "text": [
      "[Force Graph] http://localhost:8800/results/fast_super_R10_G2.html\n",
      "Running mapper 2 on fast data...\n",
      "KeplerMapper()\n",
      "Mapping on data shaped (20262, 437) using lens shaped (20262, 2)\n",
      "\n",
      "Creating 100 hypercubes.\n",
      "\n",
      "Created 314 edges and 93 nodes in 0:00:39.594362.\n"
     ]
    },
    {
     "data": {
      "text/html": [
       "<table border=\"1\" class=\"dataframe\">\n",
       "  <thead>\n",
       "    <tr style=\"text-align: right;\">\n",
       "      <th>label</th>\n",
       "      <th>group</th>\n",
       "      <th>value</th>\n",
       "      <th>row_count</th>\n",
       "    </tr>\n",
       "  </thead>\n",
       "  <tbody>\n",
       "    <tr>\n",
       "      <td>Cingulo_opercular</td>\n",
       "      <td>0</td>\n",
       "      <td>3711</td>\n",
       "      <td>20261</td>\n",
       "    </tr>\n",
       "    <tr>\n",
       "      <td>DMN</td>\n",
       "      <td>1</td>\n",
       "      <td>3885</td>\n",
       "      <td>20261</td>\n",
       "    </tr>\n",
       "    <tr>\n",
       "      <td>Frontoparietal_1</td>\n",
       "      <td>2</td>\n",
       "      <td>3811</td>\n",
       "      <td>20261</td>\n",
       "    </tr>\n",
       "    <tr>\n",
       "      <td>Somatomotor</td>\n",
       "      <td>3</td>\n",
       "      <td>4506</td>\n",
       "      <td>20261</td>\n",
       "    </tr>\n",
       "    <tr>\n",
       "      <td>Visual_2</td>\n",
       "      <td>4</td>\n",
       "      <td>4154</td>\n",
       "      <td>20261</td>\n",
       "    </tr>\n",
       "  </tbody>\n",
       "</table>"
      ],
      "text/plain": [
       "<IPython.core.display.HTML object>"
      ]
     },
     "metadata": {},
     "output_type": "display_data"
    },
    {
     "name": "stdout",
     "output_type": "stream",
     "text": [
      "[Force Graph] http://localhost:8800/results/fast_super_R10_G3.html\n",
      "Running mapper 3 on fast data...\n",
      "KeplerMapper()\n",
      "Mapping on data shaped (20262, 437) using lens shaped (20262, 2)\n",
      "\n",
      "Creating 100 hypercubes.\n",
      "\n",
      "Created 314 edges and 93 nodes in 0:00:56.929925.\n"
     ]
    },
    {
     "data": {
      "text/html": [
       "<table border=\"1\" class=\"dataframe\">\n",
       "  <thead>\n",
       "    <tr style=\"text-align: right;\">\n",
       "      <th>label</th>\n",
       "      <th>group</th>\n",
       "      <th>value</th>\n",
       "      <th>row_count</th>\n",
       "    </tr>\n",
       "  </thead>\n",
       "  <tbody>\n",
       "    <tr>\n",
       "      <td>Cingulo_opercular</td>\n",
       "      <td>0</td>\n",
       "      <td>3711</td>\n",
       "      <td>20261</td>\n",
       "    </tr>\n",
       "    <tr>\n",
       "      <td>DMN</td>\n",
       "      <td>1</td>\n",
       "      <td>3885</td>\n",
       "      <td>20261</td>\n",
       "    </tr>\n",
       "    <tr>\n",
       "      <td>Frontoparietal_1</td>\n",
       "      <td>2</td>\n",
       "      <td>3811</td>\n",
       "      <td>20261</td>\n",
       "    </tr>\n",
       "    <tr>\n",
       "      <td>Somatomotor</td>\n",
       "      <td>3</td>\n",
       "      <td>4506</td>\n",
       "      <td>20261</td>\n",
       "    </tr>\n",
       "    <tr>\n",
       "      <td>Visual_2</td>\n",
       "      <td>4</td>\n",
       "      <td>4154</td>\n",
       "      <td>20261</td>\n",
       "    </tr>\n",
       "  </tbody>\n",
       "</table>"
      ],
      "text/plain": [
       "<IPython.core.display.HTML object>"
      ]
     },
     "metadata": {},
     "output_type": "display_data"
    },
    {
     "ename": "KeyboardInterrupt",
     "evalue": "",
     "output_type": "error",
     "traceback": [
      "\u001b[0;31m---------------------------------------------------------------------------\u001b[0m",
      "\u001b[0;31mKeyboardInterrupt\u001b[0m                         Traceback (most recent call last)",
      "\u001b[0;32m<ipython-input-4-622b46ab0d17>\u001b[0m in \u001b[0;36m<module>\u001b[0;34m\u001b[0m\n\u001b[1;32m      8\u001b[0m         \u001b[0;31m# Run Mapper/DyNeuSR\u001b[0m\u001b[0;34m\u001b[0m\u001b[0;34m\u001b[0m\u001b[0m\n\u001b[1;32m      9\u001b[0m         \u001b[0mprint\u001b[0m\u001b[0;34m(\u001b[0m\u001b[0;34m'Running mapper %d on fast data...'\u001b[0m \u001b[0;34m%\u001b[0m \u001b[0mitera\u001b[0m\u001b[0;34m)\u001b[0m\u001b[0;34m\u001b[0m\u001b[0m\n\u001b[0;32m---> 10\u001b[0;31m         \u001b[0mresults_fast\u001b[0m \u001b[0;34m=\u001b[0m \u001b[0mrun_mapper\u001b[0m\u001b[0;34m(\u001b[0m\u001b[0mX_fast\u001b[0m\u001b[0;34m,\u001b[0m\u001b[0mdf_rsn_fast\u001b[0m\u001b[0;34m,\u001b[0m\u001b[0mverbose\u001b[0m\u001b[0;34m=\u001b[0m\u001b[0;36m1\u001b[0m\u001b[0;34m,\u001b[0m\u001b[0mcover\u001b[0m\u001b[0;34m=\u001b[0m\u001b[0mkm\u001b[0m\u001b[0;34m.\u001b[0m\u001b[0mCover\u001b[0m\u001b[0;34m(\u001b[0m\u001b[0mres\u001b[0m\u001b[0;34m,\u001b[0m\u001b[0moverlap\u001b[0m\u001b[0;34m)\u001b[0m\u001b[0;34m)\u001b[0m\u001b[0;34m\u001b[0m\u001b[0m\n\u001b[0m\u001b[1;32m     11\u001b[0m         \u001b[0;31m# Visualize DyNeuGraph\u001b[0m\u001b[0;34m\u001b[0m\u001b[0;34m\u001b[0m\u001b[0m\n\u001b[1;32m     12\u001b[0m         \u001b[0mresults_fast\u001b[0m\u001b[0;34m[\u001b[0m\u001b[0;34m'dG'\u001b[0m\u001b[0;34m]\u001b[0m\u001b[0;34m.\u001b[0m\u001b[0mvisualize\u001b[0m\u001b[0;34m(\u001b[0m\u001b[0mpath_html\u001b[0m\u001b[0;34m=\u001b[0m\u001b[0;34m'results/fast_super_R%d_G%d.html'\u001b[0m \u001b[0;34m%\u001b[0m \u001b[0;34m(\u001b[0m\u001b[0mres\u001b[0m\u001b[0;34m,\u001b[0m\u001b[0mint\u001b[0m\u001b[0;34m(\u001b[0m\u001b[0mgain\u001b[0m\u001b[0;34m)\u001b[0m\u001b[0;34m)\u001b[0m\u001b[0;34m,\u001b[0m \u001b[0mshow\u001b[0m\u001b[0;34m=\u001b[0m\u001b[0;32mFalse\u001b[0m\u001b[0;34m,\u001b[0m \u001b[0mreset\u001b[0m\u001b[0;34m=\u001b[0m\u001b[0;32mTrue\u001b[0m\u001b[0;34m,\u001b[0m \u001b[0mstatic\u001b[0m\u001b[0;34m=\u001b[0m\u001b[0;32mFalse\u001b[0m\u001b[0;34m,\u001b[0m \u001b[0mPORT\u001b[0m\u001b[0;34m=\u001b[0m\u001b[0;36m8800\u001b[0m\u001b[0;34m)\u001b[0m\u001b[0;34m\u001b[0m\u001b[0m\n",
      "\u001b[0;32m~/Documents/Stanford/Fall 2018/caffeine-mapper/utils.py\u001b[0m in \u001b[0;36mrun_mapper\u001b[0;34m(X, y, X_inverse, lens, verbose, **params)\u001b[0m\n\u001b[1;32m    130\u001b[0m     \u001b[0;31m# dG\u001b[0m\u001b[0;34m\u001b[0m\u001b[0;34m\u001b[0m\u001b[0m\n\u001b[1;32m    131\u001b[0m     \u001b[0mdG\u001b[0m \u001b[0;34m=\u001b[0m \u001b[0mds\u001b[0m\u001b[0;34m.\u001b[0m\u001b[0mDyNeuGraph\u001b[0m\u001b[0;34m(\u001b[0m\u001b[0;34m)\u001b[0m\u001b[0;34m\u001b[0m\u001b[0m\n\u001b[0;32m--> 132\u001b[0;31m     \u001b[0mdG\u001b[0m\u001b[0;34m.\u001b[0m\u001b[0mfit\u001b[0m\u001b[0;34m(\u001b[0m\u001b[0mgraph\u001b[0m\u001b[0;34m,\u001b[0m \u001b[0my\u001b[0m\u001b[0;34m=\u001b[0m\u001b[0my\u001b[0m\u001b[0;34m)\u001b[0m\u001b[0;34m\u001b[0m\u001b[0m\n\u001b[0m\u001b[1;32m    133\u001b[0m \u001b[0;34m\u001b[0m\u001b[0m\n\u001b[1;32m    134\u001b[0m     \u001b[0;31m# save results\u001b[0m\u001b[0;34m\u001b[0m\u001b[0;34m\u001b[0m\u001b[0m\n",
      "\u001b[0;32m~/Documents/Stanford/Saggar_Lab/dyneusr/dyneusr/core.py\u001b[0m in \u001b[0;36mfit\u001b[0;34m(self, G, X, y, node_data, edge_data, G_data, **kwargs)\u001b[0m\n\u001b[1;32m     97\u001b[0m                 \u001b[0;31m# process graph\u001b[0m\u001b[0;34m\u001b[0m\u001b[0;34m\u001b[0m\u001b[0m\n\u001b[1;32m     98\u001b[0m                 \u001b[0mG\u001b[0m \u001b[0;34m=\u001b[0m \u001b[0mtools\u001b[0m\u001b[0;34m.\u001b[0m\u001b[0mprocess_graph\u001b[0m\u001b[0;34m(\u001b[0m\u001b[0mG\u001b[0m\u001b[0;34m,\u001b[0m \u001b[0mmeta\u001b[0m\u001b[0;34m=\u001b[0m\u001b[0my\u001b[0m\u001b[0;34m,\u001b[0m \u001b[0;34m**\u001b[0m\u001b[0mkwargs\u001b[0m\u001b[0;34m)\u001b[0m\u001b[0;34m\u001b[0m\u001b[0m\n\u001b[0;32m---> 99\u001b[0;31m                 \u001b[0mA\u001b[0m\u001b[0;34m,\u001b[0m \u001b[0mM\u001b[0m\u001b[0;34m,\u001b[0m \u001b[0mTCM\u001b[0m \u001b[0;34m=\u001b[0m \u001b[0mtools\u001b[0m\u001b[0;34m.\u001b[0m\u001b[0mextract_matrices\u001b[0m\u001b[0;34m(\u001b[0m\u001b[0mG\u001b[0m\u001b[0;34m)\u001b[0m\u001b[0;34m\u001b[0m\u001b[0m\n\u001b[0m\u001b[1;32m    100\u001b[0m \u001b[0;34m\u001b[0m\u001b[0m\n\u001b[1;32m    101\u001b[0m                 \u001b[0;31m# create graph from TCM\u001b[0m\u001b[0;34m\u001b[0m\u001b[0;34m\u001b[0m\u001b[0m\n",
      "\u001b[0;32m~/Documents/Stanford/Saggar_Lab/dyneusr/dyneusr/tools/graph_utils.py\u001b[0m in \u001b[0;36mextract_matrices\u001b[0;34m(G)\u001b[0m\n\u001b[1;32m    323\u001b[0m         \u001b[0msource_TRs\u001b[0m \u001b[0;34m=\u001b[0m \u001b[0;34m[\u001b[0m\u001b[0mnode_to_members\u001b[0m\u001b[0;34m[\u001b[0m\u001b[0mn\u001b[0m\u001b[0;34m]\u001b[0m \u001b[0;32mfor\u001b[0m \u001b[0mn\u001b[0m \u001b[0;32min\u001b[0m \u001b[0mTR_nodes\u001b[0m\u001b[0;34m]\u001b[0m\u001b[0;34m\u001b[0m\u001b[0m\n\u001b[1;32m    324\u001b[0m         \u001b[0mtarget_TRs\u001b[0m \u001b[0;34m=\u001b[0m \u001b[0;34m[\u001b[0m\u001b[0mnode_to_members\u001b[0m\u001b[0;34m[\u001b[0m\u001b[0mnbr\u001b[0m\u001b[0;34m]\u001b[0m \u001b[0;32mfor\u001b[0m \u001b[0mn\u001b[0m \u001b[0;32min\u001b[0m \u001b[0mG\u001b[0m \u001b[0;32mfor\u001b[0m \u001b[0mnbr\u001b[0m \u001b[0;32min\u001b[0m \u001b[0mG\u001b[0m\u001b[0;34m.\u001b[0m\u001b[0mneighbors\u001b[0m\u001b[0;34m(\u001b[0m\u001b[0mn\u001b[0m\u001b[0;34m)\u001b[0m\u001b[0;34m]\u001b[0m\u001b[0;34m\u001b[0m\u001b[0m\n\u001b[0;32m--> 325\u001b[0;31m         \u001b[0msimilar_TRs\u001b[0m \u001b[0;34m=\u001b[0m \u001b[0mlist\u001b[0m\u001b[0;34m(\u001b[0m\u001b[0mset\u001b[0m\u001b[0;34m(\u001b[0m\u001b[0m__\u001b[0m \u001b[0;32mfor\u001b[0m \u001b[0m_\u001b[0m \u001b[0;32min\u001b[0m \u001b[0msource_TRs\u001b[0m\u001b[0;34m+\u001b[0m\u001b[0mtarget_TRs\u001b[0m \u001b[0;32mfor\u001b[0m \u001b[0m__\u001b[0m \u001b[0;32min\u001b[0m \u001b[0m_\u001b[0m\u001b[0;34m)\u001b[0m\u001b[0;34m)\u001b[0m\u001b[0;34m\u001b[0m\u001b[0m\n\u001b[0m\u001b[1;32m    326\u001b[0m \u001b[0;34m\u001b[0m\u001b[0m\n\u001b[1;32m    327\u001b[0m         \u001b[0;31m# normalized node degrees\u001b[0m\u001b[0;34m\u001b[0m\u001b[0;34m\u001b[0m\u001b[0m\n",
      "\u001b[0;32m~/Documents/Stanford/Saggar_Lab/dyneusr/dyneusr/tools/graph_utils.py\u001b[0m in \u001b[0;36m<genexpr>\u001b[0;34m(.0)\u001b[0m\n\u001b[1;32m    323\u001b[0m         \u001b[0msource_TRs\u001b[0m \u001b[0;34m=\u001b[0m \u001b[0;34m[\u001b[0m\u001b[0mnode_to_members\u001b[0m\u001b[0;34m[\u001b[0m\u001b[0mn\u001b[0m\u001b[0;34m]\u001b[0m \u001b[0;32mfor\u001b[0m \u001b[0mn\u001b[0m \u001b[0;32min\u001b[0m \u001b[0mTR_nodes\u001b[0m\u001b[0;34m]\u001b[0m\u001b[0;34m\u001b[0m\u001b[0m\n\u001b[1;32m    324\u001b[0m         \u001b[0mtarget_TRs\u001b[0m \u001b[0;34m=\u001b[0m \u001b[0;34m[\u001b[0m\u001b[0mnode_to_members\u001b[0m\u001b[0;34m[\u001b[0m\u001b[0mnbr\u001b[0m\u001b[0;34m]\u001b[0m \u001b[0;32mfor\u001b[0m \u001b[0mn\u001b[0m \u001b[0;32min\u001b[0m \u001b[0mG\u001b[0m \u001b[0;32mfor\u001b[0m \u001b[0mnbr\u001b[0m \u001b[0;32min\u001b[0m \u001b[0mG\u001b[0m\u001b[0;34m.\u001b[0m\u001b[0mneighbors\u001b[0m\u001b[0;34m(\u001b[0m\u001b[0mn\u001b[0m\u001b[0;34m)\u001b[0m\u001b[0;34m]\u001b[0m\u001b[0;34m\u001b[0m\u001b[0m\n\u001b[0;32m--> 325\u001b[0;31m         \u001b[0msimilar_TRs\u001b[0m \u001b[0;34m=\u001b[0m \u001b[0mlist\u001b[0m\u001b[0;34m(\u001b[0m\u001b[0mset\u001b[0m\u001b[0;34m(\u001b[0m\u001b[0m__\u001b[0m \u001b[0;32mfor\u001b[0m \u001b[0m_\u001b[0m \u001b[0;32min\u001b[0m \u001b[0msource_TRs\u001b[0m\u001b[0;34m+\u001b[0m\u001b[0mtarget_TRs\u001b[0m \u001b[0;32mfor\u001b[0m \u001b[0m__\u001b[0m \u001b[0;32min\u001b[0m \u001b[0m_\u001b[0m\u001b[0;34m)\u001b[0m\u001b[0;34m)\u001b[0m\u001b[0;34m\u001b[0m\u001b[0m\n\u001b[0m\u001b[1;32m    326\u001b[0m \u001b[0;34m\u001b[0m\u001b[0m\n\u001b[1;32m    327\u001b[0m         \u001b[0;31m# normalized node degrees\u001b[0m\u001b[0;34m\u001b[0m\u001b[0;34m\u001b[0m\u001b[0m\n",
      "\u001b[0;31mKeyboardInterrupt\u001b[0m: "
     ]
    }
   ],
   "source": [
    "# Sweep through resolution and gain\n",
    "resolutions = [10,30,50,70]\n",
    "gains = [2.,3.,4.,5.]\n",
    "itera = 1\n",
    "for res in resolutions:\n",
    "    for gain in gains:\n",
    "        overlap = (gain - 1) / gain\n",
    "        # Run Mapper/DyNeuSR\n",
    "        print('Running mapper %d on fast data...' % itera)\n",
    "        results_fast = run_mapper(X_fast,df_rsn_fast,verbose=1,cover=km.Cover(res,overlap))\n",
    "        # Visualize DyNeuGraph\n",
    "        results_fast['dG'].visualize(path_html='results/fast_super_R%d_G%d.html' % (res,int(gain)), show=False, reset=True, static=False, PORT=8800)\n",
    "        itera = itera + 1"
   ]
  }
 ],
 "metadata": {
  "kernelspec": {
   "display_name": "Python 3",
   "language": "python",
   "name": "python3"
  },
  "language_info": {
   "codemirror_mode": {
    "name": "ipython",
    "version": 3
   },
   "file_extension": ".py",
   "mimetype": "text/x-python",
   "name": "python",
   "nbconvert_exporter": "python",
   "pygments_lexer": "ipython3",
   "version": "3.6.2"
  }
 },
 "nbformat": 4,
 "nbformat_minor": 2
}
